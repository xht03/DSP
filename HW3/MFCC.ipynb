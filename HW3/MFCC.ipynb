{
 "cells": [
  {
   "cell_type": "code",
   "execution_count": 54,
   "id": "9c91826d",
   "metadata": {},
   "outputs": [],
   "source": [
    "import os\n",
    "from pydub import AudioSegment\n",
    "import librosa\n",
    "import numpy as np\n",
    "import matplotlib.pyplot as plt\n",
    "import pandas as pd"
   ]
  },
  {
   "cell_type": "code",
   "execution_count": 55,
   "id": "a37d2379",
   "metadata": {},
   "outputs": [],
   "source": [
    "# 将 m4a 格式转换为 wav 格式\n",
    "def formatConvert(audio_path, audio_format):\n",
    "    audio_name = os.path.splitext(audio_path)[0]\n",
    "    audio = AudioSegment.from_file(audio_path, format=audio_format)\n",
    "    audio.export(audio_name + \".wav\", format=\"wav\")"
   ]
  },
  {
   "cell_type": "code",
   "execution_count": 56,
   "id": "759e8d97",
   "metadata": {},
   "outputs": [],
   "source": [
    "formatConvert(\"audio/shop.m4a\", \"m4a\")"
   ]
  },
  {
   "cell_type": "markdown",
   "id": "a21ad025",
   "metadata": {},
   "source": [
    "预加重的好处：\n",
    "\n",
    "1. 语音信号的高频部分（如辅音）通常比低频部分（如元音）能量弱。\n",
    "\n",
    "2. 高频部分包含许多重要的语音特征信息。\n",
    "\n",
    "3. 预加重可以提升高频分量，使整个频谱更加平坦，便于后续分析。\n",
    "\n",
    "预加重的原理是一个简单的高通滤波器：\n",
    "\n",
    "$$\n",
    "H(z) = 1 - \\alpha z^{-1}\n",
    "$$\n",
    "\n",
    "假设原输入信号为 $x[n]$，预加重后的信号为 $y[n]$，则有：\n",
    "\n",
    "$$\n",
    "Y(z) = H(z)X(z) = (1 - \\alpha z^{-1})X(z) = X(z) - \\alpha z^{-1}X(z)\n",
    "$$\n",
    "\n",
    "那么，\n",
    "\n",
    "$$\n",
    "y[n] = x[n] - \\alpha x[n-1]\n",
    "$$"
   ]
  },
  {
   "cell_type": "code",
   "execution_count": 57,
   "id": "1e382d82",
   "metadata": {},
   "outputs": [],
   "source": [
    "# 预加重\n",
    "def preEmphasis(x, alpha=0.97):\n",
    "    return np.append(x[0], x[1:] - alpha * x[:-1])"
   ]
  },
  {
   "cell_type": "code",
   "execution_count": 58,
   "id": "c3d13853",
   "metadata": {},
   "outputs": [],
   "source": [
    "def FFT(x):\n",
    "\n",
    "    x = np.asarray(x, dtype=complex)\n",
    "    N = len(x)\n",
    "    assert N > 0 and (N & (N - 1)) == 0, \"N must be a power of 2\"\n",
    "    \n",
    "    if N <= 1:\n",
    "        return x\n",
    "    \n",
    "    # X(k) = G(k) + e^(-2πk/N) H(k)\n",
    "    G = FFT(x[0::2])     # g(r) = x(2r)\n",
    "    H = FFT(x[1::2])      # h(r) = x(2r+1)\n",
    "    \n",
    "    # 旋转因子列表\n",
    "    # W1, W2, ..., W(N/2-1)\n",
    "    W = np.exp(-2j * np.pi * np.arange(N // 2) / N)\n",
    "    \n",
    "    # \n",
    "    X = np.zeros(N, dtype=complex)\n",
    "    X[:N//2] = G + W * H\n",
    "    X[N//2:] = G - W * H\n",
    "    \n",
    "    return X"
   ]
  },
  {
   "cell_type": "code",
   "execution_count": 59,
   "id": "96adf11e",
   "metadata": {},
   "outputs": [],
   "source": [
    "# 计算 STFT\n",
    "# y: 音频信号\n",
    "# sr: 采样率\n",
    "# win: 窗口大小\n",
    "# step: 步长\n",
    "def STFT(y, sr, win, step):\n",
    "    # 分帧\n",
    "    frames = []\n",
    "    for i in range(0, len(y) - win, step):\n",
    "        frame = np.hanning(win) * y[i:i + win]\n",
    "        frames.append(frame)\n",
    "    \n",
    "    # 计算 STFT\n",
    "    stft = []\n",
    "    for frame in frames:\n",
    "        # 计算 FFT\n",
    "        fft = FFT(frame)\n",
    "        stft.append(np.abs(fft[:win // 2 + 1])) # 幅值取绝对值，只关心正频率\n",
    "    \n",
    "    # 转置为 (频率, 时间) 形式\n",
    "    return np.array(stft).T"
   ]
  },
  {
   "cell_type": "markdown",
   "id": "2a17983a",
   "metadata": {},
   "source": [
    "Mel 滤波器是一组三角形带通滤波器，排列在 Mel 频率刻度上，用于将线性频谱转换为（符合人耳感知的）Mel 频谱。\n",
    "\n",
    "- 数量：通常 20-40 个（常用26个）\n",
    "\n",
    "- ​分布：在 Mel 频率刻度上非均匀分布（低频密集，高频稀疏）\n",
    "\n",
    "- ​形状：三角形，相邻滤波器有 50% 的重叠区域"
   ]
  },
  {
   "cell_type": "code",
   "execution_count": 60,
   "id": "170d5150",
   "metadata": {},
   "outputs": [],
   "source": [
    "def hz2mel(hz):\n",
    "    return 2595 * np.log10(1 + hz / 700)\n",
    "\n",
    "def mel2hz(mel):\n",
    "    return 700 * (10**(mel / 2595) - 1)"
   ]
  },
  {
   "cell_type": "code",
   "execution_count": 61,
   "id": "8adb9a43",
   "metadata": {},
   "outputs": [],
   "source": [
    "# Mel 滤波器组\n",
    "def melFilterBank(sr, n_fft, n_filter):\n",
    "    min_hz = 0\n",
    "    max_hz = sr / 2\n",
    "\n",
    "    min_mel = hz2mel(min_hz)\n",
    "    max_mel = hz2mel(max_hz)\n",
    "\n",
    "    # 在梅尔刻度上均匀分布\n",
    "    mel_points = np.linspace(min_mel, max_mel, n_filter + 2)\n",
    "    hz_points = mel2hz(mel_points)\n",
    "\n",
    "    indices = np.floor((n_fft + 1) * hz_points / sr).astype(int)    # 在 FFT 结果数组中的索引\n",
    "\n",
    "    # 空滤波器组\n",
    "    filterbank = np.zeros((n_filter, n_fft // 2 + 1))\n",
    "\n",
    "    # 构建每一个滤波器\n",
    "    for i in range(n_filter):\n",
    "        left = indices[i]\n",
    "        center = indices[i+1]\n",
    "        right = indices[i+2]\n",
    "\n",
    "        # 三角形滤波器\n",
    "        for j in range(left, center):\n",
    "            filterbank[i][j] = (j - left) / (center - left)\n",
    "        for j in range(center, right):\n",
    "            filterbank[i][j] = (right - j) / (right - center)\n",
    "\n",
    "    return filterbank"
   ]
  },
  {
   "cell_type": "code",
   "execution_count": 62,
   "id": "3bef4368",
   "metadata": {},
   "outputs": [],
   "source": [
    "# 计算 MFCC\n",
    "# y: 音频信号\n",
    "# sr: 采样率\n",
    "# N: 窗口大小\n",
    "# D: MFCC系数数量，通常为 12~16\n",
    "# M: Mel 滤波器组数量，通常为 20~40\n",
    "def computeMFCC(y, sr, N, D=13, M=26):\n",
    "    # 预加重\n",
    "    y_ = preEmphasis(y)\n",
    "\n",
    "    # 分帧 + STFT\n",
    "    spec = STFT(y_, sr, N, N//2)                # (频率, 窗口)\n",
    "\n",
    "    # 转换为功率谱\n",
    "    power_spec = np.square(spec) / N            # (频率, 窗口)\n",
    "\n",
    "    # 应用 Mel 滤波器组\n",
    "    filter_bank = melFilterBank(sr, N, M)\n",
    "    mel_spec = np.dot(filter_bank, power_spec)  # (滤波器数量, 窗口)\n",
    "\n",
    "    # 离散余弦变换(DCT)\n",
    "    log_mel_spec = np.log(mel_spec + 1e-10)     # 取对数\n",
    "    mfcc = np.zeros((D, log_mel_spec.shape[1])) # (系数数量, 窗口数量)\n",
    "    for i in range(D):\n",
    "        for j in range(M):\n",
    "            mfcc[i] += log_mel_spec[j] * np.cos(np.pi * (j - 0.5) * i / M)\n",
    "\n",
    "    return mfcc"
   ]
  },
  {
   "cell_type": "code",
   "execution_count": 63,
   "id": "67f62f4d",
   "metadata": {},
   "outputs": [],
   "source": [
    "# 打印 MFCC\n",
    "def printMFCC(mfcc, max_frames=10):\n",
    "    n_coeffs, n_frames = mfcc.shape\n",
    "    frames_to_show = min(max_frames, n_frames)\n",
    "    \n",
    "    data = mfcc[:, :frames_to_show]\n",
    "    \n",
    "    df = pd.DataFrame(\n",
    "        data, \n",
    "        index=[f\"MFCC {i}\" for i in range(n_coeffs)],\n",
    "        columns=[f\"frame{i+1}\" for i in range(frames_to_show)]\n",
    "    )\n",
    "    \n",
    "    # 设置显示格式\n",
    "    pd.set_option('display.width', 200)       # 增加显示宽度\n",
    "    pd.set_option('display.max_columns', None) # 显示所有列\n",
    "    pd.set_option('display.precision', 2)      # 设置小数精度\n",
    "    \n",
    "    # 显示表格\n",
    "    print(\"总共有 %d 帧，这里显示前 %d 帧\" % (n_frames, frames_to_show))\n",
    "    print(\"MFCC 系数数量: %d\" % n_coeffs)\n",
    "    print(df)"
   ]
  },
  {
   "cell_type": "code",
   "execution_count": 64,
   "id": "b030ee9c",
   "metadata": {},
   "outputs": [],
   "source": [
    "# 可视化MFCC\n",
    "def visualizeMFCC(mfcc):\n",
    "    plt.figure(figsize=(12, 6))\n",
    "    plt.imshow(mfcc, cmap='viridis')\n",
    "    plt.colorbar()\n",
    "    plt.title(\"MFCC\")\n",
    "    plt.xlabel(\"frame\")\n",
    "    plt.ylabel(\"MFCC coefficients\")\n",
    "    plt.tight_layout()\n",
    "    plt.show()"
   ]
  },
  {
   "cell_type": "code",
   "execution_count": 65,
   "id": "2220d783",
   "metadata": {},
   "outputs": [],
   "source": [
    "sample_rate = 8000\n",
    "y, _ = librosa.load(\"audio/shop.wav\", sr=sample_rate)\n",
    "mfcc = computeMFCC(y, sample_rate, 512, D=13, M=26)"
   ]
  },
  {
   "cell_type": "code",
   "execution_count": 66,
   "id": "e3e43968",
   "metadata": {},
   "outputs": [
    {
     "name": "stdout",
     "output_type": "stream",
     "text": [
      "总共有 66 帧，这里显示前 10 帧\n",
      "MFCC 系数数量: 13\n",
      "         frame1  frame2  frame3  frame4  frame5  frame6  frame7  frame8  frame9  frame10\n",
      "MFCC 0  -563.95 -383.09 -344.04 -315.49 -306.13 -306.10 -304.32 -304.68 -299.27  -300.50\n",
      "MFCC 1   -62.14  -43.99  -40.47  -35.67  -34.95  -35.29  -34.17  -36.31  -34.47   -35.28\n",
      "MFCC 2     3.44   -1.71   -6.77   -1.05   -6.02   -5.29   -4.67   -4.22   -6.01    -5.56\n",
      "MFCC 3   -42.55  -29.96  -29.33  -26.91  -26.54  -22.32  -22.77  -20.97  -17.97   -23.34\n",
      "MFCC 4    -3.91   -0.14   -3.02   -4.32   -6.57    0.67    1.35   -1.26   -0.71    -3.95\n",
      "MFCC 5   -40.55  -21.19  -25.38  -21.39  -24.74  -19.58  -19.59  -19.88  -23.04   -24.16\n",
      "MFCC 6    -5.41   -5.42   -7.22   -7.05   -8.08   -6.82   -4.79   -5.25   -5.05    -7.58\n",
      "MFCC 7   -36.91  -32.52  -26.32  -26.23  -26.63  -23.15  -26.03  -24.57  -26.01   -26.33\n",
      "MFCC 8    -3.25   -7.22   -0.99   -1.75   -5.89   -4.05   -6.33   -3.92   -3.65    -1.87\n",
      "MFCC 9   -37.94  -27.62  -24.36  -22.19  -22.76  -24.95  -24.52  -21.99  -23.95   -21.83\n",
      "MFCC 10   -3.06   -4.28   -4.81   -5.50   -3.83   -5.10   -6.03   -4.62   -2.51    -6.39\n",
      "MFCC 11  -33.18  -25.52  -25.02  -20.98  -23.79  -22.98  -24.80  -25.29  -21.36   -25.61\n",
      "MFCC 12   -3.87   -3.97   -4.71   -3.23   -3.29   -3.96   -3.28   -4.37   -3.24    -4.51\n"
     ]
    }
   ],
   "source": [
    "printMFCC(mfcc, 10)"
   ]
  },
  {
   "cell_type": "code",
   "execution_count": 67,
   "id": "132e117b",
   "metadata": {},
   "outputs": [
    {
     "data": {
      "image/png": "[encoded data removed]",
      "text/plain": [
       "<Figure size 1200x600 with 2 Axes>"
      ]
     },
     "metadata": {},
     "output_type": "display_data"
    }
   ],
   "source": [
    "visualizeMFCC(mfcc)"
   ]
  }
 ],
 "metadata": {
  "kernelspec": {
   "display_name": "base",
   "language": "python",
   "name": "python3"
  },
  "language_info": {
   "codemirror_mode": {
    "name": "ipython",
    "version": 3
   },
   "file_extension": ".py",
   "mimetype": "text/x-python",
   "name": "python",
   "nbconvert_exporter": "python",
   "pygments_lexer": "ipython3",
   "version": "3.12.9"
  }
 },
 "nbformat": 4,
 "nbformat_minor": 5
}
