{
 "cells": [
  {
   "cell_type": "code",
   "execution_count": 12,
   "id": "6fedb509",
   "metadata": {},
   "outputs": [],
   "source": [
    "import os\n",
    "import numpy as np\n",
    "import matplotlib.pyplot as plt\n",
    "from tqdm import tqdm\n",
    "from dsp import *"
   ]
  },
  {
   "cell_type": "markdown",
   "id": "92dc18ed",
   "metadata": {},
   "source": [
    "我们希望使用 SVM 实现语音识别，步骤如下：\n",
    "\n",
    "1. 特征提取\n",
    "\n",
    "2. 模型训练\n",
    "\n",
    "3. 模型识别"
   ]
  },
  {
   "cell_type": "code",
   "execution_count": 13,
   "id": "e6030fed",
   "metadata": {},
   "outputs": [],
   "source": [
    "def readDat(filepath):\n",
    "    # 使用16位有符号整数(int16)格式读取原始数据\n",
    "    y = np.fromfile(filepath, dtype=np.int16)\n",
    "    # 将整数值归一化到[-1, 1]范围\n",
    "    y = y.astype(np.float32) / 32768.0\n",
    "    return y"
   ]
  },
  {
   "cell_type": "code",
   "execution_count": 14,
   "id": "87b25837",
   "metadata": {},
   "outputs": [],
   "source": [
    "# 特征提取\n",
    "def extractFeature(audio_file, sr=8000, win=256, step=160):\n",
    "    y = readDat(audio_file)\n",
    "    \n",
    "    segments = vad(y, sr, win, step)\n",
    "\n",
    "    if len(segments) == 0:\n",
    "        print(f\"警告: {audio_file} 没有检测到语音段\")\n",
    "        return None\n",
    "    \n",
    "    # 取所有音频段的起始和结束时间\n",
    "    start = segments[0][0]\n",
    "    end = segments[-1][1]\n",
    "    y_speech = y[int(start):int(end)]\n",
    "    \n",
    "    # 确保语音段足够长\n",
    "    min_length = win * 2  # 确保能生成至少一个完整的STFT帧\n",
    "    if len(y_speech) < min_length:\n",
    "        print(f\"警告: {audio_file} 语音段太短({len(y_speech)}采样点)，填充至{min_length}采样点\")\n",
    "        y_speech = np.pad(y_speech, (0, min_length - len(y_speech)), 'constant')\n",
    "        # return None\n",
    "\n",
    "\n",
    "    # 提取MFCC特征\n",
    "    mfcc_feature = computeMFCC(y_speech, sr, win, D=13, M=26)\n",
    "\n",
    "    mfcc_mean = np.mean(mfcc_feature, axis=1)\n",
    "    mfcc_std = np.std(mfcc_feature, axis=1)\n",
    "    mfcc_max = np.max(mfcc_feature, axis=1)\n",
    "    mfcc_min = np.min(mfcc_feature, axis=1)\n",
    "\n",
    "\n",
    "    feature = np.concatenate([mfcc_mean, mfcc_std, mfcc_max, mfcc_min])\n",
    "\n",
    "    return feature"
   ]
  },
  {
   "cell_type": "code",
   "execution_count": 15,
   "id": "a4a2a8f8",
   "metadata": {},
   "outputs": [
    {
     "name": "stdout",
     "output_type": "stream",
     "text": [
      "(52,)\n"
     ]
    }
   ],
   "source": [
    "feature = extractFeature(\"../myData/00/22307110206-00-03.dat\")\n",
    "print(feature.shape)"
   ]
  },
  {
   "cell_type": "code",
   "execution_count": 16,
   "id": "036cf553",
   "metadata": {},
   "outputs": [],
   "source": [
    "# 准备数据集\n",
    "def prepareData(base_dir, classes):\n",
    "    features = []\n",
    "    labels = []\n",
    "\n",
    "    print(f\"开始从 {base_dir} 加载数据...\")\n",
    "    \n",
    "    total_files = 0         # 总文件数\n",
    "    error_files = 0         # 出错的文件数\n",
    "    \n",
    "    # 先计算总文件数\n",
    "    for idx, name in enumerate(classes):\n",
    "        class_dir = os.path.join(base_dir, str(idx).zfill(2))\n",
    "        if os.path.exists(class_dir):\n",
    "            for filename in os.listdir(class_dir):\n",
    "                if filename.endswith('.dat'):\n",
    "                    total_files += 1\n",
    "    print(f\"找到 {total_files} 个文件\")\n",
    "    \n",
    "    with tqdm(total=total_files, desc=\"总进度\") as pbar:\n",
    "        for idx, name in enumerate(classes):\n",
    "            class_dir = os.path.join(base_dir, str(idx).zfill(2))\n",
    "            \n",
    "            if not os.path.exists(class_dir):\n",
    "                print(f\"警告：目录 {class_dir} 不存在，跳过类别 '{name}'\")\n",
    "                continue\n",
    "                \n",
    "            class_files = [f for f in os.listdir(class_dir) if f.endswith('.dat')]\n",
    "            print(f\"正在处理类别 '{name}' ({len(class_files)}个文件)...\")\n",
    "            \n",
    "            for filename in class_files:\n",
    "                filepath = os.path.join(class_dir, filename)\n",
    "                feature = extractFeature(filepath)\n",
    "                if feature is not None:\n",
    "                    features.append(feature)\n",
    "                    labels.append(idx)\n",
    "                else:\n",
    "                    error_files += 1\n",
    "\n",
    "                pbar.set_postfix({\"出错文件数\": error_files})\n",
    "                pbar.update(1)\n",
    "            \n",
    "    print(f\"\\n处理完成: 共 {total_files} 个文件, 出错 {error_files} 个\")\n",
    "    if len(features) == 0:\n",
    "        raise ValueError(\"没有成功处理任何文件!请检查数据路径和文件格式\")\n",
    "    \n",
    "    return np.array(features), np.array(labels)"
   ]
  },
  {
   "cell_type": "code",
   "execution_count": 17,
   "id": "dc0cda0e",
   "metadata": {},
   "outputs": [],
   "source": [
    "from sklearn.model_selection import train_test_split\n",
    "from sklearn.preprocessing import StandardScaler\n",
    "from sklearn.svm import SVC\n",
    "from sklearn.metrics import classification_report, accuracy_score\n",
    "import joblib\n",
    "\n",
    "# 训练SVM模型\n",
    "def train_svm_model(features, labels, test_size=0.2, random_state=42):\n",
    "    # 分割训练集和测试集\n",
    "    x_train, x_test, y_train, y_test = train_test_split(\n",
    "        features, labels, test_size=test_size, random_state=random_state, stratify=labels\n",
    "    )\n",
    "    \n",
    "    # 特征标准化\n",
    "    scaler = StandardScaler()\n",
    "    X_train_scaled = scaler.fit_transform(x_train)\n",
    "    X_test_scaled = scaler.transform(x_test)\n",
    "    \n",
    "    # 训练SVM模型\n",
    "    svm = SVC(kernel='rbf', C=10, gamma='scale', probability=True)\n",
    "    svm.fit(X_train_scaled, y_train)\n",
    "    \n",
    "    # 评估模型\n",
    "    y_pred = svm.predict(X_test_scaled)\n",
    "    accuracy = accuracy_score(y_test, y_pred)\n",
    "    report = classification_report(y_test, y_pred)\n",
    "    \n",
    "    print(f\"Accuracy: {accuracy:.4f}\")\n",
    "    print(\"Classification Report:\")\n",
    "    print(report)\n",
    "    \n",
    "    # 保存模型和标准化器\n",
    "    joblib.dump(svm, 'svm/svm_model.pkl')\n",
    "    joblib.dump(scaler, 'svm/scaler.pkl')\n",
    "    \n",
    "    return svm, scaler, (X_test_scaled, y_test)"
   ]
  },
  {
   "cell_type": "code",
   "execution_count": 18,
   "id": "ce6a1c58",
   "metadata": {},
   "outputs": [],
   "source": [
    "# 使用模型进行识别\n",
    "def recognize_speech(audio_file, model, scaler, classes):\n",
    "    # 提取特征\n",
    "    feature = extractFeature(audio_file)\n",
    "    if feature is None:\n",
    "        return \"无法检测到语音\"\n",
    "    \n",
    "    # 标准化特征\n",
    "    features_scaled = scaler.transform(feature.reshape(1, -1))\n",
    "    \n",
    "    # 预测\n",
    "    probabilities = model.predict_proba(features_scaled)[0]\n",
    "    class_idx = np.argmax(probabilities)\n",
    "    confidence = probabilities[class_idx]\n",
    "    \n",
    "    return classes[class_idx], confidence"
   ]
  },
  {
   "cell_type": "code",
   "execution_count": 19,
   "id": "18fcd260",
   "metadata": {},
   "outputs": [
    {
     "name": "stdout",
     "output_type": "stream",
     "text": [
      "开始从 ../myData 加载数据...\n",
      "找到 2000 个文件\n"
     ]
    },
    {
     "name": "stderr",
     "output_type": "stream",
     "text": [
      "总进度:   0%|          | 0/2000 [00:00<?, ?it/s, 出错文件数=0]"
     ]
    },
    {
     "name": "stdout",
     "output_type": "stream",
     "text": [
      "正在处理类别 '数字' (100个文件)...\n"
     ]
    },
    {
     "name": "stderr",
     "output_type": "stream",
     "text": [
      "总进度:   5%|▌         | 100/2000 [00:12<02:14, 14.09it/s, 出错文件数=0]"
     ]
    },
    {
     "name": "stdout",
     "output_type": "stream",
     "text": [
      "正在处理类别 '语音' (100个文件)...\n"
     ]
    },
    {
     "name": "stderr",
     "output_type": "stream",
     "text": [
      "总进度:  10%|▉         | 199/2000 [00:24<02:26, 12.31it/s, 出错文件数=0]"
     ]
    },
    {
     "name": "stdout",
     "output_type": "stream",
     "text": [
      "正在处理类别 '语言' (100个文件)...\n"
     ]
    },
    {
     "name": "stderr",
     "output_type": "stream",
     "text": [
      "总进度:  15%|█▌        | 303/2000 [00:34<02:17, 12.37it/s, 出错文件数=0]"
     ]
    },
    {
     "name": "stdout",
     "output_type": "stream",
     "text": [
      "正在处理类别 '处理' (100个文件)...\n"
     ]
    },
    {
     "name": "stderr",
     "output_type": "stream",
     "text": [
      "总进度:  20%|██        | 402/2000 [00:47<02:29, 10.70it/s, 出错文件数=0]"
     ]
    },
    {
     "name": "stdout",
     "output_type": "stream",
     "text": [
      "正在处理类别 '中国' (100个文件)...\n"
     ]
    },
    {
     "name": "stderr",
     "output_type": "stream",
     "text": [
      "总进度:  25%|██▌       | 502/2000 [00:57<00:31, 48.17it/s, 出错文件数=0]"
     ]
    },
    {
     "name": "stdout",
     "output_type": "stream",
     "text": [
      "正在处理类别 '忠告' (100个文件)...\n"
     ]
    },
    {
     "name": "stderr",
     "output_type": "stream",
     "text": [
      "总进度:  30%|███       | 601/2000 [01:09<01:52, 12.44it/s, 出错文件数=0]"
     ]
    },
    {
     "name": "stdout",
     "output_type": "stream",
     "text": [
      "正在处理类别 '北京' (100个文件)...\n"
     ]
    },
    {
     "name": "stderr",
     "output_type": "stream",
     "text": [
      "总进度:  35%|███▌      | 703/2000 [01:30<03:19,  6.49it/s, 出错文件数=0]"
     ]
    },
    {
     "name": "stdout",
     "output_type": "stream",
     "text": [
      "正在处理类别 '背景' (100个文件)...\n"
     ]
    },
    {
     "name": "stderr",
     "output_type": "stream",
     "text": [
      "总进度:  40%|████      | 803/2000 [11:22<01:21, 14.74it/s, 出错文件数=0]   "
     ]
    },
    {
     "name": "stdout",
     "output_type": "stream",
     "text": [
      "正在处理类别 '上海' (100个文件)...\n"
     ]
    },
    {
     "name": "stderr",
     "output_type": "stream",
     "text": [
      "总进度:  45%|████▍     | 899/2000 [11:30<02:17,  8.01it/s, 出错文件数=0]"
     ]
    },
    {
     "name": "stdout",
     "output_type": "stream",
     "text": [
      "正在处理类别 '商行' (100个文件)...\n"
     ]
    },
    {
     "name": "stderr",
     "output_type": "stream",
     "text": [
      "总进度:  50%|█████     | 1004/2000 [11:35<00:58, 17.11it/s, 出错文件数=0]"
     ]
    },
    {
     "name": "stdout",
     "output_type": "stream",
     "text": [
      "正在处理类别 'Speech' (100个文件)...\n"
     ]
    },
    {
     "name": "stderr",
     "output_type": "stream",
     "text": [
      "总进度:  51%|█████▏    | 1026/2000 [11:37<01:07, 14.34it/s, 出错文件数=0]"
     ]
    },
    {
     "name": "stdout",
     "output_type": "stream",
     "text": [
      "警告: ../myData/10/22300240004_10_14.dat 语音段太短(480采样点)，填充至512采样点\n"
     ]
    },
    {
     "name": "stderr",
     "output_type": "stream",
     "text": [
      "总进度:  55%|█████▌    | 1104/2000 [11:43<00:47, 18.68it/s, 出错文件数=0]"
     ]
    },
    {
     "name": "stdout",
     "output_type": "stream",
     "text": [
      "正在处理类别 'Speaker' (100个文件)...\n"
     ]
    },
    {
     "name": "stderr",
     "output_type": "stream",
     "text": [
      "总进度:  60%|██████    | 1204/2000 [11:50<00:41, 19.03it/s, 出错文件数=0]"
     ]
    },
    {
     "name": "stdout",
     "output_type": "stream",
     "text": [
      "正在处理类别 'Signal' (100个文件)...\n"
     ]
    },
    {
     "name": "stderr",
     "output_type": "stream",
     "text": [
      "总进度:  65%|██████▌   | 1303/2000 [11:58<00:39, 17.49it/s, 出错文件数=0]"
     ]
    },
    {
     "name": "stdout",
     "output_type": "stream",
     "text": [
      "正在处理类别 'Sequence' (100个文件)...\n"
     ]
    },
    {
     "name": "stderr",
     "output_type": "stream",
     "text": [
      "总进度:  70%|███████   | 1402/2000 [12:06<00:45, 13.20it/s, 出错文件数=0]"
     ]
    },
    {
     "name": "stdout",
     "output_type": "stream",
     "text": [
      "正在处理类别 'Processing' (100个文件)...\n"
     ]
    },
    {
     "name": "stderr",
     "output_type": "stream",
     "text": [
      "总进度:  75%|███████▌  | 1500/2000 [12:15<00:27, 18.35it/s, 出错文件数=0]"
     ]
    },
    {
     "name": "stdout",
     "output_type": "stream",
     "text": [
      "正在处理类别 'Print' (100个文件)...\n"
     ]
    },
    {
     "name": "stderr",
     "output_type": "stream",
     "text": [
      "总进度:  80%|████████  | 1604/2000 [12:21<00:27, 14.27it/s, 出错文件数=0]"
     ]
    },
    {
     "name": "stdout",
     "output_type": "stream",
     "text": [
      "正在处理类别 'Project' (100个文件)...\n"
     ]
    },
    {
     "name": "stderr",
     "output_type": "stream",
     "text": [
      "总进度:  85%|████████▌ | 1705/2000 [12:30<00:15, 19.46it/s, 出错文件数=0]"
     ]
    },
    {
     "name": "stdout",
     "output_type": "stream",
     "text": [
      "正在处理类别 'File' (100个文件)...\n"
     ]
    },
    {
     "name": "stderr",
     "output_type": "stream",
     "text": [
      "总进度:  88%|████████▊ | 1763/2000 [12:35<00:23,  9.98it/s, 出错文件数=1]"
     ]
    },
    {
     "name": "stdout",
     "output_type": "stream",
     "text": [
      "警告: ../myData/17/23300240026-17-09.dat 没有检测到语音段\n"
     ]
    },
    {
     "name": "stderr",
     "output_type": "stream",
     "text": [
      "总进度:  90%|█████████ | 1800/2000 [12:37<00:09, 20.97it/s, 出错文件数=1]"
     ]
    },
    {
     "name": "stdout",
     "output_type": "stream",
     "text": [
      "正在处理类别 'Open' (100个文件)...\n"
     ]
    },
    {
     "name": "stderr",
     "output_type": "stream",
     "text": [
      "总进度:  95%|█████████▌| 1900/2000 [12:45<00:06, 16.16it/s, 出错文件数=1]"
     ]
    },
    {
     "name": "stdout",
     "output_type": "stream",
     "text": [
      "正在处理类别 'Close' (100个文件)...\n"
     ]
    },
    {
     "name": "stderr",
     "output_type": "stream",
     "text": [
      "总进度:  95%|█████████▌| 1906/2000 [12:46<00:08, 11.75it/s, 出错文件数=1]"
     ]
    },
    {
     "name": "stdout",
     "output_type": "stream",
     "text": [
      "警告: ../myData/19/23300240026-19-07.dat 语音段太短(480采样点)，填充至512采样点\n"
     ]
    },
    {
     "name": "stderr",
     "output_type": "stream",
     "text": [
      "总进度:  98%|█████████▊| 1957/2000 [12:50<00:02, 15.15it/s, 出错文件数=2]"
     ]
    },
    {
     "name": "stdout",
     "output_type": "stream",
     "text": [
      "警告: ../myData/19/23300240026-19-13.dat 没有检测到语音段\n"
     ]
    },
    {
     "name": "stderr",
     "output_type": "stream",
     "text": [
      "总进度: 100%|██████████| 2000/2000 [12:53<00:00,  2.58it/s, 出错文件数=2]"
     ]
    },
    {
     "name": "stdout",
     "output_type": "stream",
     "text": [
      "\n",
      "处理完成: 共 2000 个文件, 出错 2 个\n"
     ]
    },
    {
     "name": "stderr",
     "output_type": "stream",
     "text": [
      "\n"
     ]
    }
   ],
   "source": [
    "classes = [\"数字\", \"语音\", \"语言\", \"处理\", \"中国\", \"忠告\", \"北京\", \"背景\", \"上海\", \"商行\",\n",
    "              \"Speech\", \"Speaker\", \"Signal\", \"Sequence\", \"Processing\", \"Print\", \"Project\", \"File\", \"Open\", \"Close\"]\n",
    "\n",
    "# 准备训练数据\n",
    "features, labels = prepareData('../myData', classes)"
   ]
  },
  {
   "cell_type": "code",
   "execution_count": 20,
   "id": "571356e1",
   "metadata": {},
   "outputs": [
    {
     "name": "stdout",
     "output_type": "stream",
     "text": [
      "Accuracy: 0.8650\n",
      "Classification Report:\n",
      "              precision    recall  f1-score   support\n",
      "\n",
      "           0       1.00      0.85      0.92        20\n",
      "           1       0.77      1.00      0.87        20\n",
      "           2       1.00      0.85      0.92        20\n",
      "           3       0.79      0.95      0.86        20\n",
      "           4       1.00      0.90      0.95        20\n",
      "           5       0.94      0.85      0.89        20\n",
      "           6       0.69      0.90      0.78        20\n",
      "           7       0.93      0.70      0.80        20\n",
      "           8       0.95      0.95      0.95        20\n",
      "           9       0.94      0.85      0.89        20\n",
      "          10       0.78      0.90      0.84        20\n",
      "          11       0.65      0.75      0.70        20\n",
      "          12       0.90      0.90      0.90        20\n",
      "          13       1.00      0.85      0.92        20\n",
      "          14       0.89      0.85      0.87        20\n",
      "          15       0.82      0.90      0.86        20\n",
      "          16       0.77      0.85      0.81        20\n",
      "          17       0.90      0.90      0.90        20\n",
      "          18       1.00      0.65      0.79        20\n",
      "          19       0.86      0.95      0.90        20\n",
      "\n",
      "    accuracy                           0.86       400\n",
      "   macro avg       0.88      0.86      0.87       400\n",
      "weighted avg       0.88      0.86      0.87       400\n",
      "\n"
     ]
    }
   ],
   "source": [
    "# 训练模型\n",
    "svm_model, scaler, test_data = train_svm_model(features, labels)"
   ]
  },
  {
   "cell_type": "code",
   "execution_count": 21,
   "id": "486a5392",
   "metadata": {},
   "outputs": [
    {
     "name": "stdout",
     "output_type": "stream",
     "text": [
      "Accuracy: 0.8650\n",
      "Classification Report:\n",
      "              precision    recall  f1-score   support\n",
      "\n",
      "           0       1.00      0.85      0.92        20\n",
      "           1       0.77      1.00      0.87        20\n",
      "           2       1.00      0.85      0.92        20\n",
      "           3       0.79      0.95      0.86        20\n",
      "           4       1.00      0.90      0.95        20\n",
      "           5       0.94      0.85      0.89        20\n",
      "           6       0.69      0.90      0.78        20\n",
      "           7       0.93      0.70      0.80        20\n",
      "           8       0.95      0.95      0.95        20\n",
      "           9       0.94      0.85      0.89        20\n",
      "          10       0.78      0.90      0.84        20\n",
      "          11       0.65      0.75      0.70        20\n",
      "          12       0.90      0.90      0.90        20\n",
      "          13       1.00      0.85      0.92        20\n",
      "          14       0.89      0.85      0.87        20\n",
      "          15       0.82      0.90      0.86        20\n",
      "          16       0.77      0.85      0.81        20\n",
      "          17       0.90      0.90      0.90        20\n",
      "          18       1.00      0.65      0.79        20\n",
      "          19       0.86      0.95      0.90        20\n",
      "\n",
      "    accuracy                           0.86       400\n",
      "   macro avg       0.88      0.86      0.87       400\n",
      "weighted avg       0.88      0.86      0.87       400\n",
      "\n"
     ]
    },
    {
     "name": "stderr",
     "output_type": "stream",
     "text": [
      "/home/keats/miniconda3/lib/python3.12/site-packages/seaborn/utils.py:61: UserWarning: Glyph 25968 (\\N{CJK UNIFIED IDEOGRAPH-6570}) missing from font(s) DejaVu Sans.\n",
      "  fig.canvas.draw()\n",
      "/home/keats/miniconda3/lib/python3.12/site-packages/seaborn/utils.py:61: UserWarning: Glyph 23383 (\\N{CJK UNIFIED IDEOGRAPH-5B57}) missing from font(s) DejaVu Sans.\n",
      "  fig.canvas.draw()\n",
      "/home/keats/miniconda3/lib/python3.12/site-packages/seaborn/utils.py:61: UserWarning: Glyph 35821 (\\N{CJK UNIFIED IDEOGRAPH-8BED}) missing from font(s) DejaVu Sans.\n",
      "  fig.canvas.draw()\n",
      "/home/keats/miniconda3/lib/python3.12/site-packages/seaborn/utils.py:61: UserWarning: Glyph 38899 (\\N{CJK UNIFIED IDEOGRAPH-97F3}) missing from font(s) DejaVu Sans.\n",
      "  fig.canvas.draw()\n",
      "/home/keats/miniconda3/lib/python3.12/site-packages/seaborn/utils.py:61: UserWarning: Glyph 35328 (\\N{CJK UNIFIED IDEOGRAPH-8A00}) missing from font(s) DejaVu Sans.\n",
      "  fig.canvas.draw()\n",
      "/home/keats/miniconda3/lib/python3.12/site-packages/seaborn/utils.py:61: UserWarning: Glyph 22788 (\\N{CJK UNIFIED IDEOGRAPH-5904}) missing from font(s) DejaVu Sans.\n",
      "  fig.canvas.draw()\n",
      "/home/keats/miniconda3/lib/python3.12/site-packages/seaborn/utils.py:61: UserWarning: Glyph 29702 (\\N{CJK UNIFIED IDEOGRAPH-7406}) missing from font(s) DejaVu Sans.\n",
      "  fig.canvas.draw()\n",
      "/home/keats/miniconda3/lib/python3.12/site-packages/seaborn/utils.py:61: UserWarning: Glyph 20013 (\\N{CJK UNIFIED IDEOGRAPH-4E2D}) missing from font(s) DejaVu Sans.\n",
      "  fig.canvas.draw()\n",
      "/home/keats/miniconda3/lib/python3.12/site-packages/seaborn/utils.py:61: UserWarning: Glyph 22269 (\\N{CJK UNIFIED IDEOGRAPH-56FD}) missing from font(s) DejaVu Sans.\n",
      "  fig.canvas.draw()\n",
      "/home/keats/miniconda3/lib/python3.12/site-packages/seaborn/utils.py:61: UserWarning: Glyph 24544 (\\N{CJK UNIFIED IDEOGRAPH-5FE0}) missing from font(s) DejaVu Sans.\n",
      "  fig.canvas.draw()\n",
      "/home/keats/miniconda3/lib/python3.12/site-packages/seaborn/utils.py:61: UserWarning: Glyph 21578 (\\N{CJK UNIFIED IDEOGRAPH-544A}) missing from font(s) DejaVu Sans.\n",
      "  fig.canvas.draw()\n",
      "/home/keats/miniconda3/lib/python3.12/site-packages/seaborn/utils.py:61: UserWarning: Glyph 21271 (\\N{CJK UNIFIED IDEOGRAPH-5317}) missing from font(s) DejaVu Sans.\n",
      "  fig.canvas.draw()\n",
      "/home/keats/miniconda3/lib/python3.12/site-packages/seaborn/utils.py:61: UserWarning: Glyph 20140 (\\N{CJK UNIFIED IDEOGRAPH-4EAC}) missing from font(s) DejaVu Sans.\n",
      "  fig.canvas.draw()\n",
      "/home/keats/miniconda3/lib/python3.12/site-packages/seaborn/utils.py:61: UserWarning: Glyph 32972 (\\N{CJK UNIFIED IDEOGRAPH-80CC}) missing from font(s) DejaVu Sans.\n",
      "  fig.canvas.draw()\n",
      "/home/keats/miniconda3/lib/python3.12/site-packages/seaborn/utils.py:61: UserWarning: Glyph 26223 (\\N{CJK UNIFIED IDEOGRAPH-666F}) missing from font(s) DejaVu Sans.\n",
      "  fig.canvas.draw()\n",
      "/home/keats/miniconda3/lib/python3.12/site-packages/seaborn/utils.py:61: UserWarning: Glyph 19978 (\\N{CJK UNIFIED IDEOGRAPH-4E0A}) missing from font(s) DejaVu Sans.\n",
      "  fig.canvas.draw()\n",
      "/home/keats/miniconda3/lib/python3.12/site-packages/seaborn/utils.py:61: UserWarning: Glyph 28023 (\\N{CJK UNIFIED IDEOGRAPH-6D77}) missing from font(s) DejaVu Sans.\n",
      "  fig.canvas.draw()\n",
      "/home/keats/miniconda3/lib/python3.12/site-packages/seaborn/utils.py:61: UserWarning: Glyph 21830 (\\N{CJK UNIFIED IDEOGRAPH-5546}) missing from font(s) DejaVu Sans.\n",
      "  fig.canvas.draw()\n",
      "/home/keats/miniconda3/lib/python3.12/site-packages/seaborn/utils.py:61: UserWarning: Glyph 34892 (\\N{CJK UNIFIED IDEOGRAPH-884C}) missing from font(s) DejaVu Sans.\n",
      "  fig.canvas.draw()\n",
      "/home/keats/miniconda3/lib/python3.12/site-packages/IPython/core/pylabtools.py:170: UserWarning: Glyph 25968 (\\N{CJK UNIFIED IDEOGRAPH-6570}) missing from font(s) DejaVu Sans.\n",
      "  fig.canvas.print_figure(bytes_io, **kw)\n",
      "/home/keats/miniconda3/lib/python3.12/site-packages/IPython/core/pylabtools.py:170: UserWarning: Glyph 23383 (\\N{CJK UNIFIED IDEOGRAPH-5B57}) missing from font(s) DejaVu Sans.\n",
      "  fig.canvas.print_figure(bytes_io, **kw)\n",
      "/home/keats/miniconda3/lib/python3.12/site-packages/IPython/core/pylabtools.py:170: UserWarning: Glyph 35821 (\\N{CJK UNIFIED IDEOGRAPH-8BED}) missing from font(s) DejaVu Sans.\n",
      "  fig.canvas.print_figure(bytes_io, **kw)\n",
      "/home/keats/miniconda3/lib/python3.12/site-packages/IPython/core/pylabtools.py:170: UserWarning: Glyph 38899 (\\N{CJK UNIFIED IDEOGRAPH-97F3}) missing from font(s) DejaVu Sans.\n",
      "  fig.canvas.print_figure(bytes_io, **kw)\n",
      "/home/keats/miniconda3/lib/python3.12/site-packages/IPython/core/pylabtools.py:170: UserWarning: Glyph 35328 (\\N{CJK UNIFIED IDEOGRAPH-8A00}) missing from font(s) DejaVu Sans.\n",
      "  fig.canvas.print_figure(bytes_io, **kw)\n",
      "/home/keats/miniconda3/lib/python3.12/site-packages/IPython/core/pylabtools.py:170: UserWarning: Glyph 22788 (\\N{CJK UNIFIED IDEOGRAPH-5904}) missing from font(s) DejaVu Sans.\n",
      "  fig.canvas.print_figure(bytes_io, **kw)\n",
      "/home/keats/miniconda3/lib/python3.12/site-packages/IPython/core/pylabtools.py:170: UserWarning: Glyph 29702 (\\N{CJK UNIFIED IDEOGRAPH-7406}) missing from font(s) DejaVu Sans.\n",
      "  fig.canvas.print_figure(bytes_io, **kw)\n",
      "/home/keats/miniconda3/lib/python3.12/site-packages/IPython/core/pylabtools.py:170: UserWarning: Glyph 20013 (\\N{CJK UNIFIED IDEOGRAPH-4E2D}) missing from font(s) DejaVu Sans.\n",
      "  fig.canvas.print_figure(bytes_io, **kw)\n",
      "/home/keats/miniconda3/lib/python3.12/site-packages/IPython/core/pylabtools.py:170: UserWarning: Glyph 22269 (\\N{CJK UNIFIED IDEOGRAPH-56FD}) missing from font(s) DejaVu Sans.\n",
      "  fig.canvas.print_figure(bytes_io, **kw)\n",
      "/home/keats/miniconda3/lib/python3.12/site-packages/IPython/core/pylabtools.py:170: UserWarning: Glyph 24544 (\\N{CJK UNIFIED IDEOGRAPH-5FE0}) missing from font(s) DejaVu Sans.\n",
      "  fig.canvas.print_figure(bytes_io, **kw)\n",
      "/home/keats/miniconda3/lib/python3.12/site-packages/IPython/core/pylabtools.py:170: UserWarning: Glyph 21578 (\\N{CJK UNIFIED IDEOGRAPH-544A}) missing from font(s) DejaVu Sans.\n",
      "  fig.canvas.print_figure(bytes_io, **kw)\n",
      "/home/keats/miniconda3/lib/python3.12/site-packages/IPython/core/pylabtools.py:170: UserWarning: Glyph 21271 (\\N{CJK UNIFIED IDEOGRAPH-5317}) missing from font(s) DejaVu Sans.\n",
      "  fig.canvas.print_figure(bytes_io, **kw)\n",
      "/home/keats/miniconda3/lib/python3.12/site-packages/IPython/core/pylabtools.py:170: UserWarning: Glyph 20140 (\\N{CJK UNIFIED IDEOGRAPH-4EAC}) missing from font(s) DejaVu Sans.\n",
      "  fig.canvas.print_figure(bytes_io, **kw)\n",
      "/home/keats/miniconda3/lib/python3.12/site-packages/IPython/core/pylabtools.py:170: UserWarning: Glyph 32972 (\\N{CJK UNIFIED IDEOGRAPH-80CC}) missing from font(s) DejaVu Sans.\n",
      "  fig.canvas.print_figure(bytes_io, **kw)\n",
      "/home/keats/miniconda3/lib/python3.12/site-packages/IPython/core/pylabtools.py:170: UserWarning: Glyph 26223 (\\N{CJK UNIFIED IDEOGRAPH-666F}) missing from font(s) DejaVu Sans.\n",
      "  fig.canvas.print_figure(bytes_io, **kw)\n",
      "/home/keats/miniconda3/lib/python3.12/site-packages/IPython/core/pylabtools.py:170: UserWarning: Glyph 19978 (\\N{CJK UNIFIED IDEOGRAPH-4E0A}) missing from font(s) DejaVu Sans.\n",
      "  fig.canvas.print_figure(bytes_io, **kw)\n",
      "/home/keats/miniconda3/lib/python3.12/site-packages/IPython/core/pylabtools.py:170: UserWarning: Glyph 28023 (\\N{CJK UNIFIED IDEOGRAPH-6D77}) missing from font(s) DejaVu Sans.\n",
      "  fig.canvas.print_figure(bytes_io, **kw)\n",
      "/home/keats/miniconda3/lib/python3.12/site-packages/IPython/core/pylabtools.py:170: UserWarning: Glyph 21830 (\\N{CJK UNIFIED IDEOGRAPH-5546}) missing from font(s) DejaVu Sans.\n",
      "  fig.canvas.print_figure(bytes_io, **kw)\n",
      "/home/keats/miniconda3/lib/python3.12/site-packages/IPython/core/pylabtools.py:170: UserWarning: Glyph 34892 (\\N{CJK UNIFIED IDEOGRAPH-884C}) missing from font(s) DejaVu Sans.\n",
      "  fig.canvas.print_figure(bytes_io, **kw)\n"
     ]
    },
    {
     "data": {
      "image/png": "[encoded data removed]",
      "text/plain": [
       "<Figure size 1000x800 with 2 Axes>"
      ]
     },
     "metadata": {},
     "output_type": "display_data"
    }
   ],
   "source": [
    "# 绘制混淆矩阵\n",
    "def plot_confusion_matrix(y_true, y_pred, classes):\n",
    "    from sklearn.metrics import confusion_matrix\n",
    "    import seaborn as sns\n",
    "    \n",
    "    cm = confusion_matrix(y_true, y_pred)\n",
    "    plt.figure(figsize=(10, 8))\n",
    "    sns.heatmap(cm, annot=True, fmt='d', cmap='Blues',\n",
    "                xticklabels=classes, yticklabels=classes)\n",
    "    plt.xlabel('Predicted')\n",
    "    plt.ylabel('True')\n",
    "    plt.title('Confusion Matrix')\n",
    "    plt.show()\n",
    "\n",
    "# 拆包\n",
    "svm_model, scaler, test_data = train_svm_model(features, labels)\n",
    "X_test_scaled, y_test = test_data\n",
    "\n",
    "# 预测\n",
    "y_pred = svm_model.predict(X_test_scaled)\n",
    "plot_confusion_matrix(y_test, y_pred, classes)"
   ]
  },
  {
   "cell_type": "code",
   "execution_count": 22,
   "id": "980dd0be",
   "metadata": {},
   "outputs": [
    {
     "name": "stdout",
     "output_type": "stream",
     "text": [
      "录音.wav -> 识别结果: 语言，置信度: 0.1461\n"
     ]
    }
   ],
   "source": [
    "# 测试识别\n",
    "test_dir = \"/mnt/c/Users/Keats/Documents/录音/\"\n",
    "\n",
    "for filename in os.listdir(test_dir):\n",
    "    if filename.endswith('.dat') or filename.endswith('.wav'):\n",
    "        test_file = os.path.join(test_dir, filename)\n",
    "        predicted_class, confidence = recognize_speech(test_file, svm_model, scaler, classes)\n",
    "        print(f\"{filename} -> 识别结果: {predicted_class}，置信度: {confidence:.4f}\")"
   ]
  }
 ],
 "metadata": {
  "kernelspec": {
   "display_name": "base",
   "language": "python",
   "name": "python3"
  },
  "language_info": {
   "codemirror_mode": {
    "name": "ipython",
    "version": 3
   },
   "file_extension": ".py",
   "mimetype": "text/x-python",
   "name": "python",
   "nbconvert_exporter": "python",
   "pygments_lexer": "ipython3",
   "version": "3.12.9"
  }
 },
 "nbformat": 4,
 "nbformat_minor": 5
}
