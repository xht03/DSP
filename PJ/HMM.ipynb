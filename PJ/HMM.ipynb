{
 "cells": [
  {
   "cell_type": "code",
   "execution_count": 4,
   "id": "01abb4d8",
   "metadata": {},
   "outputs": [],
   "source": [
    "import os\n",
    "import librosa\n",
    "import numpy as np\n",
    "import matplotlib.pyplot as plt\n",
    "from tqdm import tqdm\n",
    "from dsp import *"
   ]
  },
  {
   "cell_type": "code",
   "execution_count": 5,
   "id": "d338cdae",
   "metadata": {},
   "outputs": [],
   "source": [
    "def readDat(filepath):\n",
    "    # 使用16位有符号整数(int16)格式读取原始数据\n",
    "    y = np.fromfile(filepath, dtype=np.int16)\n",
    "    # 将整数值归一化到[-1, 1]范围\n",
    "    y = y.astype(np.float32) / 32768.0\n",
    "    return y"
   ]
  },
  {
   "cell_type": "code",
   "execution_count": 6,
   "id": "8200eb3d",
   "metadata": {},
   "outputs": [],
   "source": [
    "# 特征提取\n",
    "def extractFeature(audio_file, sr=8000, win=256, step=160):\n",
    "    y = readDat(audio_file)\n",
    "    \n",
    "    segments = vad(y, sr, win, step)\n",
    "\n",
    "    if len(segments) == 0:\n",
    "        print(f\"警告: {audio_file} 没有检测到语音段\")\n",
    "        return None\n",
    "    \n",
    "    # 取所有音频段的起始和结束时间\n",
    "    start = segments[0][0]\n",
    "    end = segments[-1][1]\n",
    "    y_speech = y[int(start):int(end)]\n",
    "    \n",
    "    # 确保语音段足够长\n",
    "    min_length = win * 2  # 确保能生成至少一个完整的STFT帧\n",
    "    if len(y_speech) < min_length:\n",
    "        print(f\"警告: {audio_file} 语音段太短({len(y_speech)}采样点)，填充至{min_length}采样点\")\n",
    "        y_speech = np.pad(y_speech, (0, min_length - len(y_speech)), 'constant')\n",
    "        # return None\n",
    "\n",
    "\n",
    "    # 提取 MFCC 特征\n",
    "    mfcc_feature = computeMFCC(y_speech, sr, win, D=13, M=26)\n",
    "    return mfcc_feature"
   ]
  },
  {
   "cell_type": "code",
   "execution_count": 7,
   "id": "aa6286bf",
   "metadata": {},
   "outputs": [],
   "source": [
    "# 准备数据集\n",
    "def prepareData(base_dir, classes):\n",
    "    features = []\n",
    "    labels = []\n",
    "\n",
    "    print(f\"开始从 {base_dir} 加载数据...\")\n",
    "    \n",
    "    total_files = 0         # 总文件数\n",
    "    error_files = 0         # 出错的文件数\n",
    "    \n",
    "    # 先计算总文件数\n",
    "    for idx, name in enumerate(classes):\n",
    "        class_dir = os.path.join(base_dir, str(idx).zfill(2))\n",
    "        if os.path.exists(class_dir):\n",
    "            for filename in os.listdir(class_dir):\n",
    "                if filename.endswith('.dat'):\n",
    "                    total_files += 1\n",
    "    print(f\"找到 {total_files} 个文件\")\n",
    "    \n",
    "    with tqdm(total=total_files, desc=\"总进度\") as pbar:\n",
    "        for idx, name in enumerate(classes):\n",
    "            class_dir = os.path.join(base_dir, str(idx).zfill(2))\n",
    "            \n",
    "            if not os.path.exists(class_dir):\n",
    "                print(f\"警告：目录 {class_dir} 不存在，跳过类别 '{name}'\")\n",
    "                continue\n",
    "                \n",
    "            class_files = [f for f in os.listdir(class_dir) if f.endswith('.dat')]\n",
    "            print(f\"正在处理类别 '{name}' ({len(class_files)}个文件)...\")\n",
    "            \n",
    "            for filename in class_files:\n",
    "                filepath = os.path.join(class_dir, filename)\n",
    "                feature = extractFeature(filepath)\n",
    "                if feature is not None:\n",
    "                    features.append(feature)\n",
    "                    labels.append(idx)\n",
    "                else:\n",
    "                    error_files += 1\n",
    "\n",
    "                pbar.set_postfix({\"出错文件数\": error_files})\n",
    "                pbar.update(1)\n",
    "            \n",
    "    print(f\"\\n处理完成: 共 {total_files} 个文件, 出错 {error_files} 个\")\n",
    "    if len(features) == 0:\n",
    "        raise ValueError(\"没有成功处理任何文件!请检查数据路径和文件格式\")\n",
    "    \n",
    "    return features, np.array(labels)"
   ]
  },
  {
   "cell_type": "code",
   "execution_count": 8,
   "id": "5066e108",
   "metadata": {},
   "outputs": [],
   "source": [
    "from hmmlearn import hmm\n",
    "from sklearn.model_selection import train_test_split\n",
    "from sklearn.metrics import confusion_matrix, accuracy_score, classification_report\n",
    "import seaborn as sns\n",
    "import joblib\n",
    "\n",
    "# HMM 语音识别器\n",
    "class HMMRecognizer:\n",
    "    # n_states: 隐藏状态数量\n",
    "    # n_mix: 每个状态的高斯混合数量\n",
    "    # cov_type: 协方差类型 ('diag'/'full')\n",
    "    # n_iter: 训练迭代次数\n",
    "    def __init__(self, n_state=5, n_mix=8, cov_type='diag', n_iter=100):\n",
    "        self.n_states = n_state\n",
    "        self.n_mix = n_mix\n",
    "        self.cov_type = cov_type\n",
    "        self.n_iter = n_iter\n",
    "        self.models = {}  # 存储每个类别的 HMM 模型\n",
    "        self.classes = None\n",
    "        \n",
    "    def train(self, features, labels):\n",
    "        self.classes = np.unique(labels)\n",
    "        \n",
    "        print(f\"开始训练HMM模型, 共{len(self.classes)}个类别...\")\n",
    "        \n",
    "        for c in tqdm(self.classes):\n",
    "            # 获取当前类别的所有特征\n",
    "            class_features = [feat for feat, label in zip(features, labels) if label == c]\n",
    "            \n",
    "            if len(class_features) == 0:\n",
    "                print(f\"警告: 类别{c}没有训练样本\")\n",
    "                continue\n",
    "            \n",
    "            # 将特征转换为适合HMM训练的格式\n",
    "            # 1. 首先计算所有样本的总帧数\n",
    "            total_frames = sum(feat.shape[1] for feat in class_features)\n",
    "            \n",
    "            # 2. 创建一个大的连续特征数组\n",
    "            X = np.zeros((total_frames, class_features[0].shape[0]))\n",
    "            \n",
    "            # 3. 填充特征并记录每个样本的长度\n",
    "            lengths = []\n",
    "            idx = 0\n",
    "            for feat in class_features:\n",
    "                seq_len = feat.shape[1]\n",
    "                X[idx:idx+seq_len] = feat.T  # 转置以匹配HMM输入要求\n",
    "                lengths.append(seq_len)\n",
    "                idx += seq_len\n",
    "            \n",
    "            # 初始化并训练HMM模型\n",
    "            model = hmm.GMMHMM(\n",
    "                n_components=self.n_states,\n",
    "                n_mix=self.n_mix,\n",
    "                covariance_type=self.cov_type,\n",
    "                n_iter=self.n_iter,\n",
    "                verbose=False,              # 是否打印训练过程信息\n",
    "            )\n",
    "            \n",
    "            try:\n",
    "                model.fit(X, lengths)  # 现在X的形状是(总帧数, 特征维度)\n",
    "                self.models[c] = model\n",
    "                print(f\"类别 {c} 模型训练完成\")\n",
    "            except Exception as e:\n",
    "                print(f\"类别 {c} 模型训练失败: {e}\")\n",
    "    \n",
    "    # 语音识别\n",
    "    # feature: MFCC特征，形状为(n_features, n_frames)\n",
    "    def recognize(self, feature):\n",
    "        if not self.models:\n",
    "            raise ValueError(\"模型尚未训练\")\n",
    "        \n",
    "        # 计算每个模型的对数似然\n",
    "        log_likelihoods = {}\n",
    "        for class_idx, model in self.models.items():\n",
    "            try:\n",
    "                # 计算当前特征在该模型下的对数似然\n",
    "                log_likelihood = model.score(feature.T)\n",
    "                log_likelihoods[class_idx] = log_likelihood\n",
    "            except Exception as e:\n",
    "                print(f\"计算类别 {class_idx} 的似然值时出错: {e}\")\n",
    "                log_likelihoods[class_idx] = -np.inf\n",
    "        \n",
    "        # 选择对数似然最高的类别\n",
    "        if not log_likelihoods:\n",
    "            return None, None\n",
    "        \n",
    "        best_class = max(log_likelihoods, key=log_likelihoods.get)\n",
    "        return best_class, log_likelihoods[best_class]\n",
    "    \n",
    "    # 保存模型到文件\n",
    "    def save(self, filepath):\n",
    "        joblib.dump({\n",
    "            'models': self.models,\n",
    "            'classes': self.classes,\n",
    "            'n_states': self.n_states,\n",
    "            'n_mix': self.n_mix,\n",
    "            'cov_type': self.cov_type\n",
    "        }, filepath)\n",
    "        \n",
    "    def load(self, filepath):\n",
    "        \"\"\"加载模型\"\"\"\n",
    "        data = joblib.load(filepath)\n",
    "        self.models = data['models']\n",
    "        self.classes = data['classes']\n",
    "        self.n_states = data['n_states']\n",
    "        self.n_mix = data['n_mix']\n",
    "        self.cov_type = data['cov_type']\n",
    "        \n",
    "    # 评估模型\n",
    "    def evaluate(self, features, true_labels):\n",
    "        predictions = []\n",
    "        \n",
    "        print(\"开始评估模型...\")\n",
    "        for i, feature in enumerate(tqdm(features)):\n",
    "            pred_class, _ = self.recognize(feature)\n",
    "            predictions.append(pred_class)\n",
    "            \n",
    "        # 计算准确率\n",
    "        accuracy = accuracy_score(true_labels, predictions)\n",
    "        print(f\"准确率: {accuracy:.4f}\")\n",
    "        \n",
    "        # 计算混淆矩阵\n",
    "        cm = confusion_matrix(true_labels, predictions)\n",
    "        \n",
    "        # 分类报告\n",
    "        report = classification_report(true_labels, predictions)\n",
    "        print(\"分类报告:\")\n",
    "        print(report)\n",
    "        \n",
    "        return accuracy, cm, report"
   ]
  },
  {
   "cell_type": "code",
   "execution_count": 9,
   "id": "4820c114",
   "metadata": {},
   "outputs": [
    {
     "name": "stdout",
     "output_type": "stream",
     "text": [
      "开始从 ../myData 加载数据...\n",
      "找到 2000 个文件\n"
     ]
    },
    {
     "name": "stderr",
     "output_type": "stream",
     "text": [
      "总进度:   0%|          | 2/2000 [00:00<01:41, 19.71it/s, 出错文件数=0]"
     ]
    },
    {
     "name": "stdout",
     "output_type": "stream",
     "text": [
      "正在处理类别 '数字' (100个文件)...\n"
     ]
    },
    {
     "name": "stderr",
     "output_type": "stream",
     "text": [
      "总进度:   5%|▌         | 100/2000 [00:09<01:54, 16.56it/s, 出错文件数=0]"
     ]
    },
    {
     "name": "stdout",
     "output_type": "stream",
     "text": [
      "正在处理类别 '语音' (100个文件)...\n"
     ]
    },
    {
     "name": "stderr",
     "output_type": "stream",
     "text": [
      "总进度:  10%|█         | 200/2000 [00:19<02:04, 14.49it/s, 出错文件数=0]"
     ]
    },
    {
     "name": "stdout",
     "output_type": "stream",
     "text": [
      "正在处理类别 '语言' (100个文件)...\n"
     ]
    },
    {
     "name": "stderr",
     "output_type": "stream",
     "text": [
      "总进度:  15%|█▌        | 303/2000 [00:29<01:44, 16.18it/s, 出错文件数=0]"
     ]
    },
    {
     "name": "stdout",
     "output_type": "stream",
     "text": [
      "正在处理类别 '处理' (100个文件)...\n"
     ]
    },
    {
     "name": "stderr",
     "output_type": "stream",
     "text": [
      "总进度:  20%|██        | 403/2000 [00:38<01:53, 14.04it/s, 出错文件数=0]"
     ]
    },
    {
     "name": "stdout",
     "output_type": "stream",
     "text": [
      "正在处理类别 '中国' (100个文件)...\n"
     ]
    },
    {
     "name": "stderr",
     "output_type": "stream",
     "text": [
      "总进度:  25%|██▌       | 506/2000 [00:48<01:27, 17.06it/s, 出错文件数=0]"
     ]
    },
    {
     "name": "stdout",
     "output_type": "stream",
     "text": [
      "正在处理类别 '忠告' (100个文件)...\n"
     ]
    },
    {
     "name": "stderr",
     "output_type": "stream",
     "text": [
      "总进度:  30%|███       | 602/2000 [00:57<01:28, 15.76it/s, 出错文件数=0]"
     ]
    },
    {
     "name": "stdout",
     "output_type": "stream",
     "text": [
      "正在处理类别 '北京' (100个文件)...\n"
     ]
    },
    {
     "name": "stderr",
     "output_type": "stream",
     "text": [
      "总进度:  35%|███▌      | 703/2000 [01:06<02:01, 10.68it/s, 出错文件数=0]"
     ]
    },
    {
     "name": "stdout",
     "output_type": "stream",
     "text": [
      "正在处理类别 '背景' (100个文件)...\n"
     ]
    },
    {
     "name": "stderr",
     "output_type": "stream",
     "text": [
      "总进度:  40%|████      | 802/2000 [01:14<01:15, 15.95it/s, 出错文件数=0]"
     ]
    },
    {
     "name": "stdout",
     "output_type": "stream",
     "text": [
      "正在处理类别 '上海' (100个文件)...\n"
     ]
    },
    {
     "name": "stderr",
     "output_type": "stream",
     "text": [
      "总进度:  45%|████▍     | 899/2000 [01:23<02:26,  7.53it/s, 出错文件数=0]"
     ]
    },
    {
     "name": "stdout",
     "output_type": "stream",
     "text": [
      "正在处理类别 '商行' (100个文件)...\n"
     ]
    },
    {
     "name": "stderr",
     "output_type": "stream",
     "text": [
      "总进度:  50%|█████     | 1004/2000 [01:33<01:04, 15.44it/s, 出错文件数=0]"
     ]
    },
    {
     "name": "stdout",
     "output_type": "stream",
     "text": [
      "正在处理类别 'Speech' (100个文件)...\n"
     ]
    },
    {
     "name": "stderr",
     "output_type": "stream",
     "text": [
      "总进度:  51%|█████▏    | 1026/2000 [01:35<01:15, 12.86it/s, 出错文件数=0]"
     ]
    },
    {
     "name": "stdout",
     "output_type": "stream",
     "text": [
      "警告: ../myData/10/22300240004_10_14.dat 语音段太短(480采样点)，填充至512采样点\n"
     ]
    },
    {
     "name": "stderr",
     "output_type": "stream",
     "text": [
      "总进度:  55%|█████▌    | 1103/2000 [01:41<00:53, 16.77it/s, 出错文件数=0]"
     ]
    },
    {
     "name": "stdout",
     "output_type": "stream",
     "text": [
      "正在处理类别 'Speaker' (100个文件)...\n"
     ]
    },
    {
     "name": "stderr",
     "output_type": "stream",
     "text": [
      "总进度:  60%|██████    | 1204/2000 [01:49<00:44, 17.72it/s, 出错文件数=0]"
     ]
    },
    {
     "name": "stdout",
     "output_type": "stream",
     "text": [
      "正在处理类别 'Signal' (100个文件)...\n"
     ]
    },
    {
     "name": "stderr",
     "output_type": "stream",
     "text": [
      "总进度:  65%|██████▌   | 1303/2000 [01:57<00:43, 15.88it/s, 出错文件数=0]"
     ]
    },
    {
     "name": "stdout",
     "output_type": "stream",
     "text": [
      "正在处理类别 'Sequence' (100个文件)...\n"
     ]
    },
    {
     "name": "stderr",
     "output_type": "stream",
     "text": [
      "总进度:  70%|███████   | 1402/2000 [02:06<00:48, 12.33it/s, 出错文件数=0]"
     ]
    },
    {
     "name": "stdout",
     "output_type": "stream",
     "text": [
      "正在处理类别 'Processing' (100个文件)...\n"
     ]
    },
    {
     "name": "stderr",
     "output_type": "stream",
     "text": [
      "总进度:  75%|███████▌  | 1501/2000 [02:15<00:24, 20.45it/s, 出错文件数=0]"
     ]
    },
    {
     "name": "stdout",
     "output_type": "stream",
     "text": [
      "正在处理类别 'Print' (100个文件)...\n"
     ]
    },
    {
     "name": "stderr",
     "output_type": "stream",
     "text": [
      "总进度:  80%|████████  | 1604/2000 [02:22<00:27, 14.46it/s, 出错文件数=0]"
     ]
    },
    {
     "name": "stdout",
     "output_type": "stream",
     "text": [
      "正在处理类别 'Project' (100个文件)...\n"
     ]
    },
    {
     "name": "stderr",
     "output_type": "stream",
     "text": [
      "总进度:  85%|████████▌ | 1705/2000 [02:30<00:14, 19.97it/s, 出错文件数=0]"
     ]
    },
    {
     "name": "stdout",
     "output_type": "stream",
     "text": [
      "正在处理类别 'File' (100个文件)...\n"
     ]
    },
    {
     "name": "stderr",
     "output_type": "stream",
     "text": [
      "总进度:  88%|████████▊ | 1763/2000 [02:35<00:22, 10.62it/s, 出错文件数=1]"
     ]
    },
    {
     "name": "stdout",
     "output_type": "stream",
     "text": [
      "警告: ../myData/17/23300240026-17-09.dat 没有检测到语音段\n"
     ]
    },
    {
     "name": "stderr",
     "output_type": "stream",
     "text": [
      "总进度:  90%|█████████ | 1800/2000 [02:37<00:08, 22.84it/s, 出错文件数=1]"
     ]
    },
    {
     "name": "stdout",
     "output_type": "stream",
     "text": [
      "正在处理类别 'Open' (100个文件)...\n"
     ]
    },
    {
     "name": "stderr",
     "output_type": "stream",
     "text": [
      "总进度:  95%|█████████▌| 1900/2000 [02:45<00:05, 17.94it/s, 出错文件数=1]"
     ]
    },
    {
     "name": "stdout",
     "output_type": "stream",
     "text": [
      "正在处理类别 'Close' (100个文件)...\n"
     ]
    },
    {
     "name": "stderr",
     "output_type": "stream",
     "text": [
      "总进度:  95%|█████████▌| 1908/2000 [02:46<00:06, 14.33it/s, 出错文件数=1]"
     ]
    },
    {
     "name": "stdout",
     "output_type": "stream",
     "text": [
      "警告: ../myData/19/23300240026-19-07.dat 语音段太短(480采样点)，填充至512采样点\n"
     ]
    },
    {
     "name": "stderr",
     "output_type": "stream",
     "text": [
      "总进度:  98%|█████████▊| 1957/2000 [02:50<00:03, 13.62it/s, 出错文件数=2]"
     ]
    },
    {
     "name": "stdout",
     "output_type": "stream",
     "text": [
      "警告: ../myData/19/23300240026-19-13.dat 没有检测到语音段\n"
     ]
    },
    {
     "name": "stderr",
     "output_type": "stream",
     "text": [
      "总进度: 100%|██████████| 2000/2000 [02:53<00:00, 11.51it/s, 出错文件数=2]"
     ]
    },
    {
     "name": "stdout",
     "output_type": "stream",
     "text": [
      "\n",
      "处理完成: 共 2000 个文件, 出错 2 个\n",
      "训练集: 1598 个样本\n",
      "测试集: 400 个样本\n"
     ]
    },
    {
     "name": "stderr",
     "output_type": "stream",
     "text": [
      "\n"
     ]
    }
   ],
   "source": [
    "classes = [\"数字\", \"语音\", \"语言\", \"处理\", \"中国\", \"忠告\", \"北京\", \"背景\", \"上海\", \"商行\",\n",
    "              \"Speech\", \"Speaker\", \"Signal\", \"Sequence\", \"Processing\", \"Print\", \"Project\", \"File\", \"Open\", \"Close\"]\n",
    "\n",
    "# 准备数据集\n",
    "features, labels = prepareData('../myData', classes)\n",
    "\n",
    "# 划分训练集和测试集\n",
    "X_train, X_test, y_train, y_test = train_test_split(features, labels, test_size=0.2, random_state=42, stratify=labels)\n",
    "\n",
    "print(f\"训练集: {len(X_train)} 个样本\")\n",
    "print(f\"测试集: {len(X_test)} 个样本\")"
   ]
  },
  {
   "cell_type": "code",
   "execution_count": 14,
   "id": "4ef37636",
   "metadata": {},
   "outputs": [
    {
     "name": "stdout",
     "output_type": "stream",
     "text": [
      "开始训练HMM模型, 共20个类别...\n"
     ]
    },
    {
     "name": "stderr",
     "output_type": "stream",
     "text": [
      "  5%|▌         | 1/20 [00:03<01:11,  3.76s/it]"
     ]
    },
    {
     "name": "stdout",
     "output_type": "stream",
     "text": [
      "类别 0 模型训练完成\n"
     ]
    },
    {
     "name": "stderr",
     "output_type": "stream",
     "text": [
      " 10%|█         | 2/20 [00:07<01:02,  3.47s/it]"
     ]
    },
    {
     "name": "stdout",
     "output_type": "stream",
     "text": [
      "类别 1 模型训练完成\n"
     ]
    },
    {
     "name": "stderr",
     "output_type": "stream",
     "text": [
      " 15%|█▌        | 3/20 [00:11<01:10,  4.15s/it]"
     ]
    },
    {
     "name": "stdout",
     "output_type": "stream",
     "text": [
      "类别 2 模型训练完成\n"
     ]
    },
    {
     "name": "stderr",
     "output_type": "stream",
     "text": [
      " 20%|██        | 4/20 [00:16<01:11,  4.48s/it]"
     ]
    },
    {
     "name": "stdout",
     "output_type": "stream",
     "text": [
      "类别 3 模型训练完成\n"
     ]
    },
    {
     "name": "stderr",
     "output_type": "stream",
     "text": [
      " 25%|██▌       | 5/20 [00:21<01:10,  4.67s/it]"
     ]
    },
    {
     "name": "stdout",
     "output_type": "stream",
     "text": [
      "类别 4 模型训练完成\n"
     ]
    },
    {
     "name": "stderr",
     "output_type": "stream",
     "text": [
      " 30%|███       | 6/20 [00:31<01:27,  6.24s/it]"
     ]
    },
    {
     "name": "stdout",
     "output_type": "stream",
     "text": [
      "类别 5 模型训练完成\n"
     ]
    },
    {
     "name": "stderr",
     "output_type": "stream",
     "text": [
      " 35%|███▌      | 7/20 [00:36<01:16,  5.85s/it]"
     ]
    },
    {
     "name": "stdout",
     "output_type": "stream",
     "text": [
      "类别 6 模型训练完成\n"
     ]
    },
    {
     "name": "stderr",
     "output_type": "stream",
     "text": [
      " 40%|████      | 8/20 [00:42<01:10,  5.91s/it]"
     ]
    },
    {
     "name": "stdout",
     "output_type": "stream",
     "text": [
      "类别 7 模型训练完成\n"
     ]
    },
    {
     "name": "stderr",
     "output_type": "stream",
     "text": [
      " 45%|████▌     | 9/20 [00:49<01:10,  6.42s/it]"
     ]
    },
    {
     "name": "stdout",
     "output_type": "stream",
     "text": [
      "类别 8 模型训练完成\n"
     ]
    },
    {
     "name": "stderr",
     "output_type": "stream",
     "text": [
      " 50%|█████     | 10/20 [00:55<01:02,  6.26s/it]"
     ]
    },
    {
     "name": "stdout",
     "output_type": "stream",
     "text": [
      "类别 9 模型训练完成\n"
     ]
    },
    {
     "name": "stderr",
     "output_type": "stream",
     "text": [
      " 55%|█████▌    | 11/20 [01:02<00:56,  6.27s/it]"
     ]
    },
    {
     "name": "stdout",
     "output_type": "stream",
     "text": [
      "类别 10 模型训练完成\n"
     ]
    },
    {
     "name": "stderr",
     "output_type": "stream",
     "text": [
      " 60%|██████    | 12/20 [01:08<00:49,  6.17s/it]"
     ]
    },
    {
     "name": "stdout",
     "output_type": "stream",
     "text": [
      "类别 11 模型训练完成\n"
     ]
    },
    {
     "name": "stderr",
     "output_type": "stream",
     "text": [
      " 65%|██████▌   | 13/20 [01:13<00:42,  6.02s/it]"
     ]
    },
    {
     "name": "stdout",
     "output_type": "stream",
     "text": [
      "类别 12 模型训练完成\n"
     ]
    },
    {
     "name": "stderr",
     "output_type": "stream",
     "text": [
      " 70%|███████   | 14/20 [01:18<00:34,  5.68s/it]"
     ]
    },
    {
     "name": "stdout",
     "output_type": "stream",
     "text": [
      "类别 13 模型训练完成\n"
     ]
    },
    {
     "name": "stderr",
     "output_type": "stream",
     "text": [
      " 75%|███████▌  | 15/20 [01:23<00:27,  5.45s/it]"
     ]
    },
    {
     "name": "stdout",
     "output_type": "stream",
     "text": [
      "类别 14 模型训练完成\n"
     ]
    },
    {
     "name": "stderr",
     "output_type": "stream",
     "text": [
      " 80%|████████  | 16/20 [01:32<00:26,  6.62s/it]"
     ]
    },
    {
     "name": "stdout",
     "output_type": "stream",
     "text": [
      "类别 15 模型训练完成\n"
     ]
    },
    {
     "name": "stderr",
     "output_type": "stream",
     "text": [
      " 85%|████████▌ | 17/20 [01:36<00:17,  5.73s/it]"
     ]
    },
    {
     "name": "stdout",
     "output_type": "stream",
     "text": [
      "类别 16 模型训练完成\n"
     ]
    },
    {
     "name": "stderr",
     "output_type": "stream",
     "text": [
      " 90%|█████████ | 18/20 [01:40<00:10,  5.07s/it]"
     ]
    },
    {
     "name": "stdout",
     "output_type": "stream",
     "text": [
      "类别 17 模型训练完成\n"
     ]
    },
    {
     "name": "stderr",
     "output_type": "stream",
     "text": [
      " 95%|█████████▌| 19/20 [01:43<00:04,  4.54s/it]"
     ]
    },
    {
     "name": "stdout",
     "output_type": "stream",
     "text": [
      "类别 18 模型训练完成\n"
     ]
    },
    {
     "name": "stderr",
     "output_type": "stream",
     "text": [
      "100%|██████████| 20/20 [01:47<00:00,  5.36s/it]\n"
     ]
    },
    {
     "name": "stdout",
     "output_type": "stream",
     "text": [
      "类别 19 模型训练完成\n",
      "开始评估模型...\n"
     ]
    },
    {
     "name": "stderr",
     "output_type": "stream",
     "text": [
      "100%|██████████| 400/400 [00:03<00:00, 106.32it/s]"
     ]
    },
    {
     "name": "stdout",
     "output_type": "stream",
     "text": [
      "准确率: 0.8250\n",
      "分类报告:\n",
      "              precision    recall  f1-score   support\n",
      "\n",
      "           0       1.00      0.75      0.86        20\n",
      "           1       0.87      1.00      0.93        20\n",
      "           2       0.94      0.85      0.89        20\n",
      "           3       1.00      0.80      0.89        20\n",
      "           4       1.00      0.85      0.92        20\n",
      "           5       0.94      0.85      0.89        20\n",
      "           6       0.94      0.85      0.89        20\n",
      "           7       0.94      0.75      0.83        20\n",
      "           8       0.95      0.95      0.95        20\n",
      "           9       1.00      0.80      0.89        20\n",
      "          10       1.00      0.75      0.86        20\n",
      "          11       0.80      0.80      0.80        20\n",
      "          12       1.00      0.90      0.95        20\n",
      "          13       0.94      0.75      0.83        20\n",
      "          14       1.00      0.60      0.75        20\n",
      "          15       0.37      1.00      0.54        20\n",
      "          16       0.52      0.80      0.63        20\n",
      "          17       1.00      0.75      0.86        20\n",
      "          18       0.68      0.85      0.76        20\n",
      "          19       1.00      0.85      0.92        20\n",
      "\n",
      "    accuracy                           0.82       400\n",
      "   macro avg       0.89      0.82      0.84       400\n",
      "weighted avg       0.89      0.82      0.84       400\n",
      "\n"
     ]
    },
    {
     "name": "stderr",
     "output_type": "stream",
     "text": [
      "\n"
     ]
    }
   ],
   "source": [
    "# 训练HMM模型\n",
    "recognizer = HMMRecognizer(\n",
    "    n_state=5,  # 隐藏状态数\n",
    "    n_mix=4,    # 每个状态的高斯混合数\n",
    "    cov_type='diag', \n",
    "    n_iter=150   # 训练迭代次数\n",
    ")\n",
    "\n",
    "# 训练模型\n",
    "recognizer.train(X_train, y_train)\n",
    "\n",
    "# 保存模型\n",
    "recognizer.save(\"hmm/hmm_models.pkl\")\n",
    "\n",
    "# 评估模型\n",
    "accuracy, cm, report = recognizer.evaluate(X_test, y_test)"
   ]
  },
  {
   "cell_type": "code",
   "execution_count": 16,
   "id": "a81c069d",
   "metadata": {},
   "outputs": [
    {
     "name": "stderr",
     "output_type": "stream",
     "text": [
      "findfont: Generic family 'sans-serif' not found because none of the following families were found: Noto Sans CJK SC\n",
      "findfont: Generic family 'sans-serif' not found because none of the following families were found: Noto Sans CJK SC\n",
      "findfont: Generic family 'sans-serif' not found because none of the following families were found: Noto Sans CJK SC\n",
      "findfont: Generic family 'sans-serif' not found because none of the following families were found: Noto Sans CJK SC\n",
      "findfont: Generic family 'sans-serif' not found because none of the following families were found: Noto Sans CJK SC\n",
      "findfont: Generic family 'sans-serif' not found because none of the following families were found: Noto Sans CJK SC\n",
      "findfont: Generic family 'sans-serif' not found because none of the following families were found: Noto Sans CJK SC\n",
      "findfont: Generic family 'sans-serif' not found because none of the following families were found: Noto Sans CJK SC\n",
      "findfont: Generic family 'sans-serif' not found because none of the following families were found: Noto Sans CJK SC\n",
      "findfont: Generic family 'sans-serif' not found because none of the following families were found: Noto Sans CJK SC\n",
      "findfont: Generic family 'sans-serif' not found because none of the following families were found: Noto Sans CJK SC\n",
      "findfont: Generic family 'sans-serif' not found because none of the following families were found: Noto Sans CJK SC\n",
      "findfont: Generic family 'sans-serif' not found because none of the following families were found: Noto Sans CJK SC\n",
      "findfont: Generic family 'sans-serif' not found because none of the following families were found: Noto Sans CJK SC\n",
      "findfont: Generic family 'sans-serif' not found because none of the following families were found: Noto Sans CJK SC\n",
      "findfont: Generic family 'sans-serif' not found because none of the following families were found: Noto Sans CJK SC\n",
      "findfont: Generic family 'sans-serif' not found because none of the following families were found: Noto Sans CJK SC\n",
      "findfont: Generic family 'sans-serif' not found because none of the following families were found: Noto Sans CJK SC\n",
      "findfont: Generic family 'sans-serif' not found because none of the following families were found: Noto Sans CJK SC\n",
      "findfont: Generic family 'sans-serif' not found because none of the following families were found: Noto Sans CJK SC\n",
      "findfont: Generic family 'sans-serif' not found because none of the following families were found: Noto Sans CJK SC\n",
      "findfont: Generic family 'sans-serif' not found because none of the following families were found: Noto Sans CJK SC\n",
      "findfont: Generic family 'sans-serif' not found because none of the following families were found: Noto Sans CJK SC\n",
      "findfont: Generic family 'sans-serif' not found because none of the following families were found: Noto Sans CJK SC\n",
      "findfont: Generic family 'sans-serif' not found because none of the following families were found: Noto Sans CJK SC\n",
      "findfont: Generic family 'sans-serif' not found because none of the following families were found: Noto Sans CJK SC\n",
      "findfont: Generic family 'sans-serif' not found because none of the following families were found: Noto Sans CJK SC\n",
      "findfont: Generic family 'sans-serif' not found because none of the following families were found: Noto Sans CJK SC\n",
      "findfont: Generic family 'sans-serif' not found because none of the following families were found: Noto Sans CJK SC\n",
      "findfont: Generic family 'sans-serif' not found because none of the following families were found: Noto Sans CJK SC\n",
      "findfont: Generic family 'sans-serif' not found because none of the following families were found: Noto Sans CJK SC\n",
      "findfont: Generic family 'sans-serif' not found because none of the following families were found: Noto Sans CJK SC\n",
      "findfont: Generic family 'sans-serif' not found because none of the following families were found: Noto Sans CJK SC\n",
      "findfont: Generic family 'sans-serif' not found because none of the following families were found: Noto Sans CJK SC\n",
      "findfont: Generic family 'sans-serif' not found because none of the following families were found: Noto Sans CJK SC\n",
      "findfont: Generic family 'sans-serif' not found because none of the following families were found: Noto Sans CJK SC\n",
      "findfont: Generic family 'sans-serif' not found because none of the following families were found: Noto Sans CJK SC\n",
      "findfont: Generic family 'sans-serif' not found because none of the following families were found: Noto Sans CJK SC\n",
      "findfont: Generic family 'sans-serif' not found because none of the following families were found: Noto Sans CJK SC\n",
      "findfont: Generic family 'sans-serif' not found because none of the following families were found: Noto Sans CJK SC\n",
      "findfont: Generic family 'sans-serif' not found because none of the following families were found: Noto Sans CJK SC\n",
      "findfont: Generic family 'sans-serif' not found because none of the following families were found: Noto Sans CJK SC\n",
      "findfont: Generic family 'sans-serif' not found because none of the following families were found: Noto Sans CJK SC\n",
      "findfont: Generic family 'sans-serif' not found because none of the following families were found: Noto Sans CJK SC\n",
      "findfont: Generic family 'sans-serif' not found because none of the following families were found: Noto Sans CJK SC\n",
      "findfont: Generic family 'sans-serif' not found because none of the following families were found: Noto Sans CJK SC\n",
      "findfont: Generic family 'sans-serif' not found because none of the following families were found: Noto Sans CJK SC\n",
      "findfont: Generic family 'sans-serif' not found because none of the following families were found: Noto Sans CJK SC\n",
      "findfont: Generic family 'sans-serif' not found because none of the following families were found: Noto Sans CJK SC\n",
      "findfont: Generic family 'sans-serif' not found because none of the following families were found: Noto Sans CJK SC\n",
      "findfont: Generic family 'sans-serif' not found because none of the following families were found: Noto Sans CJK SC\n",
      "findfont: Generic family 'sans-serif' not found because none of the following families were found: Noto Sans CJK SC\n",
      "findfont: Generic family 'sans-serif' not found because none of the following families were found: Noto Sans CJK SC\n",
      "findfont: Generic family 'sans-serif' not found because none of the following families were found: Noto Sans CJK SC\n",
      "findfont: Generic family 'sans-serif' not found because none of the following families were found: Noto Sans CJK SC\n",
      "findfont: Generic family 'sans-serif' not found because none of the following families were found: Noto Sans CJK SC\n",
      "findfont: Generic family 'sans-serif' not found because none of the following families were found: Noto Sans CJK SC\n",
      "findfont: Generic family 'sans-serif' not found because none of the following families were found: Noto Sans CJK SC\n",
      "findfont: Generic family 'sans-serif' not found because none of the following families were found: Noto Sans CJK SC\n",
      "findfont: Generic family 'sans-serif' not found because none of the following families were found: Noto Sans CJK SC\n",
      "findfont: Generic family 'sans-serif' not found because none of the following families were found: Noto Sans CJK SC\n",
      "findfont: Generic family 'sans-serif' not found because none of the following families were found: Noto Sans CJK SC\n",
      "findfont: Generic family 'sans-serif' not found because none of the following families were found: Noto Sans CJK SC\n",
      "findfont: Generic family 'sans-serif' not found because none of the following families were found: Noto Sans CJK SC\n",
      "findfont: Generic family 'sans-serif' not found because none of the following families were found: Noto Sans CJK SC\n",
      "findfont: Generic family 'sans-serif' not found because none of the following families were found: Noto Sans CJK SC\n",
      "findfont: Generic family 'sans-serif' not found because none of the following families were found: Noto Sans CJK SC\n",
      "findfont: Generic family 'sans-serif' not found because none of the following families were found: Noto Sans CJK SC\n",
      "findfont: Generic family 'sans-serif' not found because none of the following families were found: Noto Sans CJK SC\n",
      "findfont: Generic family 'sans-serif' not found because none of the following families were found: Noto Sans CJK SC\n",
      "findfont: Generic family 'sans-serif' not found because none of the following families were found: Noto Sans CJK SC\n",
      "findfont: Generic family 'sans-serif' not found because none of the following families were found: Noto Sans CJK SC\n",
      "findfont: Generic family 'sans-serif' not found because none of the following families were found: Noto Sans CJK SC\n",
      "findfont: Generic family 'sans-serif' not found because none of the following families were found: Noto Sans CJK SC\n",
      "findfont: Generic family 'sans-serif' not found because none of the following families were found: Noto Sans CJK SC\n",
      "findfont: Generic family 'sans-serif' not found because none of the following families were found: Noto Sans CJK SC\n",
      "findfont: Generic family 'sans-serif' not found because none of the following families were found: Noto Sans CJK SC\n",
      "findfont: Generic family 'sans-serif' not found because none of the following families were found: Noto Sans CJK SC\n",
      "findfont: Generic family 'sans-serif' not found because none of the following families were found: Noto Sans CJK SC\n",
      "findfont: Generic family 'sans-serif' not found because none of the following families were found: Noto Sans CJK SC\n",
      "findfont: Generic family 'sans-serif' not found because none of the following families were found: Noto Sans CJK SC\n",
      "findfont: Generic family 'sans-serif' not found because none of the following families were found: Noto Sans CJK SC\n",
      "findfont: Generic family 'sans-serif' not found because none of the following families were found: Noto Sans CJK SC\n",
      "findfont: Generic family 'sans-serif' not found because none of the following families were found: Noto Sans CJK SC\n",
      "findfont: Generic family 'sans-serif' not found because none of the following families were found: Noto Sans CJK SC\n",
      "findfont: Generic family 'sans-serif' not found because none of the following families were found: Noto Sans CJK SC\n",
      "findfont: Generic family 'sans-serif' not found because none of the following families were found: Noto Sans CJK SC\n",
      "findfont: Generic family 'sans-serif' not found because none of the following families were found: Noto Sans CJK SC\n",
      "findfont: Generic family 'sans-serif' not found because none of the following families were found: Noto Sans CJK SC\n",
      "findfont: Generic family 'sans-serif' not found because none of the following families were found: Noto Sans CJK SC\n",
      "findfont: Generic family 'sans-serif' not found because none of the following families were found: Noto Sans CJK SC\n",
      "findfont: Generic family 'sans-serif' not found because none of the following families were found: Noto Sans CJK SC\n",
      "findfont: Generic family 'sans-serif' not found because none of the following families were found: Noto Sans CJK SC\n",
      "findfont: Generic family 'sans-serif' not found because none of the following families were found: Noto Sans CJK SC\n",
      "findfont: Generic family 'sans-serif' not found because none of the following families were found: Noto Sans CJK SC\n",
      "findfont: Generic family 'sans-serif' not found because none of the following families were found: Noto Sans CJK SC\n",
      "findfont: Generic family 'sans-serif' not found because none of the following families were found: Noto Sans CJK SC\n",
      "findfont: Generic family 'sans-serif' not found because none of the following families were found: Noto Sans CJK SC\n",
      "findfont: Generic family 'sans-serif' not found because none of the following families were found: Noto Sans CJK SC\n",
      "findfont: Generic family 'sans-serif' not found because none of the following families were found: Noto Sans CJK SC\n",
      "findfont: Generic family 'sans-serif' not found because none of the following families were found: Noto Sans CJK SC\n",
      "findfont: Generic family 'sans-serif' not found because none of the following families were found: Noto Sans CJK SC\n",
      "findfont: Generic family 'sans-serif' not found because none of the following families were found: Noto Sans CJK SC\n",
      "findfont: Generic family 'sans-serif' not found because none of the following families were found: Noto Sans CJK SC\n",
      "findfont: Generic family 'sans-serif' not found because none of the following families were found: Noto Sans CJK SC\n",
      "findfont: Generic family 'sans-serif' not found because none of the following families were found: Noto Sans CJK SC\n",
      "findfont: Generic family 'sans-serif' not found because none of the following families were found: Noto Sans CJK SC\n",
      "findfont: Generic family 'sans-serif' not found because none of the following families were found: Noto Sans CJK SC\n",
      "findfont: Generic family 'sans-serif' not found because none of the following families were found: Noto Sans CJK SC\n",
      "findfont: Generic family 'sans-serif' not found because none of the following families were found: Noto Sans CJK SC\n",
      "findfont: Generic family 'sans-serif' not found because none of the following families were found: Noto Sans CJK SC\n",
      "findfont: Generic family 'sans-serif' not found because none of the following families were found: Noto Sans CJK SC\n",
      "findfont: Generic family 'sans-serif' not found because none of the following families were found: Noto Sans CJK SC\n",
      "findfont: Generic family 'sans-serif' not found because none of the following families were found: Noto Sans CJK SC\n",
      "findfont: Generic family 'sans-serif' not found because none of the following families were found: Noto Sans CJK SC\n",
      "findfont: Generic family 'sans-serif' not found because none of the following families were found: Noto Sans CJK SC\n",
      "findfont: Generic family 'sans-serif' not found because none of the following families were found: Noto Sans CJK SC\n",
      "findfont: Generic family 'sans-serif' not found because none of the following families were found: Noto Sans CJK SC\n",
      "findfont: Generic family 'sans-serif' not found because none of the following families were found: Noto Sans CJK SC\n",
      "findfont: Generic family 'sans-serif' not found because none of the following families were found: Noto Sans CJK SC\n",
      "findfont: Generic family 'sans-serif' not found because none of the following families were found: Noto Sans CJK SC\n",
      "findfont: Generic family 'sans-serif' not found because none of the following families were found: Noto Sans CJK SC\n",
      "findfont: Generic family 'sans-serif' not found because none of the following families were found: Noto Sans CJK SC\n",
      "findfont: Generic family 'sans-serif' not found because none of the following families were found: Noto Sans CJK SC\n",
      "findfont: Generic family 'sans-serif' not found because none of the following families were found: Noto Sans CJK SC\n",
      "findfont: Generic family 'sans-serif' not found because none of the following families were found: Noto Sans CJK SC\n",
      "findfont: Generic family 'sans-serif' not found because none of the following families were found: Noto Sans CJK SC\n",
      "findfont: Generic family 'sans-serif' not found because none of the following families were found: Noto Sans CJK SC\n",
      "findfont: Generic family 'sans-serif' not found because none of the following families were found: Noto Sans CJK SC\n",
      "findfont: Generic family 'sans-serif' not found because none of the following families were found: Noto Sans CJK SC\n",
      "findfont: Generic family 'sans-serif' not found because none of the following families were found: Noto Sans CJK SC\n",
      "findfont: Generic family 'sans-serif' not found because none of the following families were found: Noto Sans CJK SC\n",
      "findfont: Generic family 'sans-serif' not found because none of the following families were found: Noto Sans CJK SC\n",
      "findfont: Generic family 'sans-serif' not found because none of the following families were found: Noto Sans CJK SC\n",
      "findfont: Generic family 'sans-serif' not found because none of the following families were found: Noto Sans CJK SC\n",
      "findfont: Generic family 'sans-serif' not found because none of the following families were found: Noto Sans CJK SC\n",
      "findfont: Generic family 'sans-serif' not found because none of the following families were found: Noto Sans CJK SC\n",
      "findfont: Generic family 'sans-serif' not found because none of the following families were found: Noto Sans CJK SC\n",
      "findfont: Generic family 'sans-serif' not found because none of the following families were found: Noto Sans CJK SC\n",
      "findfont: Generic family 'sans-serif' not found because none of the following families were found: Noto Sans CJK SC\n",
      "findfont: Generic family 'sans-serif' not found because none of the following families were found: Noto Sans CJK SC\n",
      "findfont: Generic family 'sans-serif' not found because none of the following families were found: Noto Sans CJK SC\n",
      "findfont: Generic family 'sans-serif' not found because none of the following families were found: Noto Sans CJK SC\n",
      "findfont: Generic family 'sans-serif' not found because none of the following families were found: Noto Sans CJK SC\n",
      "findfont: Generic family 'sans-serif' not found because none of the following families were found: Noto Sans CJK SC\n",
      "findfont: Generic family 'sans-serif' not found because none of the following families were found: Noto Sans CJK SC\n",
      "findfont: Generic family 'sans-serif' not found because none of the following families were found: Noto Sans CJK SC\n",
      "findfont: Generic family 'sans-serif' not found because none of the following families were found: Noto Sans CJK SC\n",
      "findfont: Generic family 'sans-serif' not found because none of the following families were found: Noto Sans CJK SC\n",
      "findfont: Generic family 'sans-serif' not found because none of the following families were found: Noto Sans CJK SC\n",
      "findfont: Generic family 'sans-serif' not found because none of the following families were found: Noto Sans CJK SC\n",
      "findfont: Generic family 'sans-serif' not found because none of the following families were found: Noto Sans CJK SC\n",
      "findfont: Generic family 'sans-serif' not found because none of the following families were found: Noto Sans CJK SC\n",
      "findfont: Generic family 'sans-serif' not found because none of the following families were found: Noto Sans CJK SC\n",
      "findfont: Generic family 'sans-serif' not found because none of the following families were found: Noto Sans CJK SC\n",
      "findfont: Generic family 'sans-serif' not found because none of the following families were found: Noto Sans CJK SC\n",
      "findfont: Generic family 'sans-serif' not found because none of the following families were found: Noto Sans CJK SC\n",
      "findfont: Generic family 'sans-serif' not found because none of the following families were found: Noto Sans CJK SC\n",
      "findfont: Generic family 'sans-serif' not found because none of the following families were found: Noto Sans CJK SC\n",
      "findfont: Generic family 'sans-serif' not found because none of the following families were found: Noto Sans CJK SC\n",
      "findfont: Generic family 'sans-serif' not found because none of the following families were found: Noto Sans CJK SC\n",
      "findfont: Generic family 'sans-serif' not found because none of the following families were found: Noto Sans CJK SC\n",
      "findfont: Generic family 'sans-serif' not found because none of the following families were found: Noto Sans CJK SC\n",
      "findfont: Generic family 'sans-serif' not found because none of the following families were found: Noto Sans CJK SC\n",
      "findfont: Generic family 'sans-serif' not found because none of the following families were found: Noto Sans CJK SC\n",
      "findfont: Generic family 'sans-serif' not found because none of the following families were found: Noto Sans CJK SC\n",
      "findfont: Generic family 'sans-serif' not found because none of the following families were found: Noto Sans CJK SC\n",
      "findfont: Generic family 'sans-serif' not found because none of the following families were found: Noto Sans CJK SC\n",
      "findfont: Generic family 'sans-serif' not found because none of the following families were found: Noto Sans CJK SC\n",
      "findfont: Generic family 'sans-serif' not found because none of the following families were found: Noto Sans CJK SC\n",
      "findfont: Generic family 'sans-serif' not found because none of the following families were found: Noto Sans CJK SC\n",
      "findfont: Generic family 'sans-serif' not found because none of the following families were found: Noto Sans CJK SC\n",
      "findfont: Generic family 'sans-serif' not found because none of the following families were found: Noto Sans CJK SC\n",
      "findfont: Generic family 'sans-serif' not found because none of the following families were found: Noto Sans CJK SC\n",
      "findfont: Generic family 'sans-serif' not found because none of the following families were found: Noto Sans CJK SC\n",
      "findfont: Generic family 'sans-serif' not found because none of the following families were found: Noto Sans CJK SC\n",
      "findfont: Generic family 'sans-serif' not found because none of the following families were found: Noto Sans CJK SC\n",
      "findfont: Generic family 'sans-serif' not found because none of the following families were found: Noto Sans CJK SC\n",
      "findfont: Generic family 'sans-serif' not found because none of the following families were found: Noto Sans CJK SC\n",
      "findfont: Generic family 'sans-serif' not found because none of the following families were found: Noto Sans CJK SC\n",
      "findfont: Generic family 'sans-serif' not found because none of the following families were found: Noto Sans CJK SC\n",
      "findfont: Generic family 'sans-serif' not found because none of the following families were found: Noto Sans CJK SC\n",
      "findfont: Generic family 'sans-serif' not found because none of the following families were found: Noto Sans CJK SC\n",
      "findfont: Generic family 'sans-serif' not found because none of the following families were found: Noto Sans CJK SC\n",
      "findfont: Generic family 'sans-serif' not found because none of the following families were found: Noto Sans CJK SC\n",
      "findfont: Generic family 'sans-serif' not found because none of the following families were found: Noto Sans CJK SC\n",
      "findfont: Generic family 'sans-serif' not found because none of the following families were found: Noto Sans CJK SC\n",
      "findfont: Generic family 'sans-serif' not found because none of the following families were found: Noto Sans CJK SC\n",
      "findfont: Generic family 'sans-serif' not found because none of the following families were found: Noto Sans CJK SC\n",
      "findfont: Generic family 'sans-serif' not found because none of the following families were found: Noto Sans CJK SC\n",
      "findfont: Generic family 'sans-serif' not found because none of the following families were found: Noto Sans CJK SC\n",
      "findfont: Generic family 'sans-serif' not found because none of the following families were found: Noto Sans CJK SC\n",
      "findfont: Generic family 'sans-serif' not found because none of the following families were found: Noto Sans CJK SC\n",
      "findfont: Generic family 'sans-serif' not found because none of the following families were found: Noto Sans CJK SC\n",
      "findfont: Generic family 'sans-serif' not found because none of the following families were found: Noto Sans CJK SC\n",
      "findfont: Generic family 'sans-serif' not found because none of the following families were found: Noto Sans CJK SC\n",
      "findfont: Generic family 'sans-serif' not found because none of the following families were found: Noto Sans CJK SC\n",
      "findfont: Generic family 'sans-serif' not found because none of the following families were found: Noto Sans CJK SC\n",
      "findfont: Generic family 'sans-serif' not found because none of the following families were found: Noto Sans CJK SC\n",
      "findfont: Generic family 'sans-serif' not found because none of the following families were found: Noto Sans CJK SC\n",
      "findfont: Generic family 'sans-serif' not found because none of the following families were found: Noto Sans CJK SC\n",
      "findfont: Generic family 'sans-serif' not found because none of the following families were found: Noto Sans CJK SC\n",
      "findfont: Generic family 'sans-serif' not found because none of the following families were found: Noto Sans CJK SC\n",
      "findfont: Generic family 'sans-serif' not found because none of the following families were found: Noto Sans CJK SC\n",
      "findfont: Generic family 'sans-serif' not found because none of the following families were found: Noto Sans CJK SC\n",
      "findfont: Generic family 'sans-serif' not found because none of the following families were found: Noto Sans CJK SC\n",
      "findfont: Generic family 'sans-serif' not found because none of the following families were found: Noto Sans CJK SC\n",
      "findfont: Generic family 'sans-serif' not found because none of the following families were found: Noto Sans CJK SC\n",
      "findfont: Generic family 'sans-serif' not found because none of the following families were found: Noto Sans CJK SC\n",
      "findfont: Generic family 'sans-serif' not found because none of the following families were found: Noto Sans CJK SC\n",
      "findfont: Generic family 'sans-serif' not found because none of the following families were found: Noto Sans CJK SC\n",
      "findfont: Generic family 'sans-serif' not found because none of the following families were found: Noto Sans CJK SC\n",
      "findfont: Generic family 'sans-serif' not found because none of the following families were found: Noto Sans CJK SC\n",
      "findfont: Generic family 'sans-serif' not found because none of the following families were found: Noto Sans CJK SC\n",
      "findfont: Generic family 'sans-serif' not found because none of the following families were found: Noto Sans CJK SC\n",
      "findfont: Generic family 'sans-serif' not found because none of the following families were found: Noto Sans CJK SC\n",
      "findfont: Generic family 'sans-serif' not found because none of the following families were found: Noto Sans CJK SC\n",
      "findfont: Generic family 'sans-serif' not found because none of the following families were found: Noto Sans CJK SC\n",
      "findfont: Generic family 'sans-serif' not found because none of the following families were found: Noto Sans CJK SC\n",
      "findfont: Generic family 'sans-serif' not found because none of the following families were found: Noto Sans CJK SC\n",
      "findfont: Generic family 'sans-serif' not found because none of the following families were found: Noto Sans CJK SC\n",
      "findfont: Generic family 'sans-serif' not found because none of the following families were found: Noto Sans CJK SC\n",
      "findfont: Generic family 'sans-serif' not found because none of the following families were found: Noto Sans CJK SC\n",
      "findfont: Generic family 'sans-serif' not found because none of the following families were found: Noto Sans CJK SC\n",
      "findfont: Generic family 'sans-serif' not found because none of the following families were found: Noto Sans CJK SC\n",
      "findfont: Generic family 'sans-serif' not found because none of the following families were found: Noto Sans CJK SC\n",
      "findfont: Generic family 'sans-serif' not found because none of the following families were found: Noto Sans CJK SC\n",
      "findfont: Generic family 'sans-serif' not found because none of the following families were found: Noto Sans CJK SC\n",
      "findfont: Generic family 'sans-serif' not found because none of the following families were found: Noto Sans CJK SC\n",
      "findfont: Generic family 'sans-serif' not found because none of the following families were found: Noto Sans CJK SC\n",
      "findfont: Generic family 'sans-serif' not found because none of the following families were found: Noto Sans CJK SC\n",
      "findfont: Generic family 'sans-serif' not found because none of the following families were found: Noto Sans CJK SC\n",
      "findfont: Generic family 'sans-serif' not found because none of the following families were found: Noto Sans CJK SC\n",
      "findfont: Generic family 'sans-serif' not found because none of the following families were found: Noto Sans CJK SC\n",
      "findfont: Generic family 'sans-serif' not found because none of the following families were found: Noto Sans CJK SC\n",
      "findfont: Generic family 'sans-serif' not found because none of the following families were found: Noto Sans CJK SC\n",
      "findfont: Generic family 'sans-serif' not found because none of the following families were found: Noto Sans CJK SC\n",
      "findfont: Generic family 'sans-serif' not found because none of the following families were found: Noto Sans CJK SC\n",
      "findfont: Generic family 'sans-serif' not found because none of the following families were found: Noto Sans CJK SC\n",
      "findfont: Generic family 'sans-serif' not found because none of the following families were found: Noto Sans CJK SC\n",
      "findfont: Generic family 'sans-serif' not found because none of the following families were found: Noto Sans CJK SC\n",
      "findfont: Generic family 'sans-serif' not found because none of the following families were found: Noto Sans CJK SC\n",
      "findfont: Generic family 'sans-serif' not found because none of the following families were found: Noto Sans CJK SC\n",
      "findfont: Generic family 'sans-serif' not found because none of the following families were found: Noto Sans CJK SC\n",
      "findfont: Generic family 'sans-serif' not found because none of the following families were found: Noto Sans CJK SC\n",
      "findfont: Generic family 'sans-serif' not found because none of the following families were found: Noto Sans CJK SC\n",
      "findfont: Generic family 'sans-serif' not found because none of the following families were found: Noto Sans CJK SC\n",
      "findfont: Generic family 'sans-serif' not found because none of the following families were found: Noto Sans CJK SC\n",
      "findfont: Generic family 'sans-serif' not found because none of the following families were found: Noto Sans CJK SC\n",
      "findfont: Generic family 'sans-serif' not found because none of the following families were found: Noto Sans CJK SC\n",
      "findfont: Generic family 'sans-serif' not found because none of the following families were found: Noto Sans CJK SC\n",
      "findfont: Generic family 'sans-serif' not found because none of the following families were found: Noto Sans CJK SC\n",
      "findfont: Generic family 'sans-serif' not found because none of the following families were found: Noto Sans CJK SC\n",
      "findfont: Generic family 'sans-serif' not found because none of the following families were found: Noto Sans CJK SC\n",
      "findfont: Generic family 'sans-serif' not found because none of the following families were found: Noto Sans CJK SC\n",
      "findfont: Generic family 'sans-serif' not found because none of the following families were found: Noto Sans CJK SC\n",
      "findfont: Generic family 'sans-serif' not found because none of the following families were found: Noto Sans CJK SC\n",
      "findfont: Generic family 'sans-serif' not found because none of the following families were found: Noto Sans CJK SC\n",
      "findfont: Generic family 'sans-serif' not found because none of the following families were found: Noto Sans CJK SC\n",
      "findfont: Generic family 'sans-serif' not found because none of the following families were found: Noto Sans CJK SC\n",
      "findfont: Generic family 'sans-serif' not found because none of the following families were found: Noto Sans CJK SC\n",
      "findfont: Generic family 'sans-serif' not found because none of the following families were found: Noto Sans CJK SC\n",
      "findfont: Generic family 'sans-serif' not found because none of the following families were found: Noto Sans CJK SC\n",
      "findfont: Generic family 'sans-serif' not found because none of the following families were found: Noto Sans CJK SC\n",
      "findfont: Generic family 'sans-serif' not found because none of the following families were found: Noto Sans CJK SC\n",
      "findfont: Generic family 'sans-serif' not found because none of the following families were found: Noto Sans CJK SC\n",
      "findfont: Generic family 'sans-serif' not found because none of the following families were found: Noto Sans CJK SC\n",
      "findfont: Generic family 'sans-serif' not found because none of the following families were found: Noto Sans CJK SC\n",
      "findfont: Generic family 'sans-serif' not found because none of the following families were found: Noto Sans CJK SC\n",
      "findfont: Generic family 'sans-serif' not found because none of the following families were found: Noto Sans CJK SC\n",
      "findfont: Generic family 'sans-serif' not found because none of the following families were found: Noto Sans CJK SC\n",
      "findfont: Generic family 'sans-serif' not found because none of the following families were found: Noto Sans CJK SC\n",
      "findfont: Generic family 'sans-serif' not found because none of the following families were found: Noto Sans CJK SC\n",
      "findfont: Generic family 'sans-serif' not found because none of the following families were found: Noto Sans CJK SC\n",
      "findfont: Generic family 'sans-serif' not found because none of the following families were found: Noto Sans CJK SC\n",
      "findfont: Generic family 'sans-serif' not found because none of the following families were found: Noto Sans CJK SC\n",
      "findfont: Generic family 'sans-serif' not found because none of the following families were found: Noto Sans CJK SC\n",
      "findfont: Generic family 'sans-serif' not found because none of the following families were found: Noto Sans CJK SC\n",
      "findfont: Generic family 'sans-serif' not found because none of the following families were found: Noto Sans CJK SC\n",
      "findfont: Generic family 'sans-serif' not found because none of the following families were found: Noto Sans CJK SC\n",
      "findfont: Generic family 'sans-serif' not found because none of the following families were found: Noto Sans CJK SC\n",
      "findfont: Generic family 'sans-serif' not found because none of the following families were found: Noto Sans CJK SC\n",
      "findfont: Generic family 'sans-serif' not found because none of the following families were found: Noto Sans CJK SC\n",
      "findfont: Generic family 'sans-serif' not found because none of the following families were found: Noto Sans CJK SC\n",
      "findfont: Generic family 'sans-serif' not found because none of the following families were found: Noto Sans CJK SC\n",
      "findfont: Generic family 'sans-serif' not found because none of the following families were found: Noto Sans CJK SC\n",
      "findfont: Generic family 'sans-serif' not found because none of the following families were found: Noto Sans CJK SC\n",
      "findfont: Generic family 'sans-serif' not found because none of the following families were found: Noto Sans CJK SC\n",
      "findfont: Generic family 'sans-serif' not found because none of the following families were found: Noto Sans CJK SC\n",
      "findfont: Generic family 'sans-serif' not found because none of the following families were found: Noto Sans CJK SC\n",
      "findfont: Generic family 'sans-serif' not found because none of the following families were found: Noto Sans CJK SC\n",
      "findfont: Generic family 'sans-serif' not found because none of the following families were found: Noto Sans CJK SC\n",
      "findfont: Generic family 'sans-serif' not found because none of the following families were found: Noto Sans CJK SC\n",
      "findfont: Generic family 'sans-serif' not found because none of the following families were found: Noto Sans CJK SC\n",
      "findfont: Generic family 'sans-serif' not found because none of the following families were found: Noto Sans CJK SC\n",
      "findfont: Generic family 'sans-serif' not found because none of the following families were found: Noto Sans CJK SC\n",
      "findfont: Generic family 'sans-serif' not found because none of the following families were found: Noto Sans CJK SC\n",
      "findfont: Generic family 'sans-serif' not found because none of the following families were found: Noto Sans CJK SC\n",
      "findfont: Generic family 'sans-serif' not found because none of the following families were found: Noto Sans CJK SC\n",
      "findfont: Generic family 'sans-serif' not found because none of the following families were found: Noto Sans CJK SC\n",
      "findfont: Generic family 'sans-serif' not found because none of the following families were found: Noto Sans CJK SC\n",
      "findfont: Generic family 'sans-serif' not found because none of the following families were found: Noto Sans CJK SC\n",
      "findfont: Generic family 'sans-serif' not found because none of the following families were found: Noto Sans CJK SC\n",
      "findfont: Generic family 'sans-serif' not found because none of the following families were found: Noto Sans CJK SC\n",
      "findfont: Generic family 'sans-serif' not found because none of the following families were found: Noto Sans CJK SC\n",
      "findfont: Generic family 'sans-serif' not found because none of the following families were found: Noto Sans CJK SC\n",
      "findfont: Generic family 'sans-serif' not found because none of the following families were found: Noto Sans CJK SC\n",
      "findfont: Generic family 'sans-serif' not found because none of the following families were found: Noto Sans CJK SC\n",
      "findfont: Generic family 'sans-serif' not found because none of the following families were found: Noto Sans CJK SC\n",
      "findfont: Generic family 'sans-serif' not found because none of the following families were found: Noto Sans CJK SC\n",
      "findfont: Generic family 'sans-serif' not found because none of the following families were found: Noto Sans CJK SC\n",
      "findfont: Generic family 'sans-serif' not found because none of the following families were found: Noto Sans CJK SC\n",
      "findfont: Generic family 'sans-serif' not found because none of the following families were found: Noto Sans CJK SC\n",
      "findfont: Generic family 'sans-serif' not found because none of the following families were found: Noto Sans CJK SC\n",
      "findfont: Generic family 'sans-serif' not found because none of the following families were found: Noto Sans CJK SC\n",
      "findfont: Generic family 'sans-serif' not found because none of the following families were found: Noto Sans CJK SC\n",
      "findfont: Generic family 'sans-serif' not found because none of the following families were found: Noto Sans CJK SC\n",
      "findfont: Generic family 'sans-serif' not found because none of the following families were found: Noto Sans CJK SC\n",
      "findfont: Generic family 'sans-serif' not found because none of the following families were found: Noto Sans CJK SC\n",
      "findfont: Generic family 'sans-serif' not found because none of the following families were found: Noto Sans CJK SC\n",
      "findfont: Generic family 'sans-serif' not found because none of the following families were found: Noto Sans CJK SC\n",
      "findfont: Generic family 'sans-serif' not found because none of the following families were found: Noto Sans CJK SC\n",
      "findfont: Generic family 'sans-serif' not found because none of the following families were found: Noto Sans CJK SC\n",
      "findfont: Generic family 'sans-serif' not found because none of the following families were found: Noto Sans CJK SC\n",
      "findfont: Generic family 'sans-serif' not found because none of the following families were found: Noto Sans CJK SC\n",
      "findfont: Generic family 'sans-serif' not found because none of the following families were found: Noto Sans CJK SC\n",
      "findfont: Generic family 'sans-serif' not found because none of the following families were found: Noto Sans CJK SC\n",
      "findfont: Generic family 'sans-serif' not found because none of the following families were found: Noto Sans CJK SC\n",
      "findfont: Generic family 'sans-serif' not found because none of the following families were found: Noto Sans CJK SC\n",
      "findfont: Generic family 'sans-serif' not found because none of the following families were found: Noto Sans CJK SC\n",
      "findfont: Generic family 'sans-serif' not found because none of the following families were found: Noto Sans CJK SC\n",
      "findfont: Generic family 'sans-serif' not found because none of the following families were found: Noto Sans CJK SC\n",
      "findfont: Generic family 'sans-serif' not found because none of the following families were found: Noto Sans CJK SC\n",
      "findfont: Generic family 'sans-serif' not found because none of the following families were found: Noto Sans CJK SC\n",
      "findfont: Generic family 'sans-serif' not found because none of the following families were found: Noto Sans CJK SC\n",
      "findfont: Generic family 'sans-serif' not found because none of the following families were found: Noto Sans CJK SC\n",
      "findfont: Generic family 'sans-serif' not found because none of the following families were found: Noto Sans CJK SC\n",
      "findfont: Generic family 'sans-serif' not found because none of the following families were found: Noto Sans CJK SC\n",
      "findfont: Generic family 'sans-serif' not found because none of the following families were found: Noto Sans CJK SC\n",
      "findfont: Generic family 'sans-serif' not found because none of the following families were found: Noto Sans CJK SC\n",
      "findfont: Generic family 'sans-serif' not found because none of the following families were found: Noto Sans CJK SC\n",
      "findfont: Generic family 'sans-serif' not found because none of the following families were found: Noto Sans CJK SC\n",
      "findfont: Generic family 'sans-serif' not found because none of the following families were found: Noto Sans CJK SC\n",
      "findfont: Generic family 'sans-serif' not found because none of the following families were found: Noto Sans CJK SC\n",
      "findfont: Generic family 'sans-serif' not found because none of the following families were found: Noto Sans CJK SC\n",
      "findfont: Generic family 'sans-serif' not found because none of the following families were found: Noto Sans CJK SC\n",
      "findfont: Generic family 'sans-serif' not found because none of the following families were found: Noto Sans CJK SC\n",
      "findfont: Generic family 'sans-serif' not found because none of the following families were found: Noto Sans CJK SC\n",
      "findfont: Generic family 'sans-serif' not found because none of the following families were found: Noto Sans CJK SC\n",
      "findfont: Generic family 'sans-serif' not found because none of the following families were found: Noto Sans CJK SC\n",
      "findfont: Generic family 'sans-serif' not found because none of the following families were found: Noto Sans CJK SC\n",
      "findfont: Generic family 'sans-serif' not found because none of the following families were found: Noto Sans CJK SC\n",
      "findfont: Generic family 'sans-serif' not found because none of the following families were found: Noto Sans CJK SC\n",
      "findfont: Generic family 'sans-serif' not found because none of the following families were found: Noto Sans CJK SC\n",
      "findfont: Generic family 'sans-serif' not found because none of the following families were found: Noto Sans CJK SC\n",
      "findfont: Generic family 'sans-serif' not found because none of the following families were found: Noto Sans CJK SC\n",
      "findfont: Generic family 'sans-serif' not found because none of the following families were found: Noto Sans CJK SC\n",
      "findfont: Generic family 'sans-serif' not found because none of the following families were found: Noto Sans CJK SC\n",
      "findfont: Generic family 'sans-serif' not found because none of the following families were found: Noto Sans CJK SC\n",
      "findfont: Generic family 'sans-serif' not found because none of the following families were found: Noto Sans CJK SC\n",
      "findfont: Generic family 'sans-serif' not found because none of the following families were found: Noto Sans CJK SC\n",
      "findfont: Generic family 'sans-serif' not found because none of the following families were found: Noto Sans CJK SC\n",
      "findfont: Generic family 'sans-serif' not found because none of the following families were found: Noto Sans CJK SC\n",
      "findfont: Generic family 'sans-serif' not found because none of the following families were found: Noto Sans CJK SC\n",
      "findfont: Generic family 'sans-serif' not found because none of the following families were found: Noto Sans CJK SC\n",
      "findfont: Generic family 'sans-serif' not found because none of the following families were found: Noto Sans CJK SC\n",
      "findfont: Generic family 'sans-serif' not found because none of the following families were found: Noto Sans CJK SC\n",
      "findfont: Generic family 'sans-serif' not found because none of the following families were found: Noto Sans CJK SC\n",
      "findfont: Generic family 'sans-serif' not found because none of the following families were found: Noto Sans CJK SC\n",
      "findfont: Generic family 'sans-serif' not found because none of the following families were found: Noto Sans CJK SC\n",
      "findfont: Generic family 'sans-serif' not found because none of the following families were found: Noto Sans CJK SC\n",
      "findfont: Generic family 'sans-serif' not found because none of the following families were found: Noto Sans CJK SC\n",
      "findfont: Generic family 'sans-serif' not found because none of the following families were found: Noto Sans CJK SC\n",
      "findfont: Generic family 'sans-serif' not found because none of the following families were found: Noto Sans CJK SC\n",
      "findfont: Generic family 'sans-serif' not found because none of the following families were found: Noto Sans CJK SC\n",
      "findfont: Generic family 'sans-serif' not found because none of the following families were found: Noto Sans CJK SC\n",
      "findfont: Generic family 'sans-serif' not found because none of the following families were found: Noto Sans CJK SC\n",
      "findfont: Generic family 'sans-serif' not found because none of the following families were found: Noto Sans CJK SC\n",
      "findfont: Generic family 'sans-serif' not found because none of the following families were found: Noto Sans CJK SC\n",
      "findfont: Generic family 'sans-serif' not found because none of the following families were found: Noto Sans CJK SC\n",
      "findfont: Generic family 'sans-serif' not found because none of the following families were found: Noto Sans CJK SC\n",
      "findfont: Generic family 'sans-serif' not found because none of the following families were found: Noto Sans CJK SC\n",
      "findfont: Generic family 'sans-serif' not found because none of the following families were found: Noto Sans CJK SC\n",
      "findfont: Generic family 'sans-serif' not found because none of the following families were found: Noto Sans CJK SC\n",
      "findfont: Generic family 'sans-serif' not found because none of the following families were found: Noto Sans CJK SC\n",
      "findfont: Generic family 'sans-serif' not found because none of the following families were found: Noto Sans CJK SC\n",
      "findfont: Generic family 'sans-serif' not found because none of the following families were found: Noto Sans CJK SC\n",
      "findfont: Generic family 'sans-serif' not found because none of the following families were found: Noto Sans CJK SC\n",
      "findfont: Generic family 'sans-serif' not found because none of the following families were found: Noto Sans CJK SC\n",
      "findfont: Generic family 'sans-serif' not found because none of the following families were found: Noto Sans CJK SC\n",
      "findfont: Generic family 'sans-serif' not found because none of the following families were found: Noto Sans CJK SC\n",
      "findfont: Generic family 'sans-serif' not found because none of the following families were found: Noto Sans CJK SC\n",
      "findfont: Generic family 'sans-serif' not found because none of the following families were found: Noto Sans CJK SC\n",
      "findfont: Generic family 'sans-serif' not found because none of the following families were found: Noto Sans CJK SC\n",
      "findfont: Generic family 'sans-serif' not found because none of the following families were found: Noto Sans CJK SC\n",
      "findfont: Generic family 'sans-serif' not found because none of the following families were found: Noto Sans CJK SC\n",
      "findfont: Generic family 'sans-serif' not found because none of the following families were found: Noto Sans CJK SC\n",
      "findfont: Generic family 'sans-serif' not found because none of the following families were found: Noto Sans CJK SC\n",
      "findfont: Generic family 'sans-serif' not found because none of the following families were found: Noto Sans CJK SC\n",
      "findfont: Generic family 'sans-serif' not found because none of the following families were found: Noto Sans CJK SC\n",
      "findfont: Generic family 'sans-serif' not found because none of the following families were found: Noto Sans CJK SC\n",
      "findfont: Generic family 'sans-serif' not found because none of the following families were found: Noto Sans CJK SC\n",
      "findfont: Generic family 'sans-serif' not found because none of the following families were found: Noto Sans CJK SC\n",
      "findfont: Generic family 'sans-serif' not found because none of the following families were found: Noto Sans CJK SC\n",
      "findfont: Generic family 'sans-serif' not found because none of the following families were found: Noto Sans CJK SC\n",
      "findfont: Generic family 'sans-serif' not found because none of the following families were found: Noto Sans CJK SC\n",
      "findfont: Generic family 'sans-serif' not found because none of the following families were found: Noto Sans CJK SC\n",
      "findfont: Generic family 'sans-serif' not found because none of the following families were found: Noto Sans CJK SC\n",
      "findfont: Generic family 'sans-serif' not found because none of the following families were found: Noto Sans CJK SC\n",
      "findfont: Generic family 'sans-serif' not found because none of the following families were found: Noto Sans CJK SC\n",
      "findfont: Generic family 'sans-serif' not found because none of the following families were found: Noto Sans CJK SC\n",
      "findfont: Generic family 'sans-serif' not found because none of the following families were found: Noto Sans CJK SC\n",
      "findfont: Generic family 'sans-serif' not found because none of the following families were found: Noto Sans CJK SC\n",
      "findfont: Generic family 'sans-serif' not found because none of the following families were found: Noto Sans CJK SC\n",
      "findfont: Generic family 'sans-serif' not found because none of the following families were found: Noto Sans CJK SC\n",
      "findfont: Generic family 'sans-serif' not found because none of the following families were found: Noto Sans CJK SC\n",
      "findfont: Generic family 'sans-serif' not found because none of the following families were found: Noto Sans CJK SC\n",
      "findfont: Generic family 'sans-serif' not found because none of the following families were found: Noto Sans CJK SC\n",
      "findfont: Generic family 'sans-serif' not found because none of the following families were found: Noto Sans CJK SC\n",
      "findfont: Generic family 'sans-serif' not found because none of the following families were found: Noto Sans CJK SC\n",
      "findfont: Generic family 'sans-serif' not found because none of the following families were found: Noto Sans CJK SC\n",
      "findfont: Generic family 'sans-serif' not found because none of the following families were found: Noto Sans CJK SC\n",
      "findfont: Generic family 'sans-serif' not found because none of the following families were found: Noto Sans CJK SC\n",
      "findfont: Generic family 'sans-serif' not found because none of the following families were found: Noto Sans CJK SC\n",
      "findfont: Generic family 'sans-serif' not found because none of the following families were found: Noto Sans CJK SC\n",
      "findfont: Generic family 'sans-serif' not found because none of the following families were found: Noto Sans CJK SC\n",
      "findfont: Generic family 'sans-serif' not found because none of the following families were found: Noto Sans CJK SC\n",
      "findfont: Generic family 'sans-serif' not found because none of the following families were found: Noto Sans CJK SC\n",
      "findfont: Generic family 'sans-serif' not found because none of the following families were found: Noto Sans CJK SC\n",
      "findfont: Generic family 'sans-serif' not found because none of the following families were found: Noto Sans CJK SC\n",
      "findfont: Generic family 'sans-serif' not found because none of the following families were found: Noto Sans CJK SC\n",
      "findfont: Generic family 'sans-serif' not found because none of the following families were found: Noto Sans CJK SC\n",
      "findfont: Generic family 'sans-serif' not found because none of the following families were found: Noto Sans CJK SC\n",
      "findfont: Generic family 'sans-serif' not found because none of the following families were found: Noto Sans CJK SC\n",
      "findfont: Generic family 'sans-serif' not found because none of the following families were found: Noto Sans CJK SC\n",
      "findfont: Generic family 'sans-serif' not found because none of the following families were found: Noto Sans CJK SC\n",
      "findfont: Generic family 'sans-serif' not found because none of the following families were found: Noto Sans CJK SC\n",
      "findfont: Generic family 'sans-serif' not found because none of the following families were found: Noto Sans CJK SC\n",
      "findfont: Generic family 'sans-serif' not found because none of the following families were found: Noto Sans CJK SC\n",
      "findfont: Generic family 'sans-serif' not found because none of the following families were found: Noto Sans CJK SC\n",
      "findfont: Generic family 'sans-serif' not found because none of the following families were found: Noto Sans CJK SC\n",
      "findfont: Generic family 'sans-serif' not found because none of the following families were found: Noto Sans CJK SC\n",
      "findfont: Generic family 'sans-serif' not found because none of the following families were found: Noto Sans CJK SC\n",
      "findfont: Generic family 'sans-serif' not found because none of the following families were found: Noto Sans CJK SC\n",
      "findfont: Generic family 'sans-serif' not found because none of the following families were found: Noto Sans CJK SC\n",
      "findfont: Generic family 'sans-serif' not found because none of the following families were found: Noto Sans CJK SC\n",
      "findfont: Generic family 'sans-serif' not found because none of the following families were found: Noto Sans CJK SC\n",
      "findfont: Generic family 'sans-serif' not found because none of the following families were found: Noto Sans CJK SC\n",
      "findfont: Generic family 'sans-serif' not found because none of the following families were found: Noto Sans CJK SC\n",
      "findfont: Generic family 'sans-serif' not found because none of the following families were found: Noto Sans CJK SC\n",
      "findfont: Generic family 'sans-serif' not found because none of the following families were found: Noto Sans CJK SC\n",
      "findfont: Generic family 'sans-serif' not found because none of the following families were found: Noto Sans CJK SC\n",
      "findfont: Generic family 'sans-serif' not found because none of the following families were found: Noto Sans CJK SC\n",
      "findfont: Generic family 'sans-serif' not found because none of the following families were found: Noto Sans CJK SC\n",
      "findfont: Generic family 'sans-serif' not found because none of the following families were found: Noto Sans CJK SC\n",
      "findfont: Generic family 'sans-serif' not found because none of the following families were found: Noto Sans CJK SC\n",
      "findfont: Generic family 'sans-serif' not found because none of the following families were found: Noto Sans CJK SC\n",
      "findfont: Generic family 'sans-serif' not found because none of the following families were found: Noto Sans CJK SC\n",
      "findfont: Generic family 'sans-serif' not found because none of the following families were found: Noto Sans CJK SC\n",
      "findfont: Generic family 'sans-serif' not found because none of the following families were found: Noto Sans CJK SC\n",
      "findfont: Generic family 'sans-serif' not found because none of the following families were found: Noto Sans CJK SC\n",
      "findfont: Generic family 'sans-serif' not found because none of the following families were found: Noto Sans CJK SC\n",
      "findfont: Generic family 'sans-serif' not found because none of the following families were found: Noto Sans CJK SC\n",
      "findfont: Generic family 'sans-serif' not found because none of the following families were found: Noto Sans CJK SC\n",
      "findfont: Generic family 'sans-serif' not found because none of the following families were found: Noto Sans CJK SC\n",
      "findfont: Generic family 'sans-serif' not found because none of the following families were found: Noto Sans CJK SC\n",
      "findfont: Generic family 'sans-serif' not found because none of the following families were found: Noto Sans CJK SC\n",
      "findfont: Generic family 'sans-serif' not found because none of the following families were found: Noto Sans CJK SC\n",
      "findfont: Generic family 'sans-serif' not found because none of the following families were found: Noto Sans CJK SC\n",
      "findfont: Generic family 'sans-serif' not found because none of the following families were found: Noto Sans CJK SC\n",
      "findfont: Generic family 'sans-serif' not found because none of the following families were found: Noto Sans CJK SC\n",
      "findfont: Generic family 'sans-serif' not found because none of the following families were found: Noto Sans CJK SC\n",
      "findfont: Generic family 'sans-serif' not found because none of the following families were found: Noto Sans CJK SC\n",
      "findfont: Generic family 'sans-serif' not found because none of the following families were found: Noto Sans CJK SC\n",
      "findfont: Generic family 'sans-serif' not found because none of the following families were found: Noto Sans CJK SC\n",
      "findfont: Generic family 'sans-serif' not found because none of the following families were found: Noto Sans CJK SC\n",
      "findfont: Generic family 'sans-serif' not found because none of the following families were found: Noto Sans CJK SC\n",
      "findfont: Generic family 'sans-serif' not found because none of the following families were found: Noto Sans CJK SC\n",
      "findfont: Generic family 'sans-serif' not found because none of the following families were found: Noto Sans CJK SC\n",
      "findfont: Generic family 'sans-serif' not found because none of the following families were found: Noto Sans CJK SC\n",
      "findfont: Generic family 'sans-serif' not found because none of the following families were found: Noto Sans CJK SC\n",
      "findfont: Generic family 'sans-serif' not found because none of the following families were found: Noto Sans CJK SC\n",
      "findfont: Generic family 'sans-serif' not found because none of the following families were found: Noto Sans CJK SC\n",
      "findfont: Generic family 'sans-serif' not found because none of the following families were found: Noto Sans CJK SC\n",
      "findfont: Generic family 'sans-serif' not found because none of the following families were found: Noto Sans CJK SC\n",
      "findfont: Generic family 'sans-serif' not found because none of the following families were found: Noto Sans CJK SC\n",
      "findfont: Generic family 'sans-serif' not found because none of the following families were found: Noto Sans CJK SC\n",
      "findfont: Generic family 'sans-serif' not found because none of the following families were found: Noto Sans CJK SC\n",
      "findfont: Generic family 'sans-serif' not found because none of the following families were found: Noto Sans CJK SC\n",
      "findfont: Generic family 'sans-serif' not found because none of the following families were found: Noto Sans CJK SC\n",
      "findfont: Generic family 'sans-serif' not found because none of the following families were found: Noto Sans CJK SC\n",
      "findfont: Generic family 'sans-serif' not found because none of the following families were found: Noto Sans CJK SC\n",
      "findfont: Generic family 'sans-serif' not found because none of the following families were found: Noto Sans CJK SC\n",
      "findfont: Generic family 'sans-serif' not found because none of the following families were found: Noto Sans CJK SC\n",
      "findfont: Generic family 'sans-serif' not found because none of the following families were found: Noto Sans CJK SC\n",
      "findfont: Generic family 'sans-serif' not found because none of the following families were found: Noto Sans CJK SC\n",
      "findfont: Generic family 'sans-serif' not found because none of the following families were found: Noto Sans CJK SC\n",
      "findfont: Generic family 'sans-serif' not found because none of the following families were found: Noto Sans CJK SC\n",
      "findfont: Generic family 'sans-serif' not found because none of the following families were found: Noto Sans CJK SC\n",
      "findfont: Generic family 'sans-serif' not found because none of the following families were found: Noto Sans CJK SC\n",
      "findfont: Generic family 'sans-serif' not found because none of the following families were found: Noto Sans CJK SC\n",
      "findfont: Generic family 'sans-serif' not found because none of the following families were found: Noto Sans CJK SC\n",
      "findfont: Generic family 'sans-serif' not found because none of the following families were found: Noto Sans CJK SC\n",
      "findfont: Generic family 'sans-serif' not found because none of the following families were found: Noto Sans CJK SC\n",
      "findfont: Generic family 'sans-serif' not found because none of the following families were found: Noto Sans CJK SC\n",
      "findfont: Generic family 'sans-serif' not found because none of the following families were found: Noto Sans CJK SC\n",
      "findfont: Generic family 'sans-serif' not found because none of the following families were found: Noto Sans CJK SC\n",
      "findfont: Generic family 'sans-serif' not found because none of the following families were found: Noto Sans CJK SC\n",
      "findfont: Generic family 'sans-serif' not found because none of the following families were found: Noto Sans CJK SC\n",
      "findfont: Generic family 'sans-serif' not found because none of the following families were found: Noto Sans CJK SC\n",
      "findfont: Generic family 'sans-serif' not found because none of the following families were found: Noto Sans CJK SC\n",
      "findfont: Generic family 'sans-serif' not found because none of the following families were found: Noto Sans CJK SC\n",
      "findfont: Generic family 'sans-serif' not found because none of the following families were found: Noto Sans CJK SC\n",
      "findfont: Generic family 'sans-serif' not found because none of the following families were found: Noto Sans CJK SC\n",
      "findfont: Generic family 'sans-serif' not found because none of the following families were found: Noto Sans CJK SC\n",
      "findfont: Generic family 'sans-serif' not found because none of the following families were found: Noto Sans CJK SC\n",
      "findfont: Generic family 'sans-serif' not found because none of the following families were found: Noto Sans CJK SC\n",
      "findfont: Generic family 'sans-serif' not found because none of the following families were found: Noto Sans CJK SC\n",
      "findfont: Generic family 'sans-serif' not found because none of the following families were found: Noto Sans CJK SC\n",
      "findfont: Generic family 'sans-serif' not found because none of the following families were found: Noto Sans CJK SC\n",
      "findfont: Generic family 'sans-serif' not found because none of the following families were found: Noto Sans CJK SC\n",
      "findfont: Generic family 'sans-serif' not found because none of the following families were found: Noto Sans CJK SC\n",
      "findfont: Generic family 'sans-serif' not found because none of the following families were found: Noto Sans CJK SC\n",
      "findfont: Generic family 'sans-serif' not found because none of the following families were found: Noto Sans CJK SC\n",
      "findfont: Generic family 'sans-serif' not found because none of the following families were found: Noto Sans CJK SC\n",
      "findfont: Generic family 'sans-serif' not found because none of the following families were found: Noto Sans CJK SC\n",
      "findfont: Generic family 'sans-serif' not found because none of the following families were found: Noto Sans CJK SC\n",
      "findfont: Generic family 'sans-serif' not found because none of the following families were found: Noto Sans CJK SC\n",
      "findfont: Generic family 'sans-serif' not found because none of the following families were found: Noto Sans CJK SC\n",
      "findfont: Generic family 'sans-serif' not found because none of the following families were found: Noto Sans CJK SC\n",
      "findfont: Generic family 'sans-serif' not found because none of the following families were found: Noto Sans CJK SC\n",
      "findfont: Generic family 'sans-serif' not found because none of the following families were found: Noto Sans CJK SC\n",
      "findfont: Generic family 'sans-serif' not found because none of the following families were found: Noto Sans CJK SC\n",
      "findfont: Generic family 'sans-serif' not found because none of the following families were found: Noto Sans CJK SC\n",
      "findfont: Generic family 'sans-serif' not found because none of the following families were found: Noto Sans CJK SC\n",
      "findfont: Generic family 'sans-serif' not found because none of the following families were found: Noto Sans CJK SC\n",
      "findfont: Generic family 'sans-serif' not found because none of the following families were found: Noto Sans CJK SC\n",
      "findfont: Generic family 'sans-serif' not found because none of the following families were found: Noto Sans CJK SC\n",
      "findfont: Generic family 'sans-serif' not found because none of the following families were found: Noto Sans CJK SC\n",
      "findfont: Generic family 'sans-serif' not found because none of the following families were found: Noto Sans CJK SC\n",
      "findfont: Generic family 'sans-serif' not found because none of the following families were found: Noto Sans CJK SC\n",
      "findfont: Generic family 'sans-serif' not found because none of the following families were found: Noto Sans CJK SC\n",
      "findfont: Generic family 'sans-serif' not found because none of the following families were found: Noto Sans CJK SC\n",
      "findfont: Generic family 'sans-serif' not found because none of the following families were found: Noto Sans CJK SC\n",
      "findfont: Generic family 'sans-serif' not found because none of the following families were found: Noto Sans CJK SC\n",
      "findfont: Generic family 'sans-serif' not found because none of the following families were found: Noto Sans CJK SC\n",
      "findfont: Generic family 'sans-serif' not found because none of the following families were found: Noto Sans CJK SC\n",
      "findfont: Generic family 'sans-serif' not found because none of the following families were found: Noto Sans CJK SC\n",
      "findfont: Generic family 'sans-serif' not found because none of the following families were found: Noto Sans CJK SC\n",
      "findfont: Generic family 'sans-serif' not found because none of the following families were found: Noto Sans CJK SC\n",
      "findfont: Generic family 'sans-serif' not found because none of the following families were found: Noto Sans CJK SC\n",
      "findfont: Generic family 'sans-serif' not found because none of the following families were found: Noto Sans CJK SC\n",
      "findfont: Generic family 'sans-serif' not found because none of the following families were found: Noto Sans CJK SC\n",
      "findfont: Generic family 'sans-serif' not found because none of the following families were found: Noto Sans CJK SC\n",
      "findfont: Generic family 'sans-serif' not found because none of the following families were found: Noto Sans CJK SC\n",
      "findfont: Generic family 'sans-serif' not found because none of the following families were found: Noto Sans CJK SC\n",
      "findfont: Generic family 'sans-serif' not found because none of the following families were found: Noto Sans CJK SC\n",
      "findfont: Generic family 'sans-serif' not found because none of the following families were found: Noto Sans CJK SC\n",
      "findfont: Generic family 'sans-serif' not found because none of the following families were found: Noto Sans CJK SC\n",
      "findfont: Generic family 'sans-serif' not found because none of the following families were found: Noto Sans CJK SC\n",
      "findfont: Generic family 'sans-serif' not found because none of the following families were found: Noto Sans CJK SC\n",
      "findfont: Generic family 'sans-serif' not found because none of the following families were found: Noto Sans CJK SC\n",
      "findfont: Generic family 'sans-serif' not found because none of the following families were found: Noto Sans CJK SC\n",
      "findfont: Generic family 'sans-serif' not found because none of the following families were found: Noto Sans CJK SC\n",
      "findfont: Generic family 'sans-serif' not found because none of the following families were found: Noto Sans CJK SC\n",
      "findfont: Generic family 'sans-serif' not found because none of the following families were found: Noto Sans CJK SC\n",
      "findfont: Generic family 'sans-serif' not found because none of the following families were found: Noto Sans CJK SC\n",
      "findfont: Generic family 'sans-serif' not found because none of the following families were found: Noto Sans CJK SC\n",
      "findfont: Generic family 'sans-serif' not found because none of the following families were found: Noto Sans CJK SC\n",
      "findfont: Generic family 'sans-serif' not found because none of the following families were found: Noto Sans CJK SC\n",
      "findfont: Generic family 'sans-serif' not found because none of the following families were found: Noto Sans CJK SC\n",
      "findfont: Generic family 'sans-serif' not found because none of the following families were found: Noto Sans CJK SC\n",
      "findfont: Generic family 'sans-serif' not found because none of the following families were found: Noto Sans CJK SC\n",
      "findfont: Generic family 'sans-serif' not found because none of the following families were found: Noto Sans CJK SC\n",
      "findfont: Generic family 'sans-serif' not found because none of the following families were found: Noto Sans CJK SC\n",
      "findfont: Generic family 'sans-serif' not found because none of the following families were found: Noto Sans CJK SC\n",
      "findfont: Generic family 'sans-serif' not found because none of the following families were found: Noto Sans CJK SC\n",
      "findfont: Generic family 'sans-serif' not found because none of the following families were found: Noto Sans CJK SC\n",
      "findfont: Generic family 'sans-serif' not found because none of the following families were found: Noto Sans CJK SC\n",
      "findfont: Generic family 'sans-serif' not found because none of the following families were found: Noto Sans CJK SC\n",
      "findfont: Generic family 'sans-serif' not found because none of the following families were found: Noto Sans CJK SC\n",
      "findfont: Generic family 'sans-serif' not found because none of the following families were found: Noto Sans CJK SC\n",
      "findfont: Generic family 'sans-serif' not found because none of the following families were found: Noto Sans CJK SC\n",
      "findfont: Generic family 'sans-serif' not found because none of the following families were found: Noto Sans CJK SC\n",
      "findfont: Generic family 'sans-serif' not found because none of the following families were found: Noto Sans CJK SC\n",
      "findfont: Generic family 'sans-serif' not found because none of the following families were found: Noto Sans CJK SC\n",
      "findfont: Generic family 'sans-serif' not found because none of the following families were found: Noto Sans CJK SC\n",
      "findfont: Generic family 'sans-serif' not found because none of the following families were found: Noto Sans CJK SC\n",
      "findfont: Generic family 'sans-serif' not found because none of the following families were found: Noto Sans CJK SC\n",
      "findfont: Generic family 'sans-serif' not found because none of the following families were found: Noto Sans CJK SC\n",
      "findfont: Generic family 'sans-serif' not found because none of the following families were found: Noto Sans CJK SC\n",
      "findfont: Generic family 'sans-serif' not found because none of the following families were found: Noto Sans CJK SC\n",
      "findfont: Generic family 'sans-serif' not found because none of the following families were found: Noto Sans CJK SC\n",
      "findfont: Generic family 'sans-serif' not found because none of the following families were found: Noto Sans CJK SC\n",
      "findfont: Generic family 'sans-serif' not found because none of the following families were found: Noto Sans CJK SC\n",
      "findfont: Generic family 'sans-serif' not found because none of the following families were found: Noto Sans CJK SC\n",
      "findfont: Generic family 'sans-serif' not found because none of the following families were found: Noto Sans CJK SC\n",
      "findfont: Generic family 'sans-serif' not found because none of the following families were found: Noto Sans CJK SC\n",
      "findfont: Generic family 'sans-serif' not found because none of the following families were found: Noto Sans CJK SC\n",
      "findfont: Generic family 'sans-serif' not found because none of the following families were found: Noto Sans CJK SC\n",
      "findfont: Generic family 'sans-serif' not found because none of the following families were found: Noto Sans CJK SC\n",
      "findfont: Generic family 'sans-serif' not found because none of the following families were found: Noto Sans CJK SC\n",
      "findfont: Generic family 'sans-serif' not found because none of the following families were found: Noto Sans CJK SC\n",
      "findfont: Generic family 'sans-serif' not found because none of the following families were found: Noto Sans CJK SC\n",
      "findfont: Generic family 'sans-serif' not found because none of the following families were found: Noto Sans CJK SC\n",
      "findfont: Generic family 'sans-serif' not found because none of the following families were found: Noto Sans CJK SC\n",
      "findfont: Generic family 'sans-serif' not found because none of the following families were found: Noto Sans CJK SC\n",
      "findfont: Generic family 'sans-serif' not found because none of the following families were found: Noto Sans CJK SC\n",
      "findfont: Generic family 'sans-serif' not found because none of the following families were found: Noto Sans CJK SC\n",
      "findfont: Generic family 'sans-serif' not found because none of the following families were found: Noto Sans CJK SC\n",
      "findfont: Generic family 'sans-serif' not found because none of the following families were found: Noto Sans CJK SC\n",
      "findfont: Generic family 'sans-serif' not found because none of the following families were found: Noto Sans CJK SC\n",
      "findfont: Generic family 'sans-serif' not found because none of the following families were found: Noto Sans CJK SC\n",
      "findfont: Generic family 'sans-serif' not found because none of the following families were found: Noto Sans CJK SC\n",
      "findfont: Generic family 'sans-serif' not found because none of the following families were found: Noto Sans CJK SC\n",
      "findfont: Generic family 'sans-serif' not found because none of the following families were found: Noto Sans CJK SC\n",
      "findfont: Generic family 'sans-serif' not found because none of the following families were found: Noto Sans CJK SC\n",
      "findfont: Generic family 'sans-serif' not found because none of the following families were found: Noto Sans CJK SC\n",
      "findfont: Generic family 'sans-serif' not found because none of the following families were found: Noto Sans CJK SC\n",
      "findfont: Generic family 'sans-serif' not found because none of the following families were found: Noto Sans CJK SC\n",
      "findfont: Generic family 'sans-serif' not found because none of the following families were found: Noto Sans CJK SC\n",
      "findfont: Generic family 'sans-serif' not found because none of the following families were found: Noto Sans CJK SC\n",
      "findfont: Generic family 'sans-serif' not found because none of the following families were found: Noto Sans CJK SC\n",
      "findfont: Generic family 'sans-serif' not found because none of the following families were found: Noto Sans CJK SC\n",
      "findfont: Generic family 'sans-serif' not found because none of the following families were found: Noto Sans CJK SC\n",
      "findfont: Generic family 'sans-serif' not found because none of the following families were found: Noto Sans CJK SC\n",
      "findfont: Generic family 'sans-serif' not found because none of the following families were found: Noto Sans CJK SC\n",
      "findfont: Generic family 'sans-serif' not found because none of the following families were found: Noto Sans CJK SC\n",
      "findfont: Generic family 'sans-serif' not found because none of the following families were found: Noto Sans CJK SC\n",
      "findfont: Generic family 'sans-serif' not found because none of the following families were found: Noto Sans CJK SC\n",
      "findfont: Generic family 'sans-serif' not found because none of the following families were found: Noto Sans CJK SC\n",
      "findfont: Generic family 'sans-serif' not found because none of the following families were found: Noto Sans CJK SC\n",
      "findfont: Generic family 'sans-serif' not found because none of the following families were found: Noto Sans CJK SC\n",
      "findfont: Generic family 'sans-serif' not found because none of the following families were found: Noto Sans CJK SC\n",
      "findfont: Generic family 'sans-serif' not found because none of the following families were found: Noto Sans CJK SC\n",
      "findfont: Generic family 'sans-serif' not found because none of the following families were found: Noto Sans CJK SC\n",
      "findfont: Generic family 'sans-serif' not found because none of the following families were found: Noto Sans CJK SC\n",
      "findfont: Generic family 'sans-serif' not found because none of the following families were found: Noto Sans CJK SC\n",
      "findfont: Generic family 'sans-serif' not found because none of the following families were found: Noto Sans CJK SC\n",
      "findfont: Generic family 'sans-serif' not found because none of the following families were found: Noto Sans CJK SC\n",
      "findfont: Generic family 'sans-serif' not found because none of the following families were found: Noto Sans CJK SC\n",
      "findfont: Generic family 'sans-serif' not found because none of the following families were found: Noto Sans CJK SC\n",
      "findfont: Generic family 'sans-serif' not found because none of the following families were found: Noto Sans CJK SC\n",
      "findfont: Generic family 'sans-serif' not found because none of the following families were found: Noto Sans CJK SC\n",
      "findfont: Generic family 'sans-serif' not found because none of the following families were found: Noto Sans CJK SC\n",
      "findfont: Generic family 'sans-serif' not found because none of the following families were found: Noto Sans CJK SC\n",
      "findfont: Generic family 'sans-serif' not found because none of the following families were found: Noto Sans CJK SC\n",
      "findfont: Generic family 'sans-serif' not found because none of the following families were found: Noto Sans CJK SC\n",
      "findfont: Generic family 'sans-serif' not found because none of the following families were found: Noto Sans CJK SC\n",
      "findfont: Generic family 'sans-serif' not found because none of the following families were found: Noto Sans CJK SC\n",
      "findfont: Generic family 'sans-serif' not found because none of the following families were found: Noto Sans CJK SC\n",
      "findfont: Generic family 'sans-serif' not found because none of the following families were found: Noto Sans CJK SC\n",
      "findfont: Generic family 'sans-serif' not found because none of the following families were found: Noto Sans CJK SC\n",
      "findfont: Generic family 'sans-serif' not found because none of the following families were found: Noto Sans CJK SC\n",
      "findfont: Generic family 'sans-serif' not found because none of the following families were found: Noto Sans CJK SC\n",
      "findfont: Generic family 'sans-serif' not found because none of the following families were found: Noto Sans CJK SC\n",
      "findfont: Generic family 'sans-serif' not found because none of the following families were found: Noto Sans CJK SC\n",
      "findfont: Generic family 'sans-serif' not found because none of the following families were found: Noto Sans CJK SC\n",
      "findfont: Generic family 'sans-serif' not found because none of the following families were found: Noto Sans CJK SC\n",
      "findfont: Generic family 'sans-serif' not found because none of the following families were found: Noto Sans CJK SC\n",
      "findfont: Generic family 'sans-serif' not found because none of the following families were found: Noto Sans CJK SC\n",
      "findfont: Generic family 'sans-serif' not found because none of the following families were found: Noto Sans CJK SC\n",
      "findfont: Generic family 'sans-serif' not found because none of the following families were found: Noto Sans CJK SC\n",
      "findfont: Generic family 'sans-serif' not found because none of the following families were found: Noto Sans CJK SC\n",
      "findfont: Generic family 'sans-serif' not found because none of the following families were found: Noto Sans CJK SC\n",
      "findfont: Generic family 'sans-serif' not found because none of the following families were found: Noto Sans CJK SC\n",
      "findfont: Generic family 'sans-serif' not found because none of the following families were found: Noto Sans CJK SC\n",
      "findfont: Generic family 'sans-serif' not found because none of the following families were found: Noto Sans CJK SC\n",
      "findfont: Generic family 'sans-serif' not found because none of the following families were found: Noto Sans CJK SC\n",
      "findfont: Generic family 'sans-serif' not found because none of the following families were found: Noto Sans CJK SC\n",
      "findfont: Generic family 'sans-serif' not found because none of the following families were found: Noto Sans CJK SC\n",
      "findfont: Generic family 'sans-serif' not found because none of the following families were found: Noto Sans CJK SC\n",
      "findfont: Generic family 'sans-serif' not found because none of the following families were found: Noto Sans CJK SC\n",
      "findfont: Generic family 'sans-serif' not found because none of the following families were found: Noto Sans CJK SC\n",
      "findfont: Generic family 'sans-serif' not found because none of the following families were found: Noto Sans CJK SC\n",
      "findfont: Generic family 'sans-serif' not found because none of the following families were found: Noto Sans CJK SC\n",
      "findfont: Generic family 'sans-serif' not found because none of the following families were found: Noto Sans CJK SC\n",
      "findfont: Generic family 'sans-serif' not found because none of the following families were found: Noto Sans CJK SC\n",
      "findfont: Generic family 'sans-serif' not found because none of the following families were found: Noto Sans CJK SC\n",
      "findfont: Generic family 'sans-serif' not found because none of the following families were found: Noto Sans CJK SC\n",
      "findfont: Generic family 'sans-serif' not found because none of the following families were found: Noto Sans CJK SC\n",
      "findfont: Generic family 'sans-serif' not found because none of the following families were found: Noto Sans CJK SC\n",
      "findfont: Generic family 'sans-serif' not found because none of the following families were found: Noto Sans CJK SC\n",
      "findfont: Generic family 'sans-serif' not found because none of the following families were found: Noto Sans CJK SC\n",
      "findfont: Generic family 'sans-serif' not found because none of the following families were found: Noto Sans CJK SC\n",
      "findfont: Generic family 'sans-serif' not found because none of the following families were found: Noto Sans CJK SC\n",
      "findfont: Generic family 'sans-serif' not found because none of the following families were found: Noto Sans CJK SC\n",
      "findfont: Generic family 'sans-serif' not found because none of the following families were found: Noto Sans CJK SC\n",
      "findfont: Generic family 'sans-serif' not found because none of the following families were found: Noto Sans CJK SC\n",
      "findfont: Generic family 'sans-serif' not found because none of the following families were found: Noto Sans CJK SC\n",
      "findfont: Generic family 'sans-serif' not found because none of the following families were found: Noto Sans CJK SC\n",
      "findfont: Generic family 'sans-serif' not found because none of the following families were found: Noto Sans CJK SC\n",
      "findfont: Generic family 'sans-serif' not found because none of the following families were found: Noto Sans CJK SC\n",
      "findfont: Generic family 'sans-serif' not found because none of the following families were found: Noto Sans CJK SC\n",
      "findfont: Generic family 'sans-serif' not found because none of the following families were found: Noto Sans CJK SC\n",
      "findfont: Generic family 'sans-serif' not found because none of the following families were found: Noto Sans CJK SC\n",
      "findfont: Generic family 'sans-serif' not found because none of the following families were found: Noto Sans CJK SC\n",
      "findfont: Generic family 'sans-serif' not found because none of the following families were found: Noto Sans CJK SC\n",
      "findfont: Generic family 'sans-serif' not found because none of the following families were found: Noto Sans CJK SC\n",
      "findfont: Generic family 'sans-serif' not found because none of the following families were found: Noto Sans CJK SC\n",
      "findfont: Generic family 'sans-serif' not found because none of the following families were found: Noto Sans CJK SC\n",
      "findfont: Generic family 'sans-serif' not found because none of the following families were found: Noto Sans CJK SC\n",
      "findfont: Generic family 'sans-serif' not found because none of the following families were found: Noto Sans CJK SC\n",
      "findfont: Generic family 'sans-serif' not found because none of the following families were found: Noto Sans CJK SC\n",
      "findfont: Generic family 'sans-serif' not found because none of the following families were found: Noto Sans CJK SC\n",
      "findfont: Generic family 'sans-serif' not found because none of the following families were found: Noto Sans CJK SC\n",
      "findfont: Generic family 'sans-serif' not found because none of the following families were found: Noto Sans CJK SC\n",
      "findfont: Generic family 'sans-serif' not found because none of the following families were found: Noto Sans CJK SC\n",
      "findfont: Generic family 'sans-serif' not found because none of the following families were found: Noto Sans CJK SC\n",
      "findfont: Generic family 'sans-serif' not found because none of the following families were found: Noto Sans CJK SC\n",
      "findfont: Generic family 'sans-serif' not found because none of the following families were found: Noto Sans CJK SC\n",
      "findfont: Generic family 'sans-serif' not found because none of the following families were found: Noto Sans CJK SC\n",
      "findfont: Generic family 'sans-serif' not found because none of the following families were found: Noto Sans CJK SC\n",
      "findfont: Generic family 'sans-serif' not found because none of the following families were found: Noto Sans CJK SC\n",
      "findfont: Generic family 'sans-serif' not found because none of the following families were found: Noto Sans CJK SC\n",
      "findfont: Generic family 'sans-serif' not found because none of the following families were found: Noto Sans CJK SC\n",
      "findfont: Generic family 'sans-serif' not found because none of the following families were found: Noto Sans CJK SC\n",
      "findfont: Generic family 'sans-serif' not found because none of the following families were found: Noto Sans CJK SC\n",
      "findfont: Generic family 'sans-serif' not found because none of the following families were found: Noto Sans CJK SC\n",
      "findfont: Generic family 'sans-serif' not found because none of the following families were found: Noto Sans CJK SC\n",
      "findfont: Generic family 'sans-serif' not found because none of the following families were found: Noto Sans CJK SC\n",
      "findfont: Generic family 'sans-serif' not found because none of the following families were found: Noto Sans CJK SC\n",
      "findfont: Generic family 'sans-serif' not found because none of the following families were found: Noto Sans CJK SC\n",
      "findfont: Generic family 'sans-serif' not found because none of the following families were found: Noto Sans CJK SC\n",
      "findfont: Generic family 'sans-serif' not found because none of the following families were found: Noto Sans CJK SC\n",
      "findfont: Generic family 'sans-serif' not found because none of the following families were found: Noto Sans CJK SC\n",
      "findfont: Generic family 'sans-serif' not found because none of the following families were found: Noto Sans CJK SC\n",
      "findfont: Generic family 'sans-serif' not found because none of the following families were found: Noto Sans CJK SC\n",
      "findfont: Generic family 'sans-serif' not found because none of the following families were found: Noto Sans CJK SC\n",
      "findfont: Generic family 'sans-serif' not found because none of the following families were found: Noto Sans CJK SC\n",
      "findfont: Generic family 'sans-serif' not found because none of the following families were found: Noto Sans CJK SC\n",
      "findfont: Generic family 'sans-serif' not found because none of the following families were found: Noto Sans CJK SC\n",
      "findfont: Generic family 'sans-serif' not found because none of the following families were found: Noto Sans CJK SC\n",
      "findfont: Generic family 'sans-serif' not found because none of the following families were found: Noto Sans CJK SC\n",
      "findfont: Generic family 'sans-serif' not found because none of the following families were found: Noto Sans CJK SC\n",
      "findfont: Generic family 'sans-serif' not found because none of the following families were found: Noto Sans CJK SC\n",
      "findfont: Generic family 'sans-serif' not found because none of the following families were found: Noto Sans CJK SC\n",
      "findfont: Generic family 'sans-serif' not found because none of the following families were found: Noto Sans CJK SC\n",
      "findfont: Generic family 'sans-serif' not found because none of the following families were found: Noto Sans CJK SC\n",
      "findfont: Generic family 'sans-serif' not found because none of the following families were found: Noto Sans CJK SC\n",
      "findfont: Generic family 'sans-serif' not found because none of the following families were found: Noto Sans CJK SC\n",
      "findfont: Generic family 'sans-serif' not found because none of the following families were found: Noto Sans CJK SC\n",
      "findfont: Generic family 'sans-serif' not found because none of the following families were found: Noto Sans CJK SC\n",
      "findfont: Generic family 'sans-serif' not found because none of the following families were found: Noto Sans CJK SC\n",
      "findfont: Generic family 'sans-serif' not found because none of the following families were found: Noto Sans CJK SC\n",
      "findfont: Generic family 'sans-serif' not found because none of the following families were found: Noto Sans CJK SC\n",
      "findfont: Generic family 'sans-serif' not found because none of the following families were found: Noto Sans CJK SC\n",
      "findfont: Generic family 'sans-serif' not found because none of the following families were found: Noto Sans CJK SC\n",
      "findfont: Generic family 'sans-serif' not found because none of the following families were found: Noto Sans CJK SC\n",
      "findfont: Generic family 'sans-serif' not found because none of the following families were found: Noto Sans CJK SC\n",
      "findfont: Generic family 'sans-serif' not found because none of the following families were found: Noto Sans CJK SC\n",
      "findfont: Generic family 'sans-serif' not found because none of the following families were found: Noto Sans CJK SC\n",
      "findfont: Generic family 'sans-serif' not found because none of the following families were found: Noto Sans CJK SC\n",
      "findfont: Generic family 'sans-serif' not found because none of the following families were found: Noto Sans CJK SC\n",
      "findfont: Generic family 'sans-serif' not found because none of the following families were found: Noto Sans CJK SC\n",
      "findfont: Generic family 'sans-serif' not found because none of the following families were found: Noto Sans CJK SC\n",
      "findfont: Generic family 'sans-serif' not found because none of the following families were found: Noto Sans CJK SC\n",
      "findfont: Generic family 'sans-serif' not found because none of the following families were found: Noto Sans CJK SC\n",
      "findfont: Generic family 'sans-serif' not found because none of the following families were found: Noto Sans CJK SC\n",
      "findfont: Generic family 'sans-serif' not found because none of the following families were found: Noto Sans CJK SC\n",
      "findfont: Generic family 'sans-serif' not found because none of the following families were found: Noto Sans CJK SC\n",
      "findfont: Generic family 'sans-serif' not found because none of the following families were found: Noto Sans CJK SC\n",
      "findfont: Generic family 'sans-serif' not found because none of the following families were found: Noto Sans CJK SC\n",
      "findfont: Generic family 'sans-serif' not found because none of the following families were found: Noto Sans CJK SC\n",
      "findfont: Generic family 'sans-serif' not found because none of the following families were found: Noto Sans CJK SC\n",
      "findfont: Generic family 'sans-serif' not found because none of the following families were found: Noto Sans CJK SC\n",
      "findfont: Generic family 'sans-serif' not found because none of the following families were found: Noto Sans CJK SC\n",
      "findfont: Generic family 'sans-serif' not found because none of the following families were found: Noto Sans CJK SC\n",
      "findfont: Generic family 'sans-serif' not found because none of the following families were found: Noto Sans CJK SC\n",
      "findfont: Generic family 'sans-serif' not found because none of the following families were found: Noto Sans CJK SC\n",
      "findfont: Generic family 'sans-serif' not found because none of the following families were found: Noto Sans CJK SC\n",
      "findfont: Generic family 'sans-serif' not found because none of the following families were found: Noto Sans CJK SC\n",
      "findfont: Generic family 'sans-serif' not found because none of the following families were found: Noto Sans CJK SC\n",
      "findfont: Generic family 'sans-serif' not found because none of the following families were found: Noto Sans CJK SC\n",
      "findfont: Generic family 'sans-serif' not found because none of the following families were found: Noto Sans CJK SC\n",
      "findfont: Generic family 'sans-serif' not found because none of the following families were found: Noto Sans CJK SC\n",
      "findfont: Generic family 'sans-serif' not found because none of the following families were found: Noto Sans CJK SC\n",
      "findfont: Generic family 'sans-serif' not found because none of the following families were found: Noto Sans CJK SC\n",
      "findfont: Generic family 'sans-serif' not found because none of the following families were found: Noto Sans CJK SC\n",
      "findfont: Generic family 'sans-serif' not found because none of the following families were found: Noto Sans CJK SC\n",
      "findfont: Generic family 'sans-serif' not found because none of the following families were found: Noto Sans CJK SC\n",
      "findfont: Generic family 'sans-serif' not found because none of the following families were found: Noto Sans CJK SC\n",
      "findfont: Generic family 'sans-serif' not found because none of the following families were found: Noto Sans CJK SC\n",
      "findfont: Generic family 'sans-serif' not found because none of the following families were found: Noto Sans CJK SC\n",
      "findfont: Generic family 'sans-serif' not found because none of the following families were found: Noto Sans CJK SC\n",
      "findfont: Generic family 'sans-serif' not found because none of the following families were found: Noto Sans CJK SC\n",
      "findfont: Generic family 'sans-serif' not found because none of the following families were found: Noto Sans CJK SC\n",
      "findfont: Generic family 'sans-serif' not found because none of the following families were found: Noto Sans CJK SC\n",
      "findfont: Generic family 'sans-serif' not found because none of the following families were found: Noto Sans CJK SC\n",
      "findfont: Generic family 'sans-serif' not found because none of the following families were found: Noto Sans CJK SC\n",
      "findfont: Generic family 'sans-serif' not found because none of the following families were found: Noto Sans CJK SC\n",
      "findfont: Generic family 'sans-serif' not found because none of the following families were found: Noto Sans CJK SC\n",
      "findfont: Generic family 'sans-serif' not found because none of the following families were found: Noto Sans CJK SC\n",
      "findfont: Generic family 'sans-serif' not found because none of the following families were found: Noto Sans CJK SC\n",
      "findfont: Generic family 'sans-serif' not found because none of the following families were found: Noto Sans CJK SC\n",
      "findfont: Generic family 'sans-serif' not found because none of the following families were found: Noto Sans CJK SC\n",
      "findfont: Generic family 'sans-serif' not found because none of the following families were found: Noto Sans CJK SC\n",
      "findfont: Generic family 'sans-serif' not found because none of the following families were found: Noto Sans CJK SC\n",
      "findfont: Generic family 'sans-serif' not found because none of the following families were found: Noto Sans CJK SC\n",
      "findfont: Generic family 'sans-serif' not found because none of the following families were found: Noto Sans CJK SC\n",
      "findfont: Generic family 'sans-serif' not found because none of the following families were found: Noto Sans CJK SC\n",
      "findfont: Generic family 'sans-serif' not found because none of the following families were found: Noto Sans CJK SC\n",
      "findfont: Generic family 'sans-serif' not found because none of the following families were found: Noto Sans CJK SC\n",
      "findfont: Generic family 'sans-serif' not found because none of the following families were found: Noto Sans CJK SC\n",
      "findfont: Generic family 'sans-serif' not found because none of the following families were found: Noto Sans CJK SC\n",
      "findfont: Generic family 'sans-serif' not found because none of the following families were found: Noto Sans CJK SC\n",
      "findfont: Generic family 'sans-serif' not found because none of the following families were found: Noto Sans CJK SC\n",
      "findfont: Generic family 'sans-serif' not found because none of the following families were found: Noto Sans CJK SC\n",
      "findfont: Generic family 'sans-serif' not found because none of the following families were found: Noto Sans CJK SC\n",
      "findfont: Generic family 'sans-serif' not found because none of the following families were found: Noto Sans CJK SC\n",
      "findfont: Generic family 'sans-serif' not found because none of the following families were found: Noto Sans CJK SC\n",
      "findfont: Generic family 'sans-serif' not found because none of the following families were found: Noto Sans CJK SC\n",
      "findfont: Generic family 'sans-serif' not found because none of the following families were found: Noto Sans CJK SC\n",
      "findfont: Generic family 'sans-serif' not found because none of the following families were found: Noto Sans CJK SC\n",
      "findfont: Generic family 'sans-serif' not found because none of the following families were found: Noto Sans CJK SC\n",
      "findfont: Generic family 'sans-serif' not found because none of the following families were found: Noto Sans CJK SC\n",
      "findfont: Generic family 'sans-serif' not found because none of the following families were found: Noto Sans CJK SC\n",
      "findfont: Generic family 'sans-serif' not found because none of the following families were found: Noto Sans CJK SC\n",
      "findfont: Generic family 'sans-serif' not found because none of the following families were found: Noto Sans CJK SC\n",
      "findfont: Generic family 'sans-serif' not found because none of the following families were found: Noto Sans CJK SC\n",
      "findfont: Generic family 'sans-serif' not found because none of the following families were found: Noto Sans CJK SC\n",
      "findfont: Generic family 'sans-serif' not found because none of the following families were found: Noto Sans CJK SC\n",
      "findfont: Generic family 'sans-serif' not found because none of the following families were found: Noto Sans CJK SC\n",
      "findfont: Generic family 'sans-serif' not found because none of the following families were found: Noto Sans CJK SC\n",
      "findfont: Generic family 'sans-serif' not found because none of the following families were found: Noto Sans CJK SC\n",
      "findfont: Generic family 'sans-serif' not found because none of the following families were found: Noto Sans CJK SC\n",
      "findfont: Generic family 'sans-serif' not found because none of the following families were found: Noto Sans CJK SC\n",
      "findfont: Generic family 'sans-serif' not found because none of the following families were found: Noto Sans CJK SC\n",
      "findfont: Generic family 'sans-serif' not found because none of the following families were found: Noto Sans CJK SC\n",
      "findfont: Generic family 'sans-serif' not found because none of the following families were found: Noto Sans CJK SC\n",
      "findfont: Generic family 'sans-serif' not found because none of the following families were found: Noto Sans CJK SC\n",
      "findfont: Generic family 'sans-serif' not found because none of the following families were found: Noto Sans CJK SC\n",
      "findfont: Generic family 'sans-serif' not found because none of the following families were found: Noto Sans CJK SC\n",
      "findfont: Generic family 'sans-serif' not found because none of the following families were found: Noto Sans CJK SC\n",
      "findfont: Generic family 'sans-serif' not found because none of the following families were found: Noto Sans CJK SC\n",
      "findfont: Generic family 'sans-serif' not found because none of the following families were found: Noto Sans CJK SC\n",
      "findfont: Generic family 'sans-serif' not found because none of the following families were found: Noto Sans CJK SC\n",
      "findfont: Generic family 'sans-serif' not found because none of the following families were found: Noto Sans CJK SC\n",
      "findfont: Generic family 'sans-serif' not found because none of the following families were found: Noto Sans CJK SC\n",
      "findfont: Generic family 'sans-serif' not found because none of the following families were found: Noto Sans CJK SC\n",
      "findfont: Generic family 'sans-serif' not found because none of the following families were found: Noto Sans CJK SC\n",
      "findfont: Generic family 'sans-serif' not found because none of the following families were found: Noto Sans CJK SC\n",
      "findfont: Generic family 'sans-serif' not found because none of the following families were found: Noto Sans CJK SC\n",
      "findfont: Generic family 'sans-serif' not found because none of the following families were found: Noto Sans CJK SC\n",
      "findfont: Generic family 'sans-serif' not found because none of the following families were found: Noto Sans CJK SC\n",
      "findfont: Generic family 'sans-serif' not found because none of the following families were found: Noto Sans CJK SC\n",
      "findfont: Generic family 'sans-serif' not found because none of the following families were found: Noto Sans CJK SC\n",
      "findfont: Generic family 'sans-serif' not found because none of the following families were found: Noto Sans CJK SC\n",
      "findfont: Generic family 'sans-serif' not found because none of the following families were found: Noto Sans CJK SC\n",
      "findfont: Generic family 'sans-serif' not found because none of the following families were found: Noto Sans CJK SC\n",
      "findfont: Generic family 'sans-serif' not found because none of the following families were found: Noto Sans CJK SC\n",
      "findfont: Generic family 'sans-serif' not found because none of the following families were found: Noto Sans CJK SC\n",
      "findfont: Generic family 'sans-serif' not found because none of the following families were found: Noto Sans CJK SC\n",
      "findfont: Generic family 'sans-serif' not found because none of the following families were found: Noto Sans CJK SC\n",
      "findfont: Generic family 'sans-serif' not found because none of the following families were found: Noto Sans CJK SC\n",
      "findfont: Generic family 'sans-serif' not found because none of the following families were found: Noto Sans CJK SC\n",
      "findfont: Generic family 'sans-serif' not found because none of the following families were found: Noto Sans CJK SC\n",
      "findfont: Generic family 'sans-serif' not found because none of the following families were found: Noto Sans CJK SC\n",
      "findfont: Generic family 'sans-serif' not found because none of the following families were found: Noto Sans CJK SC\n",
      "findfont: Generic family 'sans-serif' not found because none of the following families were found: Noto Sans CJK SC\n",
      "findfont: Generic family 'sans-serif' not found because none of the following families were found: Noto Sans CJK SC\n",
      "findfont: Generic family 'sans-serif' not found because none of the following families were found: Noto Sans CJK SC\n",
      "findfont: Generic family 'sans-serif' not found because none of the following families were found: Noto Sans CJK SC\n",
      "findfont: Generic family 'sans-serif' not found because none of the following families were found: Noto Sans CJK SC\n",
      "findfont: Generic family 'sans-serif' not found because none of the following families were found: Noto Sans CJK SC\n",
      "findfont: Generic family 'sans-serif' not found because none of the following families were found: Noto Sans CJK SC\n",
      "findfont: Generic family 'sans-serif' not found because none of the following families were found: Noto Sans CJK SC\n",
      "findfont: Generic family 'sans-serif' not found because none of the following families were found: Noto Sans CJK SC\n",
      "findfont: Generic family 'sans-serif' not found because none of the following families were found: Noto Sans CJK SC\n",
      "findfont: Generic family 'sans-serif' not found because none of the following families were found: Noto Sans CJK SC\n",
      "findfont: Generic family 'sans-serif' not found because none of the following families were found: Noto Sans CJK SC\n",
      "findfont: Generic family 'sans-serif' not found because none of the following families were found: Noto Sans CJK SC\n",
      "findfont: Generic family 'sans-serif' not found because none of the following families were found: Noto Sans CJK SC\n",
      "findfont: Generic family 'sans-serif' not found because none of the following families were found: Noto Sans CJK SC\n",
      "findfont: Generic family 'sans-serif' not found because none of the following families were found: Noto Sans CJK SC\n",
      "findfont: Generic family 'sans-serif' not found because none of the following families were found: Noto Sans CJK SC\n",
      "findfont: Generic family 'sans-serif' not found because none of the following families were found: Noto Sans CJK SC\n",
      "findfont: Generic family 'sans-serif' not found because none of the following families were found: Noto Sans CJK SC\n",
      "findfont: Generic family 'sans-serif' not found because none of the following families were found: Noto Sans CJK SC\n",
      "findfont: Generic family 'sans-serif' not found because none of the following families were found: Noto Sans CJK SC\n",
      "findfont: Generic family 'sans-serif' not found because none of the following families were found: Noto Sans CJK SC\n",
      "findfont: Generic family 'sans-serif' not found because none of the following families were found: Noto Sans CJK SC\n",
      "findfont: Generic family 'sans-serif' not found because none of the following families were found: Noto Sans CJK SC\n",
      "findfont: Generic family 'sans-serif' not found because none of the following families were found: Noto Sans CJK SC\n",
      "findfont: Generic family 'sans-serif' not found because none of the following families were found: Noto Sans CJK SC\n",
      "findfont: Generic family 'sans-serif' not found because none of the following families were found: Noto Sans CJK SC\n",
      "findfont: Generic family 'sans-serif' not found because none of the following families were found: Noto Sans CJK SC\n",
      "findfont: Generic family 'sans-serif' not found because none of the following families were found: Noto Sans CJK SC\n",
      "findfont: Generic family 'sans-serif' not found because none of the following families were found: Noto Sans CJK SC\n",
      "findfont: Generic family 'sans-serif' not found because none of the following families were found: Noto Sans CJK SC\n",
      "findfont: Generic family 'sans-serif' not found because none of the following families were found: Noto Sans CJK SC\n",
      "findfont: Generic family 'sans-serif' not found because none of the following families were found: Noto Sans CJK SC\n",
      "findfont: Generic family 'sans-serif' not found because none of the following families were found: Noto Sans CJK SC\n",
      "findfont: Generic family 'sans-serif' not found because none of the following families were found: Noto Sans CJK SC\n",
      "findfont: Generic family 'sans-serif' not found because none of the following families were found: Noto Sans CJK SC\n",
      "findfont: Generic family 'sans-serif' not found because none of the following families were found: Noto Sans CJK SC\n",
      "findfont: Generic family 'sans-serif' not found because none of the following families were found: Noto Sans CJK SC\n",
      "findfont: Generic family 'sans-serif' not found because none of the following families were found: Noto Sans CJK SC\n",
      "findfont: Generic family 'sans-serif' not found because none of the following families were found: Noto Sans CJK SC\n",
      "findfont: Generic family 'sans-serif' not found because none of the following families were found: Noto Sans CJK SC\n",
      "findfont: Generic family 'sans-serif' not found because none of the following families were found: Noto Sans CJK SC\n",
      "findfont: Generic family 'sans-serif' not found because none of the following families were found: Noto Sans CJK SC\n",
      "findfont: Generic family 'sans-serif' not found because none of the following families were found: Noto Sans CJK SC\n",
      "findfont: Generic family 'sans-serif' not found because none of the following families were found: Noto Sans CJK SC\n",
      "findfont: Generic family 'sans-serif' not found because none of the following families were found: Noto Sans CJK SC\n",
      "findfont: Generic family 'sans-serif' not found because none of the following families were found: Noto Sans CJK SC\n",
      "findfont: Generic family 'sans-serif' not found because none of the following families were found: Noto Sans CJK SC\n",
      "findfont: Generic family 'sans-serif' not found because none of the following families were found: Noto Sans CJK SC\n",
      "findfont: Generic family 'sans-serif' not found because none of the following families were found: Noto Sans CJK SC\n",
      "findfont: Generic family 'sans-serif' not found because none of the following families were found: Noto Sans CJK SC\n",
      "findfont: Generic family 'sans-serif' not found because none of the following families were found: Noto Sans CJK SC\n",
      "findfont: Generic family 'sans-serif' not found because none of the following families were found: Noto Sans CJK SC\n",
      "findfont: Generic family 'sans-serif' not found because none of the following families were found: Noto Sans CJK SC\n",
      "findfont: Generic family 'sans-serif' not found because none of the following families were found: Noto Sans CJK SC\n",
      "findfont: Generic family 'sans-serif' not found because none of the following families were found: Noto Sans CJK SC\n",
      "findfont: Generic family 'sans-serif' not found because none of the following families were found: Noto Sans CJK SC\n",
      "findfont: Generic family 'sans-serif' not found because none of the following families were found: Noto Sans CJK SC\n",
      "findfont: Generic family 'sans-serif' not found because none of the following families were found: Noto Sans CJK SC\n",
      "findfont: Generic family 'sans-serif' not found because none of the following families were found: Noto Sans CJK SC\n",
      "findfont: Generic family 'sans-serif' not found because none of the following families were found: Noto Sans CJK SC\n",
      "findfont: Generic family 'sans-serif' not found because none of the following families were found: Noto Sans CJK SC\n",
      "findfont: Generic family 'sans-serif' not found because none of the following families were found: Noto Sans CJK SC\n",
      "findfont: Generic family 'sans-serif' not found because none of the following families were found: Noto Sans CJK SC\n",
      "findfont: Generic family 'sans-serif' not found because none of the following families were found: Noto Sans CJK SC\n",
      "findfont: Generic family 'sans-serif' not found because none of the following families were found: Noto Sans CJK SC\n",
      "findfont: Generic family 'sans-serif' not found because none of the following families were found: Noto Sans CJK SC\n",
      "findfont: Generic family 'sans-serif' not found because none of the following families were found: Noto Sans CJK SC\n",
      "findfont: Generic family 'sans-serif' not found because none of the following families were found: Noto Sans CJK SC\n",
      "findfont: Generic family 'sans-serif' not found because none of the following families were found: Noto Sans CJK SC\n",
      "findfont: Generic family 'sans-serif' not found because none of the following families were found: Noto Sans CJK SC\n",
      "findfont: Generic family 'sans-serif' not found because none of the following families were found: Noto Sans CJK SC\n",
      "findfont: Generic family 'sans-serif' not found because none of the following families were found: Noto Sans CJK SC\n",
      "findfont: Generic family 'sans-serif' not found because none of the following families were found: Noto Sans CJK SC\n",
      "findfont: Generic family 'sans-serif' not found because none of the following families were found: Noto Sans CJK SC\n",
      "findfont: Generic family 'sans-serif' not found because none of the following families were found: Noto Sans CJK SC\n",
      "findfont: Generic family 'sans-serif' not found because none of the following families were found: Noto Sans CJK SC\n",
      "findfont: Generic family 'sans-serif' not found because none of the following families were found: Noto Sans CJK SC\n",
      "findfont: Generic family 'sans-serif' not found because none of the following families were found: Noto Sans CJK SC\n",
      "findfont: Generic family 'sans-serif' not found because none of the following families were found: Noto Sans CJK SC\n",
      "findfont: Generic family 'sans-serif' not found because none of the following families were found: Noto Sans CJK SC\n",
      "findfont: Generic family 'sans-serif' not found because none of the following families were found: Noto Sans CJK SC\n",
      "findfont: Generic family 'sans-serif' not found because none of the following families were found: Noto Sans CJK SC\n",
      "findfont: Generic family 'sans-serif' not found because none of the following families were found: Noto Sans CJK SC\n",
      "findfont: Generic family 'sans-serif' not found because none of the following families were found: Noto Sans CJK SC\n",
      "findfont: Generic family 'sans-serif' not found because none of the following families were found: Noto Sans CJK SC\n",
      "findfont: Generic family 'sans-serif' not found because none of the following families were found: Noto Sans CJK SC\n",
      "findfont: Generic family 'sans-serif' not found because none of the following families were found: Noto Sans CJK SC\n",
      "findfont: Generic family 'sans-serif' not found because none of the following families were found: Noto Sans CJK SC\n",
      "findfont: Generic family 'sans-serif' not found because none of the following families were found: Noto Sans CJK SC\n",
      "findfont: Generic family 'sans-serif' not found because none of the following families were found: Noto Sans CJK SC\n",
      "findfont: Generic family 'sans-serif' not found because none of the following families were found: Noto Sans CJK SC\n",
      "findfont: Generic family 'sans-serif' not found because none of the following families were found: Noto Sans CJK SC\n",
      "findfont: Generic family 'sans-serif' not found because none of the following families were found: Noto Sans CJK SC\n",
      "findfont: Generic family 'sans-serif' not found because none of the following families were found: Noto Sans CJK SC\n",
      "findfont: Generic family 'sans-serif' not found because none of the following families were found: Noto Sans CJK SC\n",
      "findfont: Generic family 'sans-serif' not found because none of the following families were found: Noto Sans CJK SC\n",
      "findfont: Generic family 'sans-serif' not found because none of the following families were found: Noto Sans CJK SC\n",
      "findfont: Generic family 'sans-serif' not found because none of the following families were found: Noto Sans CJK SC\n",
      "findfont: Generic family 'sans-serif' not found because none of the following families were found: Noto Sans CJK SC\n",
      "findfont: Generic family 'sans-serif' not found because none of the following families were found: Noto Sans CJK SC\n",
      "findfont: Generic family 'sans-serif' not found because none of the following families were found: Noto Sans CJK SC\n",
      "findfont: Generic family 'sans-serif' not found because none of the following families were found: Noto Sans CJK SC\n",
      "findfont: Generic family 'sans-serif' not found because none of the following families were found: Noto Sans CJK SC\n",
      "findfont: Generic family 'sans-serif' not found because none of the following families were found: Noto Sans CJK SC\n",
      "findfont: Generic family 'sans-serif' not found because none of the following families were found: Noto Sans CJK SC\n",
      "findfont: Generic family 'sans-serif' not found because none of the following families were found: Noto Sans CJK SC\n",
      "findfont: Generic family 'sans-serif' not found because none of the following families were found: Noto Sans CJK SC\n",
      "findfont: Generic family 'sans-serif' not found because none of the following families were found: Noto Sans CJK SC\n",
      "findfont: Generic family 'sans-serif' not found because none of the following families were found: Noto Sans CJK SC\n",
      "findfont: Generic family 'sans-serif' not found because none of the following families were found: Noto Sans CJK SC\n",
      "findfont: Generic family 'sans-serif' not found because none of the following families were found: Noto Sans CJK SC\n",
      "findfont: Generic family 'sans-serif' not found because none of the following families were found: Noto Sans CJK SC\n",
      "findfont: Generic family 'sans-serif' not found because none of the following families were found: Noto Sans CJK SC\n",
      "findfont: Generic family 'sans-serif' not found because none of the following families were found: Noto Sans CJK SC\n",
      "findfont: Generic family 'sans-serif' not found because none of the following families were found: Noto Sans CJK SC\n",
      "findfont: Generic family 'sans-serif' not found because none of the following families were found: Noto Sans CJK SC\n",
      "findfont: Generic family 'sans-serif' not found because none of the following families were found: Noto Sans CJK SC\n",
      "findfont: Generic family 'sans-serif' not found because none of the following families were found: Noto Sans CJK SC\n",
      "findfont: Generic family 'sans-serif' not found because none of the following families were found: Noto Sans CJK SC\n",
      "findfont: Generic family 'sans-serif' not found because none of the following families were found: Noto Sans CJK SC\n",
      "findfont: Generic family 'sans-serif' not found because none of the following families were found: Noto Sans CJK SC\n",
      "findfont: Generic family 'sans-serif' not found because none of the following families were found: Noto Sans CJK SC\n",
      "findfont: Generic family 'sans-serif' not found because none of the following families were found: Noto Sans CJK SC\n",
      "findfont: Generic family 'sans-serif' not found because none of the following families were found: Noto Sans CJK SC\n",
      "findfont: Generic family 'sans-serif' not found because none of the following families were found: Noto Sans CJK SC\n",
      "findfont: Generic family 'sans-serif' not found because none of the following families were found: Noto Sans CJK SC\n",
      "findfont: Generic family 'sans-serif' not found because none of the following families were found: Noto Sans CJK SC\n",
      "findfont: Generic family 'sans-serif' not found because none of the following families were found: Noto Sans CJK SC\n",
      "findfont: Generic family 'sans-serif' not found because none of the following families were found: Noto Sans CJK SC\n",
      "findfont: Generic family 'sans-serif' not found because none of the following families were found: Noto Sans CJK SC\n",
      "findfont: Generic family 'sans-serif' not found because none of the following families were found: Noto Sans CJK SC\n",
      "findfont: Generic family 'sans-serif' not found because none of the following families were found: Noto Sans CJK SC\n",
      "findfont: Generic family 'sans-serif' not found because none of the following families were found: Noto Sans CJK SC\n",
      "findfont: Generic family 'sans-serif' not found because none of the following families were found: Noto Sans CJK SC\n",
      "findfont: Generic family 'sans-serif' not found because none of the following families were found: Noto Sans CJK SC\n",
      "findfont: Generic family 'sans-serif' not found because none of the following families were found: Noto Sans CJK SC\n",
      "findfont: Generic family 'sans-serif' not found because none of the following families were found: Noto Sans CJK SC\n",
      "findfont: Generic family 'sans-serif' not found because none of the following families were found: Noto Sans CJK SC\n",
      "findfont: Generic family 'sans-serif' not found because none of the following families were found: Noto Sans CJK SC\n",
      "findfont: Generic family 'sans-serif' not found because none of the following families were found: Noto Sans CJK SC\n",
      "findfont: Generic family 'sans-serif' not found because none of the following families were found: Noto Sans CJK SC\n",
      "findfont: Generic family 'sans-serif' not found because none of the following families were found: Noto Sans CJK SC\n",
      "findfont: Generic family 'sans-serif' not found because none of the following families were found: Noto Sans CJK SC\n",
      "findfont: Generic family 'sans-serif' not found because none of the following families were found: Noto Sans CJK SC\n",
      "findfont: Generic family 'sans-serif' not found because none of the following families were found: Noto Sans CJK SC\n",
      "findfont: Generic family 'sans-serif' not found because none of the following families were found: Noto Sans CJK SC\n",
      "findfont: Generic family 'sans-serif' not found because none of the following families were found: Noto Sans CJK SC\n",
      "findfont: Generic family 'sans-serif' not found because none of the following families were found: Noto Sans CJK SC\n",
      "findfont: Generic family 'sans-serif' not found because none of the following families were found: Noto Sans CJK SC\n",
      "findfont: Generic family 'sans-serif' not found because none of the following families were found: Noto Sans CJK SC\n",
      "findfont: Generic family 'sans-serif' not found because none of the following families were found: Noto Sans CJK SC\n",
      "findfont: Generic family 'sans-serif' not found because none of the following families were found: Noto Sans CJK SC\n",
      "findfont: Generic family 'sans-serif' not found because none of the following families were found: Noto Sans CJK SC\n",
      "findfont: Generic family 'sans-serif' not found because none of the following families were found: Noto Sans CJK SC\n",
      "findfont: Generic family 'sans-serif' not found because none of the following families were found: Noto Sans CJK SC\n",
      "findfont: Generic family 'sans-serif' not found because none of the following families were found: Noto Sans CJK SC\n",
      "findfont: Generic family 'sans-serif' not found because none of the following families were found: Noto Sans CJK SC\n",
      "findfont: Generic family 'sans-serif' not found because none of the following families were found: Noto Sans CJK SC\n",
      "findfont: Generic family 'sans-serif' not found because none of the following families were found: Noto Sans CJK SC\n",
      "findfont: Generic family 'sans-serif' not found because none of the following families were found: Noto Sans CJK SC\n",
      "findfont: Generic family 'sans-serif' not found because none of the following families were found: Noto Sans CJK SC\n",
      "findfont: Generic family 'sans-serif' not found because none of the following families were found: Noto Sans CJK SC\n",
      "findfont: Generic family 'sans-serif' not found because none of the following families were found: Noto Sans CJK SC\n",
      "findfont: Generic family 'sans-serif' not found because none of the following families were found: Noto Sans CJK SC\n",
      "findfont: Generic family 'sans-serif' not found because none of the following families were found: Noto Sans CJK SC\n",
      "findfont: Generic family 'sans-serif' not found because none of the following families were found: Noto Sans CJK SC\n",
      "findfont: Generic family 'sans-serif' not found because none of the following families were found: Noto Sans CJK SC\n",
      "findfont: Generic family 'sans-serif' not found because none of the following families were found: Noto Sans CJK SC\n",
      "findfont: Generic family 'sans-serif' not found because none of the following families were found: Noto Sans CJK SC\n",
      "findfont: Generic family 'sans-serif' not found because none of the following families were found: Noto Sans CJK SC\n",
      "findfont: Generic family 'sans-serif' not found because none of the following families were found: Noto Sans CJK SC\n",
      "findfont: Generic family 'sans-serif' not found because none of the following families were found: Noto Sans CJK SC\n",
      "findfont: Generic family 'sans-serif' not found because none of the following families were found: Noto Sans CJK SC\n",
      "findfont: Generic family 'sans-serif' not found because none of the following families were found: Noto Sans CJK SC\n",
      "findfont: Generic family 'sans-serif' not found because none of the following families were found: Noto Sans CJK SC\n",
      "findfont: Generic family 'sans-serif' not found because none of the following families were found: Noto Sans CJK SC\n",
      "findfont: Generic family 'sans-serif' not found because none of the following families were found: Noto Sans CJK SC\n",
      "findfont: Generic family 'sans-serif' not found because none of the following families were found: Noto Sans CJK SC\n",
      "findfont: Generic family 'sans-serif' not found because none of the following families were found: Noto Sans CJK SC\n",
      "findfont: Generic family 'sans-serif' not found because none of the following families were found: Noto Sans CJK SC\n",
      "findfont: Generic family 'sans-serif' not found because none of the following families were found: Noto Sans CJK SC\n",
      "findfont: Generic family 'sans-serif' not found because none of the following families were found: Noto Sans CJK SC\n",
      "findfont: Generic family 'sans-serif' not found because none of the following families were found: Noto Sans CJK SC\n",
      "findfont: Generic family 'sans-serif' not found because none of the following families were found: Noto Sans CJK SC\n",
      "findfont: Generic family 'sans-serif' not found because none of the following families were found: Noto Sans CJK SC\n",
      "findfont: Generic family 'sans-serif' not found because none of the following families were found: Noto Sans CJK SC\n",
      "findfont: Generic family 'sans-serif' not found because none of the following families were found: Noto Sans CJK SC\n",
      "findfont: Generic family 'sans-serif' not found because none of the following families were found: Noto Sans CJK SC\n",
      "findfont: Generic family 'sans-serif' not found because none of the following families were found: Noto Sans CJK SC\n",
      "findfont: Generic family 'sans-serif' not found because none of the following families were found: Noto Sans CJK SC\n",
      "findfont: Generic family 'sans-serif' not found because none of the following families were found: Noto Sans CJK SC\n",
      "findfont: Generic family 'sans-serif' not found because none of the following families were found: Noto Sans CJK SC\n",
      "findfont: Generic family 'sans-serif' not found because none of the following families were found: Noto Sans CJK SC\n",
      "findfont: Generic family 'sans-serif' not found because none of the following families were found: Noto Sans CJK SC\n",
      "findfont: Generic family 'sans-serif' not found because none of the following families were found: Noto Sans CJK SC\n",
      "findfont: Generic family 'sans-serif' not found because none of the following families were found: Noto Sans CJK SC\n",
      "findfont: Generic family 'sans-serif' not found because none of the following families were found: Noto Sans CJK SC\n",
      "findfont: Generic family 'sans-serif' not found because none of the following families were found: Noto Sans CJK SC\n",
      "findfont: Generic family 'sans-serif' not found because none of the following families were found: Noto Sans CJK SC\n",
      "findfont: Generic family 'sans-serif' not found because none of the following families were found: Noto Sans CJK SC\n",
      "findfont: Generic family 'sans-serif' not found because none of the following families were found: Noto Sans CJK SC\n",
      "findfont: Generic family 'sans-serif' not found because none of the following families were found: Noto Sans CJK SC\n",
      "findfont: Generic family 'sans-serif' not found because none of the following families were found: Noto Sans CJK SC\n",
      "findfont: Generic family 'sans-serif' not found because none of the following families were found: Noto Sans CJK SC\n",
      "findfont: Generic family 'sans-serif' not found because none of the following families were found: Noto Sans CJK SC\n",
      "findfont: Generic family 'sans-serif' not found because none of the following families were found: Noto Sans CJK SC\n",
      "findfont: Generic family 'sans-serif' not found because none of the following families were found: Noto Sans CJK SC\n",
      "findfont: Generic family 'sans-serif' not found because none of the following families were found: Noto Sans CJK SC\n",
      "findfont: Generic family 'sans-serif' not found because none of the following families were found: Noto Sans CJK SC\n",
      "findfont: Generic family 'sans-serif' not found because none of the following families were found: Noto Sans CJK SC\n",
      "findfont: Generic family 'sans-serif' not found because none of the following families were found: Noto Sans CJK SC\n",
      "findfont: Generic family 'sans-serif' not found because none of the following families were found: Noto Sans CJK SC\n",
      "findfont: Generic family 'sans-serif' not found because none of the following families were found: Noto Sans CJK SC\n",
      "findfont: Generic family 'sans-serif' not found because none of the following families were found: Noto Sans CJK SC\n",
      "findfont: Generic family 'sans-serif' not found because none of the following families were found: Noto Sans CJK SC\n",
      "findfont: Generic family 'sans-serif' not found because none of the following families were found: Noto Sans CJK SC\n",
      "findfont: Generic family 'sans-serif' not found because none of the following families were found: Noto Sans CJK SC\n",
      "findfont: Generic family 'sans-serif' not found because none of the following families were found: Noto Sans CJK SC\n",
      "findfont: Generic family 'sans-serif' not found because none of the following families were found: Noto Sans CJK SC\n",
      "findfont: Generic family 'sans-serif' not found because none of the following families were found: Noto Sans CJK SC\n",
      "findfont: Generic family 'sans-serif' not found because none of the following families were found: Noto Sans CJK SC\n",
      "findfont: Generic family 'sans-serif' not found because none of the following families were found: Noto Sans CJK SC\n",
      "findfont: Generic family 'sans-serif' not found because none of the following families were found: Noto Sans CJK SC\n",
      "findfont: Generic family 'sans-serif' not found because none of the following families were found: Noto Sans CJK SC\n",
      "findfont: Generic family 'sans-serif' not found because none of the following families were found: Noto Sans CJK SC\n",
      "findfont: Generic family 'sans-serif' not found because none of the following families were found: Noto Sans CJK SC\n",
      "findfont: Generic family 'sans-serif' not found because none of the following families were found: Noto Sans CJK SC\n",
      "findfont: Generic family 'sans-serif' not found because none of the following families were found: Noto Sans CJK SC\n",
      "findfont: Generic family 'sans-serif' not found because none of the following families were found: Noto Sans CJK SC\n",
      "findfont: Generic family 'sans-serif' not found because none of the following families were found: Noto Sans CJK SC\n",
      "findfont: Generic family 'sans-serif' not found because none of the following families were found: Noto Sans CJK SC\n",
      "findfont: Generic family 'sans-serif' not found because none of the following families were found: Noto Sans CJK SC\n",
      "findfont: Generic family 'sans-serif' not found because none of the following families were found: Noto Sans CJK SC\n",
      "findfont: Generic family 'sans-serif' not found because none of the following families were found: Noto Sans CJK SC\n",
      "findfont: Generic family 'sans-serif' not found because none of the following families were found: Noto Sans CJK SC\n",
      "findfont: Generic family 'sans-serif' not found because none of the following families were found: Noto Sans CJK SC\n",
      "findfont: Generic family 'sans-serif' not found because none of the following families were found: Noto Sans CJK SC\n",
      "findfont: Generic family 'sans-serif' not found because none of the following families were found: Noto Sans CJK SC\n",
      "findfont: Generic family 'sans-serif' not found because none of the following families were found: Noto Sans CJK SC\n",
      "findfont: Generic family 'sans-serif' not found because none of the following families were found: Noto Sans CJK SC\n",
      "findfont: Generic family 'sans-serif' not found because none of the following families were found: Noto Sans CJK SC\n",
      "findfont: Generic family 'sans-serif' not found because none of the following families were found: Noto Sans CJK SC\n",
      "findfont: Generic family 'sans-serif' not found because none of the following families were found: Noto Sans CJK SC\n",
      "findfont: Generic family 'sans-serif' not found because none of the following families were found: Noto Sans CJK SC\n",
      "findfont: Generic family 'sans-serif' not found because none of the following families were found: Noto Sans CJK SC\n",
      "findfont: Generic family 'sans-serif' not found because none of the following families were found: Noto Sans CJK SC\n",
      "findfont: Generic family 'sans-serif' not found because none of the following families were found: Noto Sans CJK SC\n",
      "findfont: Generic family 'sans-serif' not found because none of the following families were found: Noto Sans CJK SC\n",
      "findfont: Generic family 'sans-serif' not found because none of the following families were found: Noto Sans CJK SC\n",
      "findfont: Generic family 'sans-serif' not found because none of the following families were found: Noto Sans CJK SC\n",
      "findfont: Generic family 'sans-serif' not found because none of the following families were found: Noto Sans CJK SC\n",
      "findfont: Generic family 'sans-serif' not found because none of the following families were found: Noto Sans CJK SC\n",
      "findfont: Generic family 'sans-serif' not found because none of the following families were found: Noto Sans CJK SC\n",
      "findfont: Generic family 'sans-serif' not found because none of the following families were found: Noto Sans CJK SC\n",
      "findfont: Generic family 'sans-serif' not found because none of the following families were found: Noto Sans CJK SC\n",
      "findfont: Generic family 'sans-serif' not found because none of the following families were found: Noto Sans CJK SC\n",
      "findfont: Generic family 'sans-serif' not found because none of the following families were found: Noto Sans CJK SC\n",
      "findfont: Generic family 'sans-serif' not found because none of the following families were found: Noto Sans CJK SC\n",
      "findfont: Generic family 'sans-serif' not found because none of the following families were found: Noto Sans CJK SC\n",
      "findfont: Generic family 'sans-serif' not found because none of the following families were found: Noto Sans CJK SC\n",
      "findfont: Generic family 'sans-serif' not found because none of the following families were found: Noto Sans CJK SC\n",
      "findfont: Generic family 'sans-serif' not found because none of the following families were found: Noto Sans CJK SC\n",
      "findfont: Generic family 'sans-serif' not found because none of the following families were found: Noto Sans CJK SC\n",
      "findfont: Generic family 'sans-serif' not found because none of the following families were found: Noto Sans CJK SC\n",
      "findfont: Generic family 'sans-serif' not found because none of the following families were found: Noto Sans CJK SC\n",
      "findfont: Generic family 'sans-serif' not found because none of the following families were found: Noto Sans CJK SC\n",
      "findfont: Generic family 'sans-serif' not found because none of the following families were found: Noto Sans CJK SC\n",
      "findfont: Generic family 'sans-serif' not found because none of the following families were found: Noto Sans CJK SC\n",
      "findfont: Generic family 'sans-serif' not found because none of the following families were found: Noto Sans CJK SC\n",
      "findfont: Generic family 'sans-serif' not found because none of the following families were found: Noto Sans CJK SC\n",
      "findfont: Generic family 'sans-serif' not found because none of the following families were found: Noto Sans CJK SC\n",
      "findfont: Generic family 'sans-serif' not found because none of the following families were found: Noto Sans CJK SC\n",
      "findfont: Generic family 'sans-serif' not found because none of the following families were found: Noto Sans CJK SC\n",
      "findfont: Generic family 'sans-serif' not found because none of the following families were found: Noto Sans CJK SC\n",
      "findfont: Generic family 'sans-serif' not found because none of the following families were found: Noto Sans CJK SC\n",
      "findfont: Generic family 'sans-serif' not found because none of the following families were found: Noto Sans CJK SC\n",
      "findfont: Generic family 'sans-serif' not found because none of the following families were found: Noto Sans CJK SC\n",
      "findfont: Generic family 'sans-serif' not found because none of the following families were found: Noto Sans CJK SC\n",
      "findfont: Generic family 'sans-serif' not found because none of the following families were found: Noto Sans CJK SC\n",
      "findfont: Generic family 'sans-serif' not found because none of the following families were found: Noto Sans CJK SC\n",
      "findfont: Generic family 'sans-serif' not found because none of the following families were found: Noto Sans CJK SC\n"
     ]
    },
    {
     "data": {
      "image/png": "[encoded data removed]",
      "text/plain": [
       "<Figure size 1500x1500 with 2 Axes>"
      ]
     },
     "metadata": {},
     "output_type": "display_data"
    }
   ],
   "source": [
    "# 绘制混淆矩阵\n",
    "plt.figure(figsize=(15, 15))\n",
    "sns.heatmap(cm, annot=True, fmt='d', cmap='Blues',\n",
    "            xticklabels=[str(i) for i in recognizer.classes],\n",
    "            yticklabels=[str(i) for i in recognizer.classes])\n",
    "plt.xlabel('Predict Type')\n",
    "plt.ylabel('True Type')\n",
    "plt.title('HMM Speech Recognition Confusion Matrix')\n",
    "plt.tight_layout()\n",
    "plt.show()"
   ]
  },
  {
   "cell_type": "code",
   "execution_count": 12,
   "id": "2a48300a",
   "metadata": {},
   "outputs": [],
   "source": [
    "# 识别单个语音文件\n",
    "# audio_file: 语音文件路径\n",
    "# recognizer: HMM识别器\n",
    "# class_names: 类别名称列表\n",
    "def recognize_speech_file(audio_file, recognizer, class_names):\n",
    "    # 提取特征\n",
    "    feature = extractFeature(audio_file)\n",
    "    if feature is None:\n",
    "        return \"无法检测到语音\", None\n",
    "    \n",
    "    # 使用HMM进行识别\n",
    "    class_idx, log_likelihood = recognizer.recognize(feature)\n",
    "    \n",
    "    if class_idx is None:\n",
    "        return \"识别失败\", None\n",
    "    \n",
    "    return class_names[class_idx], log_likelihood"
   ]
  },
  {
   "cell_type": "code",
   "execution_count": 13,
   "id": "e6aa5528",
   "metadata": {},
   "outputs": [
    {
     "name": "stdout",
     "output_type": "stream",
     "text": [
      "计算类别 3 的似然值时出错: startprob_ must sum to 1 (got nan)\n",
      "识别结果: 数字, 对数似然值: -2154.73\n"
     ]
    }
   ],
   "source": [
    "# 测试识别\n",
    "test_file = \"../myData/00/22307110206-00-01.dat\"    # 测试文件\n",
    "recognizer.load(\"hmm/hmm_models.pkl\")               # 加载模型\n",
    "classes = [\"数字\", \"语音\", \"语言\", \"处理\", \"中国\", \"忠告\", \"北京\", \"背景\", \"上海\", \"商行\",\n",
    "              \"Speech\", \"Speaker\", \"Signal\", \"Sequence\", \"Processing\", \"Print\", \"Project\", \"File\", \"Open\", \"Close\"]\n",
    "\n",
    "pred_class, log_likelihood = recognize_speech_file(test_file, recognizer, classes)\n",
    "print(f\"识别结果: {pred_class}, 对数似然值: {log_likelihood:.2f}\")"
   ]
  }
 ],
 "metadata": {
  "kernelspec": {
   "display_name": "base",
   "language": "python",
   "name": "python3"
  },
  "language_info": {
   "codemirror_mode": {
    "name": "ipython",
    "version": 3
   },
   "file_extension": ".py",
   "mimetype": "text/x-python",
   "name": "python",
   "nbconvert_exporter": "python",
   "pygments_lexer": "ipython3",
   "version": "3.12.9"
  }
 },
 "nbformat": 4,
 "nbformat_minor": 5
}
