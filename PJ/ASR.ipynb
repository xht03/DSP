{
 "cells": [
  {
   "cell_type": "code",
   "execution_count": 18,
   "id": "6fedb509",
   "metadata": {},
   "outputs": [],
   "source": [
    "import os\n",
    "from pydub import AudioSegment\n",
    "import librosa\n",
    "import numpy as np\n",
    "import matplotlib.pyplot as plt\n",
    "from tqdm import tqdm\n",
    "import time\n",
    "from dsp import *"
   ]
  },
  {
   "cell_type": "markdown",
   "id": "92dc18ed",
   "metadata": {},
   "source": [
    "我们希望使用 SVM 实现语音识别，步骤如下：\n",
    "\n",
    "1. 特征提取\n",
    "\n",
    "2. 模型训练\n",
    "\n",
    "3. 模型识别"
   ]
  },
  {
   "cell_type": "code",
   "execution_count": 8,
   "id": "e6030fed",
   "metadata": {},
   "outputs": [],
   "source": [
    "def readDat(filepath):\n",
    "    # 使用16位有符号整数(int16)格式读取原始数据\n",
    "    y = np.fromfile(filepath, dtype=np.int16)\n",
    "    # 将整数值归一化到[-1, 1]范围\n",
    "    y = y.astype(np.float32) / 32768.0\n",
    "    return y"
   ]
  },
  {
   "cell_type": "code",
   "execution_count": 9,
   "id": "1c641e07",
   "metadata": {},
   "outputs": [
    {
     "name": "stdout",
     "output_type": "stream",
     "text": [
      "(20310,)\n"
     ]
    }
   ],
   "source": [
    "y = readDat('22307110206-00-01.dat')\n",
    "print(y.shape)"
   ]
  },
  {
   "cell_type": "code",
   "execution_count": 24,
   "id": "87b25837",
   "metadata": {},
   "outputs": [],
   "source": [
    "# 特征提取\n",
    "def extractFeature(audio_file, sr=8000, win=256):\n",
    "    y = readDat(audio_file)\n",
    "    \n",
    "    segments = vad(y, sr, win, win//2)\n",
    "\n",
    "    if len(segments) == 0:\n",
    "        print(\"No segments found.\")\n",
    "        return None\n",
    "    \n",
    "    # 取所有音频段的起始和结束时间\n",
    "    start = segments[0][0]\n",
    "    end = segments[-1][1]\n",
    "    y_speech = y[int(start):int(end)]\n",
    "\n",
    "    # 确保语音段足够长\n",
    "    min_length = win * 2  # 确保能生成至少一个完整的STFT帧\n",
    "    if len(y_speech) < min_length:\n",
    "        print(f\"警告: {audio_file} 语音段太短({len(y_speech)}采样点)，填充至{min_length}采样点\")\n",
    "        # y_speech = np.pad(y_speech, (0, min_length - len(y_speech)), 'constant')\n",
    "        return None\n",
    "\n",
    "    # print(\"Start time:\", start)\n",
    "    # print(\"End time:\", end)\n",
    "    # print(\"Segment Num:\", len(segments))\n",
    "    # print(\"-\" * 20)\n",
    "\n",
    "    # 提取MFCC特征\n",
    "    mfcc_feature = computeMFCC(y_speech, sr, win, D=13, M=26)\n",
    "\n",
    "    mfcc_mean = np.mean(mfcc_feature, axis=1)\n",
    "    mfcc_std = np.std(mfcc_feature, axis=1)\n",
    "\n",
    "    feature = np.concatenate([mfcc_mean, mfcc_std])\n",
    "\n",
    "    return feature"
   ]
  },
  {
   "cell_type": "code",
   "execution_count": null,
   "id": "036cf553",
   "metadata": {},
   "outputs": [],
   "source": [
    "# 准备数据集\n",
    "# def prepareData(base_dir, classes):\n",
    "#     features = []\n",
    "#     labels = []\n",
    "    \n",
    "#     total_files = 0         # 总文件数\n",
    "#     processed_files = 0     # 处理的文件数\n",
    "    \n",
    "#     print(\"计算总文件数...\")\n",
    "#     for idx, name in enumerate(classes):\n",
    "#         class_dir = os.path.join(base_dir, str(idx).zfill(2))\n",
    "#         if os.path.exists(class_dir):\n",
    "#             for filename in os.listdir(class_dir):\n",
    "#                 if filename.endswith('.dat'):\n",
    "#                     total_files += 1\n",
    "#     print(f\"找到 {total_files} 个文件\")\n",
    "    \n",
    "#     for idx, name in enumerate(classes):\n",
    "#         class_dir = os.path.join(base_dir, str(idx).zfill(2))\n",
    "#         if not os.path.exists(class_dir):\n",
    "#             print(f\"警告: 目录 {class_dir} 不存在\")\n",
    "#             continue\n",
    "            \n",
    "#         print(f\"处理类别 {idx}: {name}\")\n",
    "#         for filename in os.listdir(class_dir):\n",
    "#             if filename.endswith('.dat'):\n",
    "#                 filepath = os.path.join(class_dir, filename)\n",
    "#                 feature = extractFeature(filepath)\n",
    "#                 if feature is not None:\n",
    "#                     features.append(feature)\n",
    "#                     labels.append(idx)\n",
    "                \n",
    "#                 processed_files += 1\n",
    "#                 percent = processed_files / total_files * 100\n",
    "#                 print(f\"\\r进度: [{processed_files}/{total_files}] {percent:.1f}%\", end=\"\")\n",
    "    \n",
    "#     print(\"\\n处理完成!\")\n",
    "#     return np.array(features), np.array(labels)\n",
    "\n",
    "# 准备数据集\n",
    "def prepareData(base_dir, classes):\n",
    "    features = []\n",
    "    labels = []\n",
    "\n",
    "    print(f\"开始从 {base_dir} 加载数据...\")\n",
    "    \n",
    "    total_files = 0         # 总文件数\n",
    "    error_files = 0         # 出错的文件数\n",
    "    \n",
    "    # 先计算总文件数\n",
    "    for idx, name in enumerate(classes):\n",
    "        class_dir = os.path.join(base_dir, str(idx).zfill(2))\n",
    "        if os.path.exists(class_dir):\n",
    "            for filename in os.listdir(class_dir):\n",
    "                if filename.endswith('.dat'):\n",
    "                    total_files += 1\n",
    "    print(f\"找到 {total_files} 个文件\")\n",
    "    \n",
    "    # 创建总进度条\n",
    "    with tqdm(total=total_files, desc=\"总进度\") as pbar:\n",
    "        for idx, name in enumerate(classes):\n",
    "            class_dir = os.path.join(base_dir, str(idx).zfill(2))\n",
    "            \n",
    "            if not os.path.exists(class_dir):\n",
    "                print(f\"警告：目录 {class_dir} 不存在，跳过类别 '{name}'\")\n",
    "                continue\n",
    "                \n",
    "            class_files = [f for f in os.listdir(class_dir) if f.endswith('.dat')]\n",
    "            print(f\"正在处理类别 '{name}' ({len(class_files)}个文件)...\")\n",
    "            \n",
    "            for filename in class_files:\n",
    "                filepath = os.path.join(class_dir, filename)\n",
    "                try:\n",
    "                    feature = extractFeature(filepath)\n",
    "                    if feature is not None:\n",
    "                        features.append(feature)\n",
    "                        labels.append(idx)\n",
    "                    else:\n",
    "                        error_files += 1\n",
    "                except Exception as e:\n",
    "                    print(f\"处理文件 {filepath} 出错: {str(e)}\")\n",
    "                    error_files += 1\n",
    "                \n",
    "                pbar.set_postfix({\"出错\": error_files})\n",
    "                pbar.update(1)\n",
    "            \n",
    "    print(f\"\\n处理完成: 共 {total_files} 个文件, 出错 {error_files} 个\")\n",
    "    if len(features) == 0:\n",
    "        raise ValueError(\"没有成功处理任何文件!请检查数据路径和文件格式\")\n",
    "    \n",
    "    return np.array(features), np.array(labels)"
   ]
  },
  {
   "cell_type": "code",
   "execution_count": null,
   "id": "dc0cda0e",
   "metadata": {},
   "outputs": [],
   "source": [
    "from sklearn.model_selection import train_test_split\n",
    "from sklearn.preprocessing import StandardScaler\n",
    "from sklearn.svm import SVC\n",
    "from sklearn.metrics import classification_report, accuracy_score\n",
    "import joblib\n",
    "\n",
    "# 训练SVM模型\n",
    "def train_svm_model(features, labels, test_size=0.2, random_state=42):\n",
    "    # 分割训练集和测试集\n",
    "    X_train, X_test, y_train, y_test = train_test_split(\n",
    "        features, labels, test_size=test_size, random_state=random_state, stratify=labels\n",
    "    )\n",
    "    \n",
    "    # 特征标准化\n",
    "    scaler = StandardScaler()\n",
    "    X_train_scaled = scaler.fit_transform(X_train)\n",
    "    X_test_scaled = scaler.transform(X_test)\n",
    "    \n",
    "    # 训练SVM模型\n",
    "    svm = SVC(kernel='rbf', C=10, gamma='scale', probability=True)\n",
    "    svm.fit(X_train_scaled, y_train)\n",
    "    \n",
    "    # 评估模型\n",
    "    y_pred = svm.predict(X_test_scaled)\n",
    "    accuracy = accuracy_score(y_test, y_pred)\n",
    "    report = classification_report(y_test, y_pred)\n",
    "    \n",
    "    print(f\"Accuracy: {accuracy:.4f}\")\n",
    "    print(\"Classification Report:\")\n",
    "    print(report)\n",
    "    \n",
    "    # 保存模型和标准化器\n",
    "    joblib.dump(svm, 'svm_model.pkl')\n",
    "    joblib.dump(scaler, 'scaler.pkl')\n",
    "    \n",
    "    return svm, scaler, (X_test_scaled, y_test)"
   ]
  },
  {
   "cell_type": "code",
   "execution_count": null,
   "id": "ce6a1c58",
   "metadata": {},
   "outputs": [],
   "source": [
    "# 使用模型进行识别\n",
    "def recognize_speech(audio_file, model, scaler, class_names):\n",
    "    # 提取特征\n",
    "    feature = extractFeature(audio_file)\n",
    "    if feature is None:\n",
    "        return \"无法检测到语音\"\n",
    "    \n",
    "    # 标准化特征\n",
    "    features_scaled = scaler.transform(feature.reshape(1, -1))\n",
    "    \n",
    "    # 预测\n",
    "    probabilities = model.predict_proba(features_scaled)[0]\n",
    "    class_idx = np.argmax(probabilities)\n",
    "    confidence = probabilities[class_idx]\n",
    "    \n",
    "    return class_names[class_idx], confidence"
   ]
  },
  {
   "cell_type": "code",
   "execution_count": 26,
   "id": "18fcd260",
   "metadata": {},
   "outputs": [
    {
     "name": "stdout",
     "output_type": "stream",
     "text": [
      "开始从 ../Data 加载数据...\n",
      "找到 9719 个文件\n"
     ]
    },
    {
     "name": "stderr",
     "output_type": "stream",
     "text": [
      "总进度:   0%|          | 0/9719 [00:00<?, ?it/s]"
     ]
    },
    {
     "name": "stdout",
     "output_type": "stream",
     "text": [
      "正在处理类别 '数字' (539个文件)...\n"
     ]
    },
    {
     "name": "stderr",
     "output_type": "stream",
     "text": [
      "总进度:   0%|          | 1/9719 [00:00<55:17,  2.93it/s, 出错=1]"
     ]
    },
    {
     "name": "stdout",
     "output_type": "stream",
     "text": [
      "警告: ../Data/00/21307130052_00_19.dat 语音段太短(128采样点)，填充至512采样点\n"
     ]
    },
    {
     "name": "stderr",
     "output_type": "stream",
     "text": [
      "总进度:   0%|          | 21/9719 [00:09<2:20:30,  1.15it/s, 出错=2]"
     ]
    },
    {
     "name": "stdout",
     "output_type": "stream",
     "text": [
      "警告: ../Data/00/22307130038_00_18.dat 语音段太短(128采样点)，填充至512采样点\n"
     ]
    },
    {
     "name": "stderr",
     "output_type": "stream",
     "text": [
      "总进度:   0%|          | 37/9719 [00:04<2:20:16,  1.15it/s, 出错=4]"
     ]
    },
    {
     "name": "stdout",
     "output_type": "stream",
     "text": [
      "警告: ../Data/00/21307130052_00_11.dat 语音段太短(128采样点)，填充至512采样点\n",
      "警告: ../Data/00/21307130052_00_10.dat 语音段太短(128采样点)，填充至512采样点\n"
     ]
    },
    {
     "name": "stderr",
     "output_type": "stream",
     "text": [
      "总进度:   1%|          | 69/9719 [00:08<29:22,  5.47it/s, 出错=6]  "
     ]
    },
    {
     "name": "stdout",
     "output_type": "stream",
     "text": [
      "警告: ../Data/00/22307130038_00_07.dat 语音段太短(128采样点)，填充至512采样点\n",
      "警告: ../Data/00/21307130052_00_12.dat 语音段太短(128采样点)，填充至512采样点\n"
     ]
    },
    {
     "name": "stderr",
     "output_type": "stream",
     "text": [
      "总进度:   1%|          | 118/9719 [00:15<23:45,  6.73it/s, 出错=7]"
     ]
    },
    {
     "name": "stdout",
     "output_type": "stream",
     "text": [
      "警告: ../Data/00/22307130038_00_16.dat 语音段太短(128采样点)，填充至512采样点\n"
     ]
    },
    {
     "name": "stderr",
     "output_type": "stream",
     "text": [
      "总进度:   1%|▏         | 127/9719 [00:16<23:44,  6.73it/s, 出错=8]"
     ]
    },
    {
     "name": "stdout",
     "output_type": "stream",
     "text": [
      "警告: ../Data/00/22307130013_00_17.dat 语音段太短(128采样点)，填充至512采样点\n"
     ]
    },
    {
     "name": "stderr",
     "output_type": "stream",
     "text": [
      "总进度:   1%|▏         | 132/9719 [00:16<23:43,  6.73it/s, 出错=9]"
     ]
    },
    {
     "name": "stdout",
     "output_type": "stream",
     "text": [
      "警告: ../Data/00/21307130052_00_07.dat 语音段太短(128采样点)，填充至512采样点\n"
     ]
    },
    {
     "name": "stderr",
     "output_type": "stream",
     "text": [
      "总进度:   1%|▏         | 138/9719 [00:17<23:42,  6.73it/s, 出错=10]"
     ]
    },
    {
     "name": "stdout",
     "output_type": "stream",
     "text": [
      "警告: ../Data/00/21307130052_00_16.dat 语音段太短(128采样点)，填充至512采样点\n"
     ]
    },
    {
     "name": "stderr",
     "output_type": "stream",
     "text": [
      "总进度:   1%|▏         | 145/9719 [00:17<23:41,  6.73it/s, 出错=11]"
     ]
    },
    {
     "name": "stdout",
     "output_type": "stream",
     "text": [
      "警告: ../Data/00/21307130052_00_18.dat 语音段太短(128采样点)，填充至512采样点\n"
     ]
    },
    {
     "name": "stderr",
     "output_type": "stream",
     "text": [
      "总进度:   2%|▏         | 148/9719 [00:18<23:41,  6.73it/s, 出错=12]"
     ]
    },
    {
     "name": "stdout",
     "output_type": "stream",
     "text": [
      "警告: ../Data/00/22307130038_00_12.dat 语音段太短(128采样点)，填充至512采样点\n"
     ]
    },
    {
     "name": "stderr",
     "output_type": "stream",
     "text": [
      "总进度:   2%|▏         | 188/9719 [00:22<19:58,  7.95it/s, 出错=16]"
     ]
    },
    {
     "name": "stdout",
     "output_type": "stream",
     "text": [
      "警告: ../Data/00/21307130052_00_13.dat 语音段太短(128采样点)，填充至512采样点\n",
      "警告: ../Data/00/22307130013_00_01.dat 语音段太短(128采样点)，填充至512采样点\n",
      "警告: ../Data/00/21307130052_00_20.dat 语音段太短(128采样点)，填充至512采样点\n",
      "警告: ../Data/00/22307130038_00_06.dat 语音段太短(384采样点)，填充至512采样点\n"
     ]
    },
    {
     "name": "stderr",
     "output_type": "stream",
     "text": [
      "总进度:   2%|▏         | 211/9719 [00:25<19:04,  8.31it/s, 出错=17]"
     ]
    },
    {
     "name": "stdout",
     "output_type": "stream",
     "text": [
      "警告: ../Data/00/21307130052_00_09.dat 语音段太短(128采样点)，填充至512采样点\n"
     ]
    },
    {
     "name": "stderr",
     "output_type": "stream",
     "text": [
      "总进度:   2%|▏         | 230/9719 [00:27<19:02,  8.31it/s, 出错=18]"
     ]
    },
    {
     "name": "stdout",
     "output_type": "stream",
     "text": [
      "警告: ../Data/00/22307130038_00_11.dat 语音段太短(128采样点)，填充至512采样点\n"
     ]
    },
    {
     "name": "stderr",
     "output_type": "stream",
     "text": [
      "总进度:   2%|▏         | 241/9719 [00:29<19:06,  8.27it/s, 出错=20]"
     ]
    },
    {
     "name": "stdout",
     "output_type": "stream",
     "text": [
      "警告: ../Data/00/21307130150-00-20.dat 语音段太短(128采样点)，填充至512采样点\n",
      "警告: ../Data/00/22307130013_00_20.dat 语音段太短(128采样点)，填充至512采样点\n"
     ]
    },
    {
     "name": "stderr",
     "output_type": "stream",
     "text": [
      "总进度:   3%|▎         | 250/9719 [00:30<19:05,  8.27it/s, 出错=21]"
     ]
    },
    {
     "name": "stdout",
     "output_type": "stream",
     "text": [
      "警告: ../Data/00/21307130150-00-18.dat 语音段太短(128采样点)，填充至512采样点\n"
     ]
    },
    {
     "name": "stderr",
     "output_type": "stream",
     "text": [
      "总进度:   3%|▎         | 263/9719 [00:31<19:03,  8.27it/s, 出错=22]"
     ]
    },
    {
     "name": "stdout",
     "output_type": "stream",
     "text": [
      "警告: ../Data/00/21307130052_00_03.dat 语音段太短(128采样点)，填充至512采样点\n"
     ]
    },
    {
     "name": "stderr",
     "output_type": "stream",
     "text": [
      "总进度:   3%|▎         | 272/9719 [00:33<19:02,  8.27it/s, 出错=23]"
     ]
    },
    {
     "name": "stdout",
     "output_type": "stream",
     "text": [
      "警告: ../Data/00/21307130052_00_02.dat 语音段太短(128采样点)，填充至512采样点\n"
     ]
    },
    {
     "name": "stderr",
     "output_type": "stream",
     "text": [
      "总进度:   3%|▎         | 283/9719 [00:33<19:00,  8.27it/s, 出错=24]"
     ]
    },
    {
     "name": "stdout",
     "output_type": "stream",
     "text": [
      "警告: ../Data/00/22307130013_00_06.dat 语音段太短(128采样点)，填充至512采样点\n"
     ]
    },
    {
     "name": "stderr",
     "output_type": "stream",
     "text": [
      "总进度:   3%|▎         | 290/9719 [00:34<18:59,  8.27it/s, 出错=25]"
     ]
    },
    {
     "name": "stdout",
     "output_type": "stream",
     "text": [
      "警告: ../Data/00/21307130150-00-16.dat 语音段太短(128采样点)，填充至512采样点\n"
     ]
    },
    {
     "name": "stderr",
     "output_type": "stream",
     "text": [
      "总进度:   4%|▎         | 341/9719 [00:41<18:20,  8.52it/s, 出错=26]"
     ]
    },
    {
     "name": "stdout",
     "output_type": "stream",
     "text": [
      "警告: ../Data/00/21307130052_00_15.dat 语音段太短(128采样点)，填充至512采样点\n"
     ]
    },
    {
     "name": "stderr",
     "output_type": "stream",
     "text": [
      "总进度:   4%|▎         | 361/9719 [00:49<18:42,  8.34it/s, 出错=27]"
     ]
    },
    {
     "name": "stdout",
     "output_type": "stream",
     "text": [
      "警告: ../Data/00/22307130038_00_01.dat 语音段太短(128采样点)，填充至512采样点\n"
     ]
    },
    {
     "name": "stderr",
     "output_type": "stream",
     "text": [
      "总进度:   4%|▎         | 363/9719 [00:43<18:41,  8.34it/s, 出错=28]"
     ]
    },
    {
     "name": "stdout",
     "output_type": "stream",
     "text": [
      "警告: ../Data/00/22307130038_00_14.dat 语音段太短(128采样点)，填充至512采样点\n"
     ]
    },
    {
     "name": "stderr",
     "output_type": "stream",
     "text": [
      "总进度:   4%|▍         | 375/9719 [00:45<18:40,  8.34it/s, 出错=30]"
     ]
    },
    {
     "name": "stdout",
     "output_type": "stream",
     "text": [
      "警告: ../Data/00/21307130052_00_17.dat 语音段太短(128采样点)，填充至512采样点\n",
      "警告: ../Data/00/22307130013_00_12.dat 语音段太短(128采样点)，填充至512采样点\n"
     ]
    },
    {
     "name": "stderr",
     "output_type": "stream",
     "text": [
      "总进度:   4%|▍         | 391/9719 [00:46<18:38,  8.34it/s, 出错=31]"
     ]
    },
    {
     "name": "stdout",
     "output_type": "stream",
     "text": [
      "警告: ../Data/00/22307130038_00_19.dat 语音段太短(128采样点)，填充至512采样点\n"
     ]
    },
    {
     "name": "stderr",
     "output_type": "stream",
     "text": [
      "总进度:   4%|▍         | 402/9719 [00:47<18:37,  8.34it/s, 出错=32]"
     ]
    },
    {
     "name": "stdout",
     "output_type": "stream",
     "text": [
      "警告: ../Data/00/21307130052_00_01.dat 语音段太短(128采样点)，填充至512采样点\n"
     ]
    },
    {
     "name": "stderr",
     "output_type": "stream",
     "text": [
      "总进度:   5%|▍         | 443/9719 [00:52<17:54,  8.63it/s, 出错=33]"
     ]
    },
    {
     "name": "stdout",
     "output_type": "stream",
     "text": [
      "警告: ../Data/00/21307130150-00-14.dat 语音段太短(128采样点)，填充至512采样点\n"
     ]
    },
    {
     "name": "stderr",
     "output_type": "stream",
     "text": [
      "总进度:   5%|▍         | 452/9719 [00:53<17:53,  8.63it/s, 出错=34]"
     ]
    },
    {
     "name": "stdout",
     "output_type": "stream",
     "text": [
      "警告: ../Data/00/21307130052_00_04.dat 语音段太短(128采样点)，填充至512采样点\n"
     ]
    },
    {
     "name": "stderr",
     "output_type": "stream",
     "text": [
      "总进度:   5%|▍         | 462/9719 [00:55<09:48, 15.74it/s, 出错=35]"
     ]
    },
    {
     "name": "stdout",
     "output_type": "stream",
     "text": [
      "警告: ../Data/00/22307130038_00_03.dat 语音段太短(128采样点)，填充至512采样点\n"
     ]
    },
    {
     "name": "stderr",
     "output_type": "stream",
     "text": [
      "总进度:   5%|▍         | 466/9719 [00:55<09:47, 15.74it/s, 出错=36]"
     ]
    },
    {
     "name": "stdout",
     "output_type": "stream",
     "text": [
      "警告: ../Data/00/22307130013_00_16.dat 语音段太短(128采样点)，填充至512采样点\n"
     ]
    },
    {
     "name": "stderr",
     "output_type": "stream",
     "text": [
      "总进度:   5%|▍         | 473/9719 [00:55<10:12, 15.10it/s, 出错=37]"
     ]
    },
    {
     "name": "stdout",
     "output_type": "stream",
     "text": [
      "警告: ../Data/00/21307130052_00_05.dat 语音段太短(128采样点)，填充至512采样点\n"
     ]
    },
    {
     "name": "stderr",
     "output_type": "stream",
     "text": [
      "总进度:   5%|▌         | 509/9719 [00:59<2:07:06,  1.21it/s, 出错=38]"
     ]
    },
    {
     "name": "stdout",
     "output_type": "stream",
     "text": [
      "警告: ../Data/00/22307130143_00_02.dat 语音段太短(128采样点)，填充至512采样点\n"
     ]
    },
    {
     "name": "stderr",
     "output_type": "stream",
     "text": [
      "总进度:   5%|▌         | 513/9719 [00:59<2:07:03,  1.21it/s, 出错=39]"
     ]
    },
    {
     "name": "stdout",
     "output_type": "stream",
     "text": [
      "警告: ../Data/00/22307130038_00_08.dat 语音段太短(384采样点)，填充至512采样点\n"
     ]
    },
    {
     "name": "stderr",
     "output_type": "stream",
     "text": [
      "总进度:   5%|▌         | 518/9719 [01:00<2:06:58,  1.21it/s, 出错=40]"
     ]
    },
    {
     "name": "stdout",
     "output_type": "stream",
     "text": [
      "警告: ../Data/00/21307130052_00_06.dat 语音段太短(128采样点)，填充至512采样点\n"
     ]
    },
    {
     "name": "stderr",
     "output_type": "stream",
     "text": [
      "总进度:   5%|▌         | 530/9719 [01:01<2:06:49,  1.21it/s, 出错=43]"
     ]
    },
    {
     "name": "stdout",
     "output_type": "stream",
     "text": [
      "警告: ../Data/00/22307130038_00_02.dat 语音段太短(128采样点)，填充至512采样点\n",
      "警告: ../Data/00/22307130038_00_10.dat 语音段太短(128采样点)，填充至512采样点\n",
      "警告: ../Data/00/22307130038_00_20.dat 语音段太短(128采样点)，填充至512采样点\n"
     ]
    },
    {
     "name": "stderr",
     "output_type": "stream",
     "text": [
      "总进度:   6%|▌         | 541/9719 [01:09<29:26,  5.19it/s, 出错=43]  "
     ]
    },
    {
     "name": "stdout",
     "output_type": "stream",
     "text": [
      "正在处理类别 '语音' (540个文件)...\n"
     ]
    },
    {
     "name": "stderr",
     "output_type": "stream",
     "text": [
      "总进度:   6%|▌         | 562/9719 [01:06<28:18,  5.39it/s, 出错=44]"
     ]
    },
    {
     "name": "stdout",
     "output_type": "stream",
     "text": [
      "警告: ../Data/01/21307130150-01-14.dat 语音段太短(128采样点)，填充至512采样点\n"
     ]
    },
    {
     "name": "stderr",
     "output_type": "stream",
     "text": [
      "总进度:   6%|▌         | 567/9719 [01:06<28:17,  5.39it/s, 出错=45]"
     ]
    },
    {
     "name": "stdout",
     "output_type": "stream",
     "text": [
      "警告: ../Data/01/21307130052_01_07.dat 语音段太短(128采样点)，填充至512采样点\n"
     ]
    },
    {
     "name": "stderr",
     "output_type": "stream",
     "text": [
      "总进度:   6%|▌         | 591/9719 [01:08<21:47,  6.98it/s, 出错=46]"
     ]
    },
    {
     "name": "stdout",
     "output_type": "stream",
     "text": [
      "警告: ../Data/01/21307130150-01-09.dat 语音段太短(128采样点)，填充至512采样点\n"
     ]
    },
    {
     "name": "stderr",
     "output_type": "stream",
     "text": [
      "总进度:   6%|▌         | 596/9719 [01:09<21:47,  6.98it/s, 出错=47]"
     ]
    },
    {
     "name": "stdout",
     "output_type": "stream",
     "text": [
      "警告: ../Data/01/22307130038_01_14.dat 语音段太短(128采样点)，填充至512采样点\n"
     ]
    },
    {
     "name": "stderr",
     "output_type": "stream",
     "text": [
      "总进度:   6%|▋         | 617/9719 [01:12<21:44,  6.98it/s, 出错=49]"
     ]
    },
    {
     "name": "stdout",
     "output_type": "stream",
     "text": [
      "警告: ../Data/01/21307130052_01_19.dat 语音段太短(128采样点)，填充至512采样点\n",
      "警告: ../Data/01/22307130038_01_20.dat 语音段太短(128采样点)，填充至512采样点\n"
     ]
    },
    {
     "name": "stderr",
     "output_type": "stream",
     "text": [
      "总进度:   7%|▋         | 632/9719 [01:14<20:28,  7.40it/s, 出错=50]"
     ]
    },
    {
     "name": "stdout",
     "output_type": "stream",
     "text": [
      "警告: ../Data/01/21307130150-01-10.dat 语音段太短(128采样点)，填充至512采样点\n"
     ]
    },
    {
     "name": "stderr",
     "output_type": "stream",
     "text": [
      "总进度:   7%|▋         | 641/9719 [01:15<20:26,  7.40it/s, 出错=51]"
     ]
    },
    {
     "name": "stdout",
     "output_type": "stream",
     "text": [
      "警告: ../Data/01/22307130013_01_13.dat 语音段太短(128采样点)，填充至512采样点\n"
     ]
    },
    {
     "name": "stderr",
     "output_type": "stream",
     "text": [
      "总进度:   7%|▋         | 653/9719 [01:16<20:25,  7.40it/s, 出错=56]"
     ]
    },
    {
     "name": "stdout",
     "output_type": "stream",
     "text": [
      "警告: ../Data/01/22307130013_01_04.dat 语音段太短(128采样点)，填充至512采样点\n",
      "警告: ../Data/01/21307130150-01-01.dat 语音段太短(128采样点)，填充至512采样点\n",
      "警告: ../Data/01/22307130013_01_03.dat 语音段太短(128采样点)，填充至512采样点\n",
      "警告: ../Data/01/22307130013_01_05.dat 语音段太短(128采样点)，填充至512采样点\n",
      "警告: ../Data/01/22307130013_01_15.dat 语音段太短(128采样点)，填充至512采样点\n"
     ]
    },
    {
     "name": "stderr",
     "output_type": "stream",
     "text": [
      "总进度:   7%|▋         | 657/9719 [01:17<20:24,  7.40it/s, 出错=57]"
     ]
    },
    {
     "name": "stdout",
     "output_type": "stream",
     "text": [
      "警告: ../Data/01/21307130052_01_18.dat 语音段太短(128采样点)，填充至512采样点\n"
     ]
    },
    {
     "name": "stderr",
     "output_type": "stream",
     "text": [
      "总进度:   7%|▋         | 660/9719 [01:17<20:24,  7.40it/s, 出错=58]"
     ]
    },
    {
     "name": "stdout",
     "output_type": "stream",
     "text": [
      "警告: ../Data/01/22307130013_01_06.dat 语音段太短(128采样点)，填充至512采样点\n"
     ]
    },
    {
     "name": "stderr",
     "output_type": "stream",
     "text": [
      "总进度:   7%|▋         | 673/9719 [01:18<19:07,  7.89it/s, 出错=60]"
     ]
    },
    {
     "name": "stdout",
     "output_type": "stream",
     "text": [
      "警告: ../Data/01/21307130052_01_08.dat 语音段太短(128采样点)，填充至512采样点\n",
      "警告: ../Data/01/21307130150-01-02.dat 语音段太短(128采样点)，填充至512采样点\n"
     ]
    },
    {
     "name": "stderr",
     "output_type": "stream",
     "text": [
      "总进度:   7%|▋         | 678/9719 [01:19<19:06,  7.89it/s, 出错=61]"
     ]
    },
    {
     "name": "stdout",
     "output_type": "stream",
     "text": [
      "警告: ../Data/01/22307130143_01_16.dat 语音段太短(128采样点)，填充至512采样点\n"
     ]
    },
    {
     "name": "stderr",
     "output_type": "stream",
     "text": [
      "总进度:   7%|▋         | 686/9719 [01:20<19:05,  7.89it/s, 出错=62]"
     ]
    },
    {
     "name": "stdout",
     "output_type": "stream",
     "text": [
      "警告: ../Data/01/22307130038_01_05.dat 语音段太短(128采样点)，填充至512采样点\n"
     ]
    },
    {
     "name": "stderr",
     "output_type": "stream",
     "text": [
      "总进度:   7%|▋         | 690/9719 [01:20<19:04,  7.89it/s, 出错=63]"
     ]
    },
    {
     "name": "stdout",
     "output_type": "stream",
     "text": [
      "警告: ../Data/01/21307130052_01_04.dat 语音段太短(128采样点)，填充至512采样点\n"
     ]
    },
    {
     "name": "stderr",
     "output_type": "stream",
     "text": [
      "总进度:   7%|▋         | 700/9719 [01:22<19:03,  7.89it/s, 出错=64]"
     ]
    },
    {
     "name": "stdout",
     "output_type": "stream",
     "text": [
      "警告: ../Data/01/21307130150-01-18.dat 语音段太短(128采样点)，填充至512采样点\n"
     ]
    },
    {
     "name": "stderr",
     "output_type": "stream",
     "text": [
      "总进度:   7%|▋         | 713/9719 [01:23<19:01,  7.89it/s, 出错=65]"
     ]
    },
    {
     "name": "stdout",
     "output_type": "stream",
     "text": [
      "警告: ../Data/01/22307130013_01_17.dat 语音段太短(128采样点)，填充至512采样点\n"
     ]
    },
    {
     "name": "stderr",
     "output_type": "stream",
     "text": [
      "总进度:   7%|▋         | 720/9719 [01:24<19:00,  7.89it/s, 出错=66]"
     ]
    },
    {
     "name": "stdout",
     "output_type": "stream",
     "text": [
      "警告: ../Data/01/22307130013_01_09.dat 语音段太短(128采样点)，填充至512采样点\n"
     ]
    },
    {
     "name": "stderr",
     "output_type": "stream",
     "text": [
      "总进度:   8%|▊         | 729/9719 [01:25<18:59,  7.89it/s, 出错=67]"
     ]
    },
    {
     "name": "stdout",
     "output_type": "stream",
     "text": [
      "警告: ../Data/01/21307130150-01-17.dat 语音段太短(128采样点)，填充至512采样点\n"
     ]
    },
    {
     "name": "stderr",
     "output_type": "stream",
     "text": [
      "总进度:   8%|▊         | 747/9719 [01:27<18:57,  7.89it/s, 出错=68]"
     ]
    },
    {
     "name": "stdout",
     "output_type": "stream",
     "text": [
      "警告: ../Data/01/22307130038_01_10.dat 语音段太短(128采样点)，填充至512采样点\n"
     ]
    },
    {
     "name": "stderr",
     "output_type": "stream",
     "text": [
      "总进度:   8%|▊         | 761/9719 [01:28<17:28,  8.55it/s, 出错=69]"
     ]
    },
    {
     "name": "stdout",
     "output_type": "stream",
     "text": [
      "警告: ../Data/01/22307130013_01_12.dat 语音段太短(128采样点)，填充至512采样点\n"
     ]
    },
    {
     "name": "stderr",
     "output_type": "stream",
     "text": [
      "总进度:   8%|▊         | 783/9719 [01:31<17:25,  8.55it/s, 出错=70]"
     ]
    },
    {
     "name": "stdout",
     "output_type": "stream",
     "text": [
      "警告: ../Data/01/21307130052_01_01.dat 语音段太短(128采样点)，填充至512采样点\n"
     ]
    },
    {
     "name": "stderr",
     "output_type": "stream",
     "text": [
      "总进度:   8%|▊         | 791/9719 [01:32<17:24,  8.55it/s, 出错=71]"
     ]
    },
    {
     "name": "stdout",
     "output_type": "stream",
     "text": [
      "警告: ../Data/01/21307130052_01_14.dat 语音段太短(128采样点)，填充至512采样点\n"
     ]
    },
    {
     "name": "stderr",
     "output_type": "stream",
     "text": [
      "总进度:   8%|▊         | 801/9719 [01:33<17:47,  8.35it/s, 出错=72]"
     ]
    },
    {
     "name": "stdout",
     "output_type": "stream",
     "text": [
      "警告: ../Data/01/21307130150-01-11.dat 语音段太短(128采样点)，填充至512采样点\n"
     ]
    },
    {
     "name": "stderr",
     "output_type": "stream",
     "text": [
      "总进度:   8%|▊         | 821/9719 [01:37<17:45,  8.35it/s, 出错=74]"
     ]
    },
    {
     "name": "stdout",
     "output_type": "stream",
     "text": [
      "警告: ../Data/01/21307130150-01-13.dat 语音段太短(128采样点)，填充至512采样点\n",
      "警告: ../Data/01/21307130150-01-15.dat 语音段太短(128采样点)，填充至512采样点\n"
     ]
    },
    {
     "name": "stderr",
     "output_type": "stream",
     "text": [
      "总进度:   8%|▊         | 825/9719 [01:37<17:44,  8.35it/s, 出错=75]"
     ]
    },
    {
     "name": "stdout",
     "output_type": "stream",
     "text": [
      "警告: ../Data/01/21307130150-01-19.dat 语音段太短(128采样点)，填充至512采样点\n"
     ]
    },
    {
     "name": "stderr",
     "output_type": "stream",
     "text": [
      "总进度:   9%|▊         | 831/9719 [01:38<17:43,  8.35it/s, 出错=76]"
     ]
    },
    {
     "name": "stdout",
     "output_type": "stream",
     "text": [
      "警告: ../Data/01/21307130150-01-03.dat 语音段太短(128采样点)，填充至512采样点\n"
     ]
    },
    {
     "name": "stderr",
     "output_type": "stream",
     "text": [
      "总进度:   9%|▉         | 851/9719 [01:40<18:17,  8.08it/s, 出错=77]"
     ]
    },
    {
     "name": "stdout",
     "output_type": "stream",
     "text": [
      "警告: ../Data/01/21307130052_01_03.dat 语音段太短(128采样点)，填充至512采样点\n"
     ]
    },
    {
     "name": "stderr",
     "output_type": "stream",
     "text": [
      "总进度:   9%|▉         | 856/9719 [01:40<18:17,  8.08it/s, 出错=78]"
     ]
    },
    {
     "name": "stdout",
     "output_type": "stream",
     "text": [
      "警告: ../Data/01/22307130013_01_18.dat 语音段太短(128采样点)，填充至512采样点\n"
     ]
    },
    {
     "name": "stderr",
     "output_type": "stream",
     "text": [
      "总进度:   9%|▉         | 861/9719 [01:41<18:16,  8.08it/s, 出错=79]"
     ]
    },
    {
     "name": "stdout",
     "output_type": "stream",
     "text": [
      "警告: ../Data/01/21307130052_01_02.dat 语音段太短(128采样点)，填充至512采样点\n"
     ]
    },
    {
     "name": "stderr",
     "output_type": "stream",
     "text": [
      "总进度:   9%|▉         | 863/9719 [01:41<18:16,  8.08it/s, 出错=80]"
     ]
    },
    {
     "name": "stdout",
     "output_type": "stream",
     "text": [
      "警告: ../Data/01/21307130150-01-16.dat 语音段太短(128采样点)，填充至512采样点\n"
     ]
    },
    {
     "name": "stderr",
     "output_type": "stream",
     "text": [
      "总进度:   9%|▉         | 870/9719 [01:42<18:15,  8.08it/s, 出错=81]"
     ]
    },
    {
     "name": "stdout",
     "output_type": "stream",
     "text": [
      "警告: ../Data/01/22307130013_01_19.dat 语音段太短(128采样点)，填充至512采样点\n"
     ]
    },
    {
     "name": "stderr",
     "output_type": "stream",
     "text": [
      "总进度:   9%|▉         | 885/9719 [01:43<17:19,  8.50it/s, 出错=83]"
     ]
    },
    {
     "name": "stdout",
     "output_type": "stream",
     "text": [
      "警告: ../Data/01/21307130052_01_06.dat 语音段太短(128采样点)，填充至512采样点\n",
      "警告: ../Data/01/21307130052_01_20.dat 语音段太短(128采样点)，填充至512采样点\n"
     ]
    },
    {
     "name": "stderr",
     "output_type": "stream",
     "text": [
      "总进度:   9%|▉         | 897/9719 [01:44<17:17,  8.50it/s, 出错=84]"
     ]
    },
    {
     "name": "stdout",
     "output_type": "stream",
     "text": [
      "警告: ../Data/01/22307130013_01_16.dat 语音段太短(128采样点)，填充至512采样点\n"
     ]
    },
    {
     "name": "stderr",
     "output_type": "stream",
     "text": [
      "总进度:   9%|▉         | 916/9719 [01:47<17:15,  8.50it/s, 出错=85]"
     ]
    },
    {
     "name": "stdout",
     "output_type": "stream",
     "text": [
      "警告: ../Data/01/22307130038_01_06.dat 语音段太短(128采样点)，填充至512采样点\n"
     ]
    },
    {
     "name": "stderr",
     "output_type": "stream",
     "text": [
      "总进度:   9%|▉         | 920/9719 [01:48<17:15,  8.50it/s, 出错=86]"
     ]
    },
    {
     "name": "stdout",
     "output_type": "stream",
     "text": [
      "警告: ../Data/01/22307130038_01_01.dat 语音段太短(128采样点)，填充至512采样点\n"
     ]
    },
    {
     "name": "stderr",
     "output_type": "stream",
     "text": [
      "总进度:  10%|▉         | 924/9719 [01:48<17:32,  8.36it/s, 出错=87]"
     ]
    },
    {
     "name": "stdout",
     "output_type": "stream",
     "text": [
      "警告: ../Data/01/21307130052_01_12.dat 语音段太短(128采样点)，填充至512采样点\n"
     ]
    },
    {
     "name": "stderr",
     "output_type": "stream",
     "text": [
      "总进度:  10%|▉         | 929/9719 [01:49<17:31,  8.36it/s, 出错=88]"
     ]
    },
    {
     "name": "stdout",
     "output_type": "stream",
     "text": [
      "警告: ../Data/01/22307130038_01_08.dat 语音段太短(128采样点)，填充至512采样点\n"
     ]
    },
    {
     "name": "stderr",
     "output_type": "stream",
     "text": [
      "总进度:  10%|▉         | 945/9719 [01:51<17:29,  8.36it/s, 出错=89]"
     ]
    },
    {
     "name": "stdout",
     "output_type": "stream",
     "text": [
      "警告: ../Data/01/22307130224_01_03.dat 语音段太短(256采样点)，填充至512采样点\n"
     ]
    },
    {
     "name": "stderr",
     "output_type": "stream",
     "text": [
      "总进度:  10%|▉         | 965/9719 [01:53<17:39,  8.26it/s, 出错=90]"
     ]
    },
    {
     "name": "stdout",
     "output_type": "stream",
     "text": [
      "警告: ../Data/01/21307130052_01_13.dat 语音段太短(128采样点)，填充至512采样点\n"
     ]
    },
    {
     "name": "stderr",
     "output_type": "stream",
     "text": [
      "总进度:  10%|█         | 974/9719 [01:54<17:38,  8.26it/s, 出错=91]"
     ]
    },
    {
     "name": "stdout",
     "output_type": "stream",
     "text": [
      "警告: ../Data/01/21307130052_01_10.dat 语音段太短(128采样点)，填充至512采样点\n"
     ]
    },
    {
     "name": "stderr",
     "output_type": "stream",
     "text": [
      "总进度:  10%|█         | 977/9719 [01:55<17:38,  8.26it/s, 出错=92]"
     ]
    },
    {
     "name": "stdout",
     "output_type": "stream",
     "text": [
      "警告: ../Data/01/21307130052_01_15.dat 语音段太短(128采样点)，填充至512采样点\n"
     ]
    },
    {
     "name": "stderr",
     "output_type": "stream",
     "text": [
      "总进度:  10%|█         | 1003/9719 [02:04<17:25,  8.34it/s, 出错=93]"
     ]
    },
    {
     "name": "stdout",
     "output_type": "stream",
     "text": [
      "警告: ../Data/01/21307130052_01_11.dat 语音段太短(128采样点)，填充至512采样点\n"
     ]
    },
    {
     "name": "stderr",
     "output_type": "stream",
     "text": [
      "总进度:  10%|█         | 1014/9719 [01:59<17:22,  8.35it/s, 出错=94]"
     ]
    },
    {
     "name": "stdout",
     "output_type": "stream",
     "text": [
      "警告: ../Data/01/21307130052_01_09.dat 语音段太短(128采样点)，填充至512采样点\n"
     ]
    },
    {
     "name": "stderr",
     "output_type": "stream",
     "text": [
      "总进度:  11%|█         | 1022/9719 [02:01<17:21,  8.35it/s, 出错=95]"
     ]
    },
    {
     "name": "stdout",
     "output_type": "stream",
     "text": [
      "警告: ../Data/01/21307130150-01-04.dat 语音段太短(128采样点)，填充至512采样点\n"
     ]
    },
    {
     "name": "stderr",
     "output_type": "stream",
     "text": [
      "总进度:  11%|█         | 1027/9719 [02:01<17:20,  8.35it/s, 出错=96]"
     ]
    },
    {
     "name": "stdout",
     "output_type": "stream",
     "text": [
      "警告: ../Data/01/22307130013_01_11.dat 语音段太短(128采样点)，填充至512采样点\n"
     ]
    },
    {
     "name": "stderr",
     "output_type": "stream",
     "text": [
      "总进度:  11%|█         | 1029/9719 [02:02<17:20,  8.35it/s, 出错=97]"
     ]
    },
    {
     "name": "stdout",
     "output_type": "stream",
     "text": [
      "警告: ../Data/01/22307130038_01_18.dat 语音段太短(128采样点)，填充至512采样点\n"
     ]
    },
    {
     "name": "stderr",
     "output_type": "stream",
     "text": [
      "总进度:  11%|█         | 1040/9719 [02:03<17:19,  8.35it/s, 出错=98]"
     ]
    },
    {
     "name": "stdout",
     "output_type": "stream",
     "text": [
      "警告: ../Data/01/21307130052_01_16.dat 语音段太短(128采样点)，填充至512采样点\n"
     ]
    },
    {
     "name": "stderr",
     "output_type": "stream",
     "text": [
      "总进度:  11%|█         | 1047/9719 [02:03<17:18,  8.35it/s, 出错=100]"
     ]
    },
    {
     "name": "stdout",
     "output_type": "stream",
     "text": [
      "警告: ../Data/01/22307130038_01_04.dat 语音段太短(128采样点)，填充至512采样点\n",
      "警告: ../Data/01/21307130052_01_05.dat 语音段太短(128采样点)，填充至512采样点\n"
     ]
    },
    {
     "name": "stderr",
     "output_type": "stream",
     "text": [
      "总进度:  11%|█         | 1053/9719 [02:04<17:17,  8.35it/s, 出错=103]"
     ]
    },
    {
     "name": "stdout",
     "output_type": "stream",
     "text": [
      "警告: ../Data/01/22307130013_01_20.dat 语音段太短(128采样点)，填充至512采样点\n",
      "警告: ../Data/01/21307130150-01-20.dat 语音段太短(128采样点)，填充至512采样点\n",
      "警告: ../Data/01/21307130052_01_17.dat 语音段太短(128采样点)，填充至512采样点\n"
     ]
    },
    {
     "name": "stderr",
     "output_type": "stream",
     "text": [
      "总进度:  11%|█         | 1059/9719 [02:04<08:17, 17.42it/s, 出错=104]"
     ]
    },
    {
     "name": "stdout",
     "output_type": "stream",
     "text": [
      "警告: ../Data/01/22307130038_01_12.dat 语音段太短(128采样点)，填充至512采样点\n"
     ]
    },
    {
     "name": "stderr",
     "output_type": "stream",
     "text": [
      "总进度:  11%|█         | 1067/9719 [02:05<08:16, 17.42it/s, 出错=105]"
     ]
    },
    {
     "name": "stdout",
     "output_type": "stream",
     "text": [
      "警告: ../Data/01/22307130013_01_08.dat 语音段太短(128采样点)，填充至512采样点\n"
     ]
    },
    {
     "name": "stderr",
     "output_type": "stream",
     "text": [
      "总进度:  11%|█         | 1073/9719 [02:06<09:42, 14.85it/s, 出错=106]"
     ]
    },
    {
     "name": "stdout",
     "output_type": "stream",
     "text": [
      "警告: ../Data/01/22307130143_01_12.dat 语音段太短(384采样点)，填充至512采样点\n"
     ]
    },
    {
     "name": "stderr",
     "output_type": "stream",
     "text": [
      "总进度:  11%|█         | 1084/9719 [02:07<10:08, 14.19it/s, 出错=108]"
     ]
    },
    {
     "name": "stdout",
     "output_type": "stream",
     "text": [
      "正在处理类别 '语言' (540个文件)...\n",
      "警告: ../Data/02/22307130038_02_20.dat 语音段太短(128采样点)，填充至512采样点\n",
      "警告: ../Data/02/22307130013_02_16.dat 语音段太短(128采样点)，填充至512采样点\n"
     ]
    },
    {
     "name": "stderr",
     "output_type": "stream",
     "text": [
      "总进度:  11%|█▏        | 1116/9719 [02:10<38:15,  3.75it/s, 出错=109]"
     ]
    },
    {
     "name": "stdout",
     "output_type": "stream",
     "text": [
      "警告: ../Data/02/21307130150-02-09.dat 语音段太短(128采样点)，填充至512采样点\n"
     ]
    },
    {
     "name": "stderr",
     "output_type": "stream",
     "text": [
      "总进度:  12%|█▏        | 1132/9719 [02:13<38:11,  3.75it/s, 出错=110]"
     ]
    },
    {
     "name": "stdout",
     "output_type": "stream",
     "text": [
      "警告: ../Data/02/21307130052_02_04.dat 语音段太短(128采样点)，填充至512采样点\n"
     ]
    },
    {
     "name": "stderr",
     "output_type": "stream",
     "text": [
      "总进度:  12%|█▏        | 1139/9719 [02:13<23:23,  6.11it/s, 出错=111]"
     ]
    },
    {
     "name": "stdout",
     "output_type": "stream",
     "text": [
      "警告: ../Data/02/21307130052_02_20.dat 语音段太短(128采样点)，填充至512采样点\n"
     ]
    },
    {
     "name": "stderr",
     "output_type": "stream",
     "text": [
      "总进度:  12%|█▏        | 1142/9719 [02:13<23:22,  6.11it/s, 出错=112]"
     ]
    },
    {
     "name": "stdout",
     "output_type": "stream",
     "text": [
      "警告: ../Data/02/21307130052_02_17.dat 语音段太短(128采样点)，填充至512采样点\n"
     ]
    },
    {
     "name": "stderr",
     "output_type": "stream",
     "text": [
      "总进度:  12%|█▏        | 1149/9719 [02:14<23:21,  6.11it/s, 出错=113]"
     ]
    },
    {
     "name": "stdout",
     "output_type": "stream",
     "text": [
      "警告: ../Data/02/22307130013_02_03.dat 语音段太短(128采样点)，填充至512采样点\n"
     ]
    },
    {
     "name": "stderr",
     "output_type": "stream",
     "text": [
      "总进度:  12%|█▏        | 1161/9719 [02:15<23:19,  6.11it/s, 出错=114]"
     ]
    },
    {
     "name": "stdout",
     "output_type": "stream",
     "text": [
      "警告: ../Data/02/22307130013_02_20.dat 语音段太短(128采样点)，填充至512采样点\n"
     ]
    },
    {
     "name": "stderr",
     "output_type": "stream",
     "text": [
      "总进度:  12%|█▏        | 1173/9719 [02:17<23:17,  6.11it/s, 出错=116]"
     ]
    },
    {
     "name": "stdout",
     "output_type": "stream",
     "text": [
      "警告: ../Data/02/21307130052_02_02.dat 语音段太短(128采样点)，填充至512采样点\n",
      "警告: ../Data/02/21307130150-02-06.dat 语音段太短(128采样点)，填充至512采样点\n"
     ]
    },
    {
     "name": "stderr",
     "output_type": "stream",
     "text": [
      "总进度:  12%|█▏        | 1175/9719 [02:17<23:17,  6.11it/s, 出错=117]"
     ]
    },
    {
     "name": "stdout",
     "output_type": "stream",
     "text": [
      "警告: ../Data/02/21307130052_02_10.dat 语音段太短(128采样点)，填充至512采样点\n"
     ]
    },
    {
     "name": "stderr",
     "output_type": "stream",
     "text": [
      "总进度:  12%|█▏        | 1187/9719 [02:24<17:38,  8.06it/s, 出错=118]"
     ]
    },
    {
     "name": "stdout",
     "output_type": "stream",
     "text": [
      "警告: ../Data/02/21307130052_02_09.dat 语音段太短(128采样点)，填充至512采样点\n"
     ]
    },
    {
     "name": "stderr",
     "output_type": "stream",
     "text": [
      "总进度:  12%|█▏        | 1200/9719 [02:19<17:37,  8.06it/s, 出错=120]"
     ]
    },
    {
     "name": "stdout",
     "output_type": "stream",
     "text": [
      "警告: ../Data/02/21307130052_02_13.dat 语音段太短(128采样点)，填充至512采样点\n",
      "警告: ../Data/02/22307130013_02_10.dat 语音段太短(128采样点)，填充至512采样点\n"
     ]
    },
    {
     "name": "stderr",
     "output_type": "stream",
     "text": [
      "总进度:  12%|█▏        | 1208/9719 [02:21<17:36,  8.06it/s, 出错=121]"
     ]
    },
    {
     "name": "stdout",
     "output_type": "stream",
     "text": [
      "警告: ../Data/02/21307130052_02_05.dat 语音段太短(128采样点)，填充至512采样点\n"
     ]
    },
    {
     "name": "stderr",
     "output_type": "stream",
     "text": [
      "总进度:  13%|█▎        | 1219/9719 [02:22<17:34,  8.06it/s, 出错=122]"
     ]
    },
    {
     "name": "stdout",
     "output_type": "stream",
     "text": [
      "警告: ../Data/02/22307130013_02_09.dat 语音段太短(128采样点)，填充至512采样点\n"
     ]
    },
    {
     "name": "stderr",
     "output_type": "stream",
     "text": [
      "总进度:  13%|█▎        | 1225/9719 [02:23<17:33,  8.06it/s, 出错=124]"
     ]
    },
    {
     "name": "stdout",
     "output_type": "stream",
     "text": [
      "警告: ../Data/02/21307130150-02-03.dat 语音段太短(128采样点)，填充至512采样点\n",
      "警告: ../Data/02/21307130150-02-08.dat 语音段太短(128采样点)，填充至512采样点\n"
     ]
    },
    {
     "name": "stderr",
     "output_type": "stream",
     "text": [
      "总进度:  13%|█▎        | 1229/9719 [02:23<17:47,  7.95it/s, 出错=125]"
     ]
    },
    {
     "name": "stdout",
     "output_type": "stream",
     "text": [
      "警告: ../Data/02/21307130052_02_12.dat 语音段太短(128采样点)，填充至512采样点\n"
     ]
    },
    {
     "name": "stderr",
     "output_type": "stream",
     "text": [
      "总进度:  13%|█▎        | 1234/9719 [02:24<17:47,  7.95it/s, 出错=126]"
     ]
    },
    {
     "name": "stdout",
     "output_type": "stream",
     "text": [
      "警告: ../Data/02/21307130150-02-12.dat 语音段太短(128采样点)，填充至512采样点\n"
     ]
    },
    {
     "name": "stderr",
     "output_type": "stream",
     "text": [
      "总进度:  13%|█▎        | 1266/9719 [02:28<18:38,  7.55it/s, 出错=127]"
     ]
    },
    {
     "name": "stdout",
     "output_type": "stream",
     "text": [
      "警告: ../Data/02/21307130052_02_01.dat 语音段太短(128采样点)，填充至512采样点\n"
     ]
    },
    {
     "name": "stderr",
     "output_type": "stream",
     "text": [
      "总进度:  13%|█▎        | 1274/9719 [02:29<18:37,  7.55it/s, 出错=128]"
     ]
    },
    {
     "name": "stdout",
     "output_type": "stream",
     "text": [
      "警告: ../Data/02/21307130150-02-14.dat 语音段太短(128采样点)，填充至512采样点\n"
     ]
    },
    {
     "name": "stderr",
     "output_type": "stream",
     "text": [
      "总进度:  13%|█▎        | 1278/9719 [02:29<18:37,  7.55it/s, 出错=129]"
     ]
    },
    {
     "name": "stdout",
     "output_type": "stream",
     "text": [
      "警告: ../Data/02/21307130052_02_15.dat 语音段太短(128采样点)，填充至512采样点\n"
     ]
    },
    {
     "name": "stderr",
     "output_type": "stream",
     "text": [
      "总进度:  13%|█▎        | 1302/9719 [02:32<18:34,  7.55it/s, 出错=130]"
     ]
    },
    {
     "name": "stdout",
     "output_type": "stream",
     "text": [
      "警告: ../Data/02/21307130150-02-05.dat 语音段太短(128采样点)，填充至512采样点\n"
     ]
    },
    {
     "name": "stderr",
     "output_type": "stream",
     "text": [
      "总进度:  13%|█▎        | 1305/9719 [02:33<18:33,  7.55it/s, 出错=131]"
     ]
    },
    {
     "name": "stdout",
     "output_type": "stream",
     "text": [
      "警告: ../Data/02/22307130038_02_02.dat 语音段太短(128采样点)，填充至512采样点\n"
     ]
    },
    {
     "name": "stderr",
     "output_type": "stream",
     "text": [
      "总进度:  14%|█▍        | 1340/9719 [02:37<17:07,  8.15it/s, 出错=133]"
     ]
    },
    {
     "name": "stdout",
     "output_type": "stream",
     "text": [
      "警告: ../Data/02/22307130013_02_14.dat 语音段太短(128采样点)，填充至512采样点\n",
      "警告: ../Data/02/21307130150-02-07.dat 语音段太短(128采样点)，填充至512采样点\n"
     ]
    },
    {
     "name": "stderr",
     "output_type": "stream",
     "text": [
      "总进度:  14%|█▍        | 1347/9719 [02:38<17:06,  8.15it/s, 出错=134]"
     ]
    },
    {
     "name": "stdout",
     "output_type": "stream",
     "text": [
      "警告: ../Data/02/22307130013_02_02.dat 语音段太短(128采样点)，填充至512采样点\n"
     ]
    },
    {
     "name": "stderr",
     "output_type": "stream",
     "text": [
      "总进度:  14%|█▍        | 1368/9719 [02:40<17:08,  8.12it/s, 出错=136]"
     ]
    },
    {
     "name": "stdout",
     "output_type": "stream",
     "text": [
      "警告: ../Data/02/22307130038_02_12.dat 语音段太短(128采样点)，填充至512采样点\n",
      "警告: ../Data/02/22307130013_02_06.dat 语音段太短(128采样点)，填充至512采样点\n"
     ]
    },
    {
     "name": "stderr",
     "output_type": "stream",
     "text": [
      "总进度:  14%|█▍        | 1389/9719 [02:43<17:05,  8.12it/s, 出错=137]"
     ]
    },
    {
     "name": "stdout",
     "output_type": "stream",
     "text": [
      "警告: ../Data/02/22307130038_02_04.dat 语音段太短(128采样点)，填充至512采样点\n"
     ]
    },
    {
     "name": "stderr",
     "output_type": "stream",
     "text": [
      "总进度:  14%|█▍        | 1391/9719 [02:49<16:56,  8.19it/s, 出错=138]"
     ]
    },
    {
     "name": "stdout",
     "output_type": "stream",
     "text": [
      "警告: ../Data/02/21307130150-02-11.dat 语音段太短(128采样点)，填充至512采样点\n"
     ]
    },
    {
     "name": "stderr",
     "output_type": "stream",
     "text": [
      "总进度:  14%|█▍        | 1398/9719 [02:44<16:55,  8.19it/s, 出错=139]"
     ]
    },
    {
     "name": "stdout",
     "output_type": "stream",
     "text": [
      "警告: ../Data/02/22307130013_02_13.dat 语音段太短(128采样点)，填充至512采样点\n"
     ]
    },
    {
     "name": "stderr",
     "output_type": "stream",
     "text": [
      "总进度:  15%|█▍        | 1427/9719 [02:48<16:52,  8.19it/s, 出错=140]"
     ]
    },
    {
     "name": "stdout",
     "output_type": "stream",
     "text": [
      "警告: ../Data/02/22307130038_02_07.dat 语音段太短(128采样点)，填充至512采样点\n"
     ]
    },
    {
     "name": "stderr",
     "output_type": "stream",
     "text": [
      "总进度:  15%|█▍        | 1431/9719 [02:48<17:12,  8.03it/s, 出错=141]"
     ]
    },
    {
     "name": "stdout",
     "output_type": "stream",
     "text": [
      "警告: ../Data/02/22307130013_02_11.dat 语音段太短(128采样点)，填充至512采样点\n"
     ]
    },
    {
     "name": "stderr",
     "output_type": "stream",
     "text": [
      "总进度:  15%|█▍        | 1437/9719 [02:49<17:11,  8.03it/s, 出错=143]"
     ]
    },
    {
     "name": "stdout",
     "output_type": "stream",
     "text": [
      "警告: ../Data/02/21307130052_02_06.dat 语音段太短(128采样点)，填充至512采样点\n",
      "警告: ../Data/02/22307130038_02_18.dat 语音段太短(128采样点)，填充至512采样点\n"
     ]
    },
    {
     "name": "stderr",
     "output_type": "stream",
     "text": [
      "总进度:  15%|█▍        | 1443/9719 [02:49<17:11,  8.03it/s, 出错=144]"
     ]
    },
    {
     "name": "stdout",
     "output_type": "stream",
     "text": [
      "警告: ../Data/02/21307130052_02_08.dat 语音段太短(128采样点)，填充至512采样点\n"
     ]
    },
    {
     "name": "stderr",
     "output_type": "stream",
     "text": [
      "总进度:  15%|█▍        | 1445/9719 [02:49<17:10,  8.03it/s, 出错=145]"
     ]
    },
    {
     "name": "stdout",
     "output_type": "stream",
     "text": [
      "警告: ../Data/02/21307130150-02-02.dat 语音段太短(128采样点)，填充至512采样点\n"
     ]
    },
    {
     "name": "stderr",
     "output_type": "stream",
     "text": [
      "总进度:  15%|█▍        | 1457/9719 [02:51<17:09,  8.03it/s, 出错=146]"
     ]
    },
    {
     "name": "stdout",
     "output_type": "stream",
     "text": [
      "警告: ../Data/02/22307130038_02_17.dat 语音段太短(128采样点)，填充至512采样点\n"
     ]
    },
    {
     "name": "stderr",
     "output_type": "stream",
     "text": [
      "总进度:  15%|█▌        | 1481/9719 [02:54<16:32,  8.30it/s, 出错=147]"
     ]
    },
    {
     "name": "stdout",
     "output_type": "stream",
     "text": [
      "警告: ../Data/02/21307130052_02_03.dat 语音段太短(128采样点)，填充至512采样点\n"
     ]
    },
    {
     "name": "stderr",
     "output_type": "stream",
     "text": [
      "总进度:  15%|█▌        | 1506/9719 [02:56<16:29,  8.30it/s, 出错=149]"
     ]
    },
    {
     "name": "stdout",
     "output_type": "stream",
     "text": [
      "警告: ../Data/02/21307130052_02_11.dat 语音段太短(128采样点)，填充至512采样点\n",
      "警告: ../Data/02/22307130038_02_06.dat 语音段太短(128采样点)，填充至512采样点\n"
     ]
    },
    {
     "name": "stderr",
     "output_type": "stream",
     "text": [
      "总进度:  16%|█▌        | 1543/9719 [03:03<16:02,  8.49it/s, 出错=150]"
     ]
    },
    {
     "name": "stdout",
     "output_type": "stream",
     "text": [
      "警告: ../Data/02/21307130052_02_07.dat 语音段太短(128采样点)，填充至512采样点\n"
     ]
    },
    {
     "name": "stderr",
     "output_type": "stream",
     "text": [
      "总进度:  16%|█▌        | 1546/9719 [03:03<16:02,  8.49it/s, 出错=152]"
     ]
    },
    {
     "name": "stdout",
     "output_type": "stream",
     "text": [
      "警告: ../Data/02/22307130013_02_15.dat 语音段太短(256采样点)，填充至512采样点\n",
      "警告: ../Data/02/22307130013_02_04.dat 语音段太短(128采样点)，填充至512采样点\n"
     ]
    },
    {
     "name": "stderr",
     "output_type": "stream",
     "text": [
      "总进度:  16%|█▌        | 1554/9719 [03:04<17:54,  7.60it/s, 出错=153]"
     ]
    },
    {
     "name": "stdout",
     "output_type": "stream",
     "text": [
      "警告: ../Data/02/22307130038_02_05.dat 语音段太短(128采样点)，填充至512采样点\n"
     ]
    },
    {
     "name": "stderr",
     "output_type": "stream",
     "text": [
      "总进度:  16%|█▋        | 1581/9719 [03:14<18:26,  7.35it/s, 出错=154]"
     ]
    },
    {
     "name": "stdout",
     "output_type": "stream",
     "text": [
      "警告: ../Data/02/22307130013_02_05.dat 语音段太短(128采样点)，填充至512采样点\n"
     ]
    },
    {
     "name": "stderr",
     "output_type": "stream",
     "text": [
      "总进度:  16%|█▋        | 1595/9719 [03:10<18:26,  7.34it/s, 出错=155]"
     ]
    },
    {
     "name": "stdout",
     "output_type": "stream",
     "text": [
      "警告: ../Data/02/21307130150-02-13.dat 语音段太短(128采样点)，填充至512采样点\n"
     ]
    },
    {
     "name": "stderr",
     "output_type": "stream",
     "text": [
      "总进度:  16%|█▋        | 1597/9719 [03:11<18:25,  7.34it/s, 出错=156]"
     ]
    },
    {
     "name": "stdout",
     "output_type": "stream",
     "text": [
      "警告: ../Data/02/22307130038_02_16.dat 语音段太短(128采样点)，填充至512采样点\n"
     ]
    },
    {
     "name": "stderr",
     "output_type": "stream",
     "text": [
      "总进度:  16%|█▋        | 1602/9719 [03:11<18:25,  7.34it/s, 出错=158]"
     ]
    },
    {
     "name": "stdout",
     "output_type": "stream",
     "text": [
      "警告: ../Data/02/21307130150-02-10.dat 语音段太短(128采样点)，填充至512采样点\n",
      "警告: ../Data/02/21307130052_02_14.dat 语音段太短(128采样点)，填充至512采样点\n"
     ]
    },
    {
     "name": "stderr",
     "output_type": "stream",
     "text": [
      "总进度:  17%|█▋        | 1612/9719 [03:12<18:23,  7.34it/s, 出错=159]"
     ]
    },
    {
     "name": "stdout",
     "output_type": "stream",
     "text": [
      "警告: ../Data/02/21307130150-02-04.dat 语音段太短(128采样点)，填充至512采样点\n"
     ]
    },
    {
     "name": "stderr",
     "output_type": "stream",
     "text": [
      "总进度:  17%|█▋        | 1618/9719 [03:13<18:23,  7.34it/s, 出错=159]"
     ]
    },
    {
     "name": "stdout",
     "output_type": "stream",
     "text": [
      "正在处理类别 '处理' (540个文件)...\n"
     ]
    },
    {
     "name": "stderr",
     "output_type": "stream",
     "text": [
      "总进度:  17%|█▋        | 1627/9719 [03:14<18:11,  7.41it/s, 出错=160]"
     ]
    },
    {
     "name": "stdout",
     "output_type": "stream",
     "text": [
      "警告: ../Data/03/21307130052_03_04.dat 语音段太短(128采样点)，填充至512采样点\n"
     ]
    },
    {
     "name": "stderr",
     "output_type": "stream",
     "text": [
      "总进度:  17%|█▋        | 1633/9719 [03:15<18:10,  7.41it/s, 出错=161]"
     ]
    },
    {
     "name": "stdout",
     "output_type": "stream",
     "text": [
      "警告: ../Data/03/21307130052_03_06.dat 语音段太短(128采样点)，填充至512采样点\n"
     ]
    },
    {
     "name": "stderr",
     "output_type": "stream",
     "text": [
      "总进度:  17%|█▋        | 1653/9719 [03:17<18:08,  7.41it/s, 出错=162]"
     ]
    },
    {
     "name": "stdout",
     "output_type": "stream",
     "text": [
      "警告: ../Data/03/22307130013_03_18.dat 语音段太短(128采样点)，填充至512采样点\n"
     ]
    },
    {
     "name": "stderr",
     "output_type": "stream",
     "text": [
      "总进度:  17%|█▋        | 1661/9719 [03:18<18:06,  7.41it/s, 出错=165]"
     ]
    },
    {
     "name": "stdout",
     "output_type": "stream",
     "text": [
      "警告: ../Data/03/22307130143_03_13.dat 语音段太短(128采样点)，填充至512采样点\n",
      "警告: ../Data/03/22307130038_03_02.dat 语音段太短(128采样点)，填充至512采样点\n",
      "警告: ../Data/03/22307130013_03_20.dat 语音段太短(128采样点)，填充至512采样点\n"
     ]
    },
    {
     "name": "stderr",
     "output_type": "stream",
     "text": [
      "总进度:  17%|█▋        | 1668/9719 [03:18<16:36,  8.08it/s, 出错=166]"
     ]
    },
    {
     "name": "stdout",
     "output_type": "stream",
     "text": [
      "警告: ../Data/03/21307130052_03_11.dat 语音段太短(128采样点)，填充至512采样点\n"
     ]
    },
    {
     "name": "stderr",
     "output_type": "stream",
     "text": [
      "总进度:  17%|█▋        | 1686/9719 [03:21<16:34,  8.08it/s, 出错=167]"
     ]
    },
    {
     "name": "stdout",
     "output_type": "stream",
     "text": [
      "警告: ../Data/03/21307130052_03_07.dat 语音段太短(128采样点)，填充至512采样点\n"
     ]
    },
    {
     "name": "stderr",
     "output_type": "stream",
     "text": [
      "总进度:  17%|█▋        | 1696/9719 [03:22<16:33,  8.08it/s, 出错=169]"
     ]
    },
    {
     "name": "stdout",
     "output_type": "stream",
     "text": [
      "警告: ../Data/03/22307130143_03_02.dat 语音段太短(128采样点)，填充至512采样点\n",
      "警告: ../Data/03/22307130013_03_02.dat 语音段太短(128采样点)，填充至512采样点\n"
     ]
    },
    {
     "name": "stderr",
     "output_type": "stream",
     "text": [
      "总进度:  17%|█▋        | 1698/9719 [03:23<16:32,  8.08it/s, 出错=170]"
     ]
    },
    {
     "name": "stdout",
     "output_type": "stream",
     "text": [
      "警告: ../Data/03/21307130052_03_10.dat 语音段太短(128采样点)，填充至512采样点\n"
     ]
    },
    {
     "name": "stderr",
     "output_type": "stream",
     "text": [
      "总进度:  18%|█▊        | 1714/9719 [03:24<16:30,  8.08it/s, 出错=171]"
     ]
    },
    {
     "name": "stdout",
     "output_type": "stream",
     "text": [
      "警告: ../Data/03/21307130052_03_01.dat 语音段太短(128采样点)，填充至512采样点\n"
     ]
    },
    {
     "name": "stderr",
     "output_type": "stream",
     "text": [
      "总进度:  18%|█▊        | 1723/9719 [03:25<10:04, 13.24it/s, 出错=172]"
     ]
    },
    {
     "name": "stdout",
     "output_type": "stream",
     "text": [
      "警告: ../Data/03/22307130013_03_06.dat 语音段太短(128采样点)，填充至512采样点\n"
     ]
    },
    {
     "name": "stderr",
     "output_type": "stream",
     "text": [
      "总进度:  18%|█▊        | 1732/9719 [03:27<10:46, 12.36it/s, 出错=173]"
     ]
    },
    {
     "name": "stdout",
     "output_type": "stream",
     "text": [
      "警告: ../Data/03/22307130013_03_09.dat 语音段太短(128采样点)，填充至512采样点\n"
     ]
    },
    {
     "name": "stderr",
     "output_type": "stream",
     "text": [
      "总进度:  18%|█▊        | 1736/9719 [03:28<12:16, 10.84it/s, 出错=174]"
     ]
    },
    {
     "name": "stdout",
     "output_type": "stream",
     "text": [
      "警告: ../Data/03/22307130038_03_20.dat 语音段太短(128采样点)，填充至512采样点\n"
     ]
    },
    {
     "name": "stderr",
     "output_type": "stream",
     "text": [
      "总进度:  18%|█▊        | 1744/9719 [03:28<13:15, 10.02it/s, 出错=175]"
     ]
    },
    {
     "name": "stdout",
     "output_type": "stream",
     "text": [
      "警告: ../Data/03/22307130038_03_16.dat 语音段太短(128采样点)，填充至512采样点\n"
     ]
    },
    {
     "name": "stderr",
     "output_type": "stream",
     "text": [
      "总进度:  18%|█▊        | 1754/9719 [03:29<11:28, 11.57it/s, 出错=176]"
     ]
    },
    {
     "name": "stdout",
     "output_type": "stream",
     "text": [
      "警告: ../Data/03/21307130052_03_18.dat 语音段太短(128采样点)，填充至512采样点\n"
     ]
    },
    {
     "name": "stderr",
     "output_type": "stream",
     "text": [
      "总进度:  18%|█▊        | 1761/9719 [03:30<10:54, 12.15it/s, 出错=177]"
     ]
    },
    {
     "name": "stdout",
     "output_type": "stream",
     "text": [
      "警告: ../Data/03/22307130038_03_17.dat 语音段太短(128采样点)，填充至512采样点\n"
     ]
    },
    {
     "name": "stderr",
     "output_type": "stream",
     "text": [
      "总进度:  18%|█▊        | 1776/9719 [03:31<12:33, 10.54it/s, 出错=180]"
     ]
    },
    {
     "name": "stdout",
     "output_type": "stream",
     "text": [
      "警告: ../Data/03/22307130038_03_06.dat 语音段太短(128采样点)，填充至512采样点\n",
      "警告: ../Data/03/22307130013_03_10.dat 语音段太短(128采样点)，填充至512采样点\n",
      "警告: ../Data/03/21307130052_03_12.dat 语音段太短(128采样点)，填充至512采样点\n"
     ]
    },
    {
     "name": "stderr",
     "output_type": "stream",
     "text": [
      "总进度:  19%|█▊        | 1806/9719 [03:34<10:21, 12.73it/s, 出错=181]"
     ]
    },
    {
     "name": "stdout",
     "output_type": "stream",
     "text": [
      "警告: ../Data/03/21307130052_03_03.dat 语音段太短(128采样点)，填充至512采样点\n"
     ]
    },
    {
     "name": "stderr",
     "output_type": "stream",
     "text": [
      "总进度:  19%|█▊        | 1809/9719 [03:35<08:49, 14.94it/s, 出错=182]"
     ]
    },
    {
     "name": "stdout",
     "output_type": "stream",
     "text": [
      "警告: ../Data/03/22307130038_03_18.dat 语音段太短(128采样点)，填充至512采样点\n"
     ]
    },
    {
     "name": "stderr",
     "output_type": "stream",
     "text": [
      "总进度:  19%|█▊        | 1815/9719 [03:35<12:18, 10.70it/s, 出错=183]"
     ]
    },
    {
     "name": "stdout",
     "output_type": "stream",
     "text": [
      "警告: ../Data/03/22307130013_03_12.dat 语音段太短(128采样点)，填充至512采样点\n"
     ]
    },
    {
     "name": "stderr",
     "output_type": "stream",
     "text": [
      "总进度:  19%|█▉        | 1834/9719 [03:38<15:22,  8.55it/s, 出错=184]"
     ]
    },
    {
     "name": "stdout",
     "output_type": "stream",
     "text": [
      "警告: ../Data/03/21307130150-03-06.dat 语音段太短(128采样点)，填充至512采样点\n"
     ]
    },
    {
     "name": "stderr",
     "output_type": "stream",
     "text": [
      "总进度:  19%|█▉        | 1838/9719 [03:44<2:06:29,  1.04it/s, 出错=185]"
     ]
    },
    {
     "name": "stdout",
     "output_type": "stream",
     "text": [
      "警告: ../Data/03/21307130052_03_09.dat 语音段太短(128采样点)，填充至512采样点\n"
     ]
    },
    {
     "name": "stderr",
     "output_type": "stream",
     "text": [
      "总进度:  19%|█▉        | 1855/9719 [03:39<2:06:13,  1.04it/s, 出错=187]"
     ]
    },
    {
     "name": "stdout",
     "output_type": "stream",
     "text": [
      "警告: ../Data/03/21307130150-03-15.dat 语音段太短(128采样点)，填充至512采样点\n",
      "警告: ../Data/03/22307130013_03_19.dat 语音段太短(128采样点)，填充至512采样点\n"
     ]
    },
    {
     "name": "stderr",
     "output_type": "stream",
     "text": [
      "总进度:  19%|█▉        | 1865/9719 [03:41<2:06:03,  1.04it/s, 出错=188]"
     ]
    },
    {
     "name": "stdout",
     "output_type": "stream",
     "text": [
      "警告: ../Data/03/22307130013_03_15.dat 语音段太短(128采样点)，填充至512采样点\n"
     ]
    },
    {
     "name": "stderr",
     "output_type": "stream",
     "text": [
      "总进度:  19%|█▉        | 1875/9719 [03:43<2:05:54,  1.04it/s, 出错=189]"
     ]
    },
    {
     "name": "stdout",
     "output_type": "stream",
     "text": [
      "警告: ../Data/03/21307130150-03-20.dat 语音段太短(128采样点)，填充至512采样点\n"
     ]
    },
    {
     "name": "stderr",
     "output_type": "stream",
     "text": [
      "总进度:  19%|█▉        | 1891/9719 [03:45<27:12,  4.79it/s, 出错=191]  "
     ]
    },
    {
     "name": "stdout",
     "output_type": "stream",
     "text": [
      "警告: ../Data/03/21307130150-03-18.dat 语音段太短(128采样点)，填充至512采样点\n",
      "警告: ../Data/03/21307130150-03-17.dat 语音段太短(128采样点)，填充至512采样点\n"
     ]
    },
    {
     "name": "stderr",
     "output_type": "stream",
     "text": [
      "总进度:  20%|█▉        | 1897/9719 [03:46<27:11,  4.79it/s, 出错=192]"
     ]
    },
    {
     "name": "stdout",
     "output_type": "stream",
     "text": [
      "警告: ../Data/03/21307130052_03_17.dat 语音段太短(128采样点)，填充至512采样点\n"
     ]
    },
    {
     "name": "stderr",
     "output_type": "stream",
     "text": [
      "总进度:  20%|█▉        | 1899/9719 [03:46<27:10,  4.79it/s, 出错=193]"
     ]
    },
    {
     "name": "stdout",
     "output_type": "stream",
     "text": [
      "警告: ../Data/03/21307130052_03_16.dat 语音段太短(128采样点)，填充至512采样点\n"
     ]
    },
    {
     "name": "stderr",
     "output_type": "stream",
     "text": [
      "总进度:  20%|█▉        | 1918/9719 [03:48<27:06,  4.79it/s, 出错=194]"
     ]
    },
    {
     "name": "stdout",
     "output_type": "stream",
     "text": [
      "警告: ../Data/03/22307130013_03_13.dat 语音段太短(384采样点)，填充至512采样点\n"
     ]
    },
    {
     "name": "stderr",
     "output_type": "stream",
     "text": [
      "总进度:  20%|█▉        | 1923/9719 [03:49<27:05,  4.79it/s, 出错=196]"
     ]
    },
    {
     "name": "stdout",
     "output_type": "stream",
     "text": [
      "警告: ../Data/03/21307130150-03-13.dat 语音段太短(128采样点)，填充至512采样点\n",
      "警告: ../Data/03/22307130013_03_05.dat 语音段太短(128采样点)，填充至512采样点\n"
     ]
    },
    {
     "name": "stderr",
     "output_type": "stream",
     "text": [
      "总进度:  20%|█▉        | 1934/9719 [03:50<08:43, 14.88it/s, 出错=197]"
     ]
    },
    {
     "name": "stdout",
     "output_type": "stream",
     "text": [
      "警告: ../Data/03/22307130038_03_14.dat 语音段太短(384采样点)，填充至512采样点\n"
     ]
    },
    {
     "name": "stderr",
     "output_type": "stream",
     "text": [
      "总进度:  20%|█▉        | 1937/9719 [03:50<08:43, 14.88it/s, 出错=198]"
     ]
    },
    {
     "name": "stdout",
     "output_type": "stream",
     "text": [
      "警告: ../Data/03/21307130052_03_05.dat 语音段太短(128采样点)，填充至512采样点\n"
     ]
    },
    {
     "name": "stderr",
     "output_type": "stream",
     "text": [
      "总进度:  20%|██        | 1953/9719 [03:51<08:57, 14.45it/s, 出错=199]"
     ]
    },
    {
     "name": "stdout",
     "output_type": "stream",
     "text": [
      "警告: ../Data/03/21307130052_03_20.dat 语音段太短(128采样点)，填充至512采样点\n"
     ]
    },
    {
     "name": "stderr",
     "output_type": "stream",
     "text": [
      "总进度:  21%|██        | 1993/9719 [03:56<1:41:29,  1.27it/s, 出错=200]"
     ]
    },
    {
     "name": "stdout",
     "output_type": "stream",
     "text": [
      "警告: ../Data/03/22307130143_03_10.dat 语音段太短(128采样点)，填充至512采样点\n"
     ]
    },
    {
     "name": "stderr",
     "output_type": "stream",
     "text": [
      "总进度:  21%|██        | 2007/9719 [03:58<1:41:18,  1.27it/s, 出错=201]"
     ]
    },
    {
     "name": "stdout",
     "output_type": "stream",
     "text": [
      "警告: ../Data/03/21307130052_03_08.dat 语音段太短(128采样点)，填充至512采样点\n"
     ]
    },
    {
     "name": "stderr",
     "output_type": "stream",
     "text": [
      "总进度:  21%|██        | 2037/9719 [04:01<24:58,  5.13it/s, 出错=203]  "
     ]
    },
    {
     "name": "stdout",
     "output_type": "stream",
     "text": [
      "警告: ../Data/03/22307130038_03_04.dat 语音段太短(128采样点)，填充至512采样点\n",
      "警告: ../Data/03/21307130052_03_15.dat 语音段太短(128采样点)，填充至512采样点\n"
     ]
    },
    {
     "name": "stderr",
     "output_type": "stream",
     "text": [
      "总进度:  21%|██        | 2043/9719 [04:02<24:57,  5.13it/s, 出错=205]"
     ]
    },
    {
     "name": "stdout",
     "output_type": "stream",
     "text": [
      "警告: ../Data/03/21307130150-03-14.dat 语音段太短(128采样点)，填充至512采样点\n",
      "警告: ../Data/03/22307130013_03_03.dat 语音段太短(128采样点)，填充至512采样点\n"
     ]
    },
    {
     "name": "stderr",
     "output_type": "stream",
     "text": [
      "总进度:  21%|██        | 2047/9719 [04:02<24:56,  5.13it/s, 出错=206]"
     ]
    },
    {
     "name": "stdout",
     "output_type": "stream",
     "text": [
      "警告: ../Data/03/22307130038_03_10.dat 语音段太短(128采样点)，填充至512采样点\n"
     ]
    },
    {
     "name": "stderr",
     "output_type": "stream",
     "text": [
      "总进度:  21%|██        | 2050/9719 [04:02<24:56,  5.13it/s, 出错=207]"
     ]
    },
    {
     "name": "stdout",
     "output_type": "stream",
     "text": [
      "警告: ../Data/03/21307130150-03-16.dat 语音段太短(128采样点)，填充至512采样点\n"
     ]
    },
    {
     "name": "stderr",
     "output_type": "stream",
     "text": [
      "总进度:  21%|██▏       | 2073/9719 [04:06<18:27,  6.90it/s, 出错=208]"
     ]
    },
    {
     "name": "stdout",
     "output_type": "stream",
     "text": [
      "警告: ../Data/03/21307130052_03_13.dat 语音段太短(128采样点)，填充至512采样点\n"
     ]
    },
    {
     "name": "stderr",
     "output_type": "stream",
     "text": [
      "总进度:  22%|██▏       | 2093/9719 [04:08<18:24,  6.90it/s, 出错=209]"
     ]
    },
    {
     "name": "stdout",
     "output_type": "stream",
     "text": [
      "警告: ../Data/03/22307130013_03_08.dat 语音段太短(128采样点)，填充至512采样点\n"
     ]
    },
    {
     "name": "stderr",
     "output_type": "stream",
     "text": [
      "总进度:  22%|██▏       | 2112/9719 [04:10<17:51,  7.10it/s, 出错=210]"
     ]
    },
    {
     "name": "stdout",
     "output_type": "stream",
     "text": [
      "警告: ../Data/03/22307130143_03_17.dat 语音段太短(128采样点)，填充至512采样点\n"
     ]
    },
    {
     "name": "stderr",
     "output_type": "stream",
     "text": [
      "总进度:  22%|██▏       | 2116/9719 [04:11<17:50,  7.10it/s, 出错=211]"
     ]
    },
    {
     "name": "stdout",
     "output_type": "stream",
     "text": [
      "警告: ../Data/03/21307130052_03_02.dat 语音段太短(128采样点)，填充至512采样点\n"
     ]
    },
    {
     "name": "stderr",
     "output_type": "stream",
     "text": [
      "总进度:  22%|██▏       | 2121/9719 [04:11<17:50,  7.10it/s, 出错=212]"
     ]
    },
    {
     "name": "stdout",
     "output_type": "stream",
     "text": [
      "警告: ../Data/03/22307130038_03_01.dat 语音段太短(128采样点)，填充至512采样点\n"
     ]
    },
    {
     "name": "stderr",
     "output_type": "stream",
     "text": [
      "总进度:  22%|██▏       | 2127/9719 [04:12<17:49,  7.10it/s, 出错=213]"
     ]
    },
    {
     "name": "stdout",
     "output_type": "stream",
     "text": [
      "警告: ../Data/03/22307130038_03_12.dat 语音段太短(128采样点)，填充至512采样点\n"
     ]
    },
    {
     "name": "stderr",
     "output_type": "stream",
     "text": [
      "总进度:  22%|██▏       | 2132/9719 [04:12<17:48,  7.10it/s, 出错=214]"
     ]
    },
    {
     "name": "stdout",
     "output_type": "stream",
     "text": [
      "警告: ../Data/03/22307130013_03_14.dat 语音段太短(128采样点)，填充至512采样点\n"
     ]
    },
    {
     "name": "stderr",
     "output_type": "stream",
     "text": [
      "总进度:  22%|██▏       | 2159/9719 [04:15<16:10,  7.79it/s, 出错=214]"
     ]
    },
    {
     "name": "stdout",
     "output_type": "stream",
     "text": [
      "正在处理类别 '中国' (540个文件)...\n"
     ]
    },
    {
     "name": "stderr",
     "output_type": "stream",
     "text": [
      "总进度:  22%|██▏       | 2164/9719 [04:16<16:09,  7.79it/s, 出错=215]"
     ]
    },
    {
     "name": "stdout",
     "output_type": "stream",
     "text": [
      "警告: ../Data/04/22307130038_04_07.dat 语音段太短(128采样点)，填充至512采样点\n"
     ]
    },
    {
     "name": "stderr",
     "output_type": "stream",
     "text": [
      "总进度:  22%|██▏       | 2168/9719 [04:16<16:09,  7.79it/s, 出错=216]"
     ]
    },
    {
     "name": "stdout",
     "output_type": "stream",
     "text": [
      "警告: ../Data/04/22307130013_04_15.dat 语音段太短(128采样点)，填充至512采样点\n"
     ]
    },
    {
     "name": "stderr",
     "output_type": "stream",
     "text": [
      "总进度:  23%|██▎       | 2195/9719 [04:21<10:31, 11.91it/s, 出错=218]"
     ]
    },
    {
     "name": "stdout",
     "output_type": "stream",
     "text": [
      "警告: ../Data/04/22307130038_04_18.dat 语音段太短(128采样点)，填充至512采样点\n",
      "警告: ../Data/04/22307130013_04_02.dat 语音段太短(128采样点)，填充至512采样点\n"
     ]
    },
    {
     "name": "stderr",
     "output_type": "stream",
     "text": [
      "总进度:  23%|██▎       | 2210/9719 [04:23<12:01, 10.41it/s, 出错=219]"
     ]
    },
    {
     "name": "stdout",
     "output_type": "stream",
     "text": [
      "警告: ../Data/04/22307130013_04_09.dat 语音段太短(128采样点)，填充至512采样点\n"
     ]
    },
    {
     "name": "stderr",
     "output_type": "stream",
     "text": [
      "总进度:  23%|██▎       | 2234/9719 [04:26<1:25:58,  1.45it/s, 出错=220]"
     ]
    },
    {
     "name": "stdout",
     "output_type": "stream",
     "text": [
      "警告: ../Data/04/21307130052_04_16.dat 语音段太短(128采样点)，填充至512采样点\n"
     ]
    },
    {
     "name": "stderr",
     "output_type": "stream",
     "text": [
      "总进度:  23%|██▎       | 2243/9719 [04:27<1:25:52,  1.45it/s, 出错=221]"
     ]
    },
    {
     "name": "stdout",
     "output_type": "stream",
     "text": [
      "警告: ../Data/04/22307130013_04_03.dat 语音段太短(128采样点)，填充至512采样点\n"
     ]
    },
    {
     "name": "stderr",
     "output_type": "stream",
     "text": [
      "总进度:  23%|██▎       | 2255/9719 [04:28<1:25:43,  1.45it/s, 出错=223]"
     ]
    },
    {
     "name": "stdout",
     "output_type": "stream",
     "text": [
      "警告: ../Data/04/21307130150-04-04.dat 语音段太短(128采样点)，填充至512采样点\n",
      "警告: ../Data/04/22307130038_04_14.dat 语音段太短(128采样点)，填充至512采样点\n"
     ]
    },
    {
     "name": "stderr",
     "output_type": "stream",
     "text": [
      "总进度:  23%|██▎       | 2263/9719 [04:29<27:12,  4.57it/s, 出错=224]  "
     ]
    },
    {
     "name": "stdout",
     "output_type": "stream",
     "text": [
      "警告: ../Data/04/21307130052_04_03.dat 语音段太短(128采样点)，填充至512采样点\n"
     ]
    },
    {
     "name": "stderr",
     "output_type": "stream",
     "text": [
      "总进度:  24%|██▎       | 2295/9719 [04:33<22:31,  5.49it/s, 出错=226]"
     ]
    },
    {
     "name": "stdout",
     "output_type": "stream",
     "text": [
      "警告: ../Data/04/22307130013_04_16.dat 语音段太短(128采样点)，填充至512采样点\n",
      "警告: ../Data/04/21307130052_04_19.dat 语音段太短(128采样点)，填充至512采样点\n"
     ]
    },
    {
     "name": "stderr",
     "output_type": "stream",
     "text": [
      "总进度:  24%|██▎       | 2299/9719 [04:34<14:45,  8.38it/s, 出错=226]\n"
     ]
    },
    {
     "ename": "KeyboardInterrupt",
     "evalue": "",
     "output_type": "error",
     "traceback": [
      "\u001b[31m---------------------------------------------------------------------------\u001b[39m",
      "\u001b[31mKeyboardInterrupt\u001b[39m                         Traceback (most recent call last)",
      "\u001b[36mCell\u001b[39m\u001b[36m \u001b[39m\u001b[32mIn[26]\u001b[39m\u001b[32m, line 4\u001b[39m\n\u001b[32m      1\u001b[39m classes = [\u001b[33m\"\u001b[39m\u001b[33m数字\u001b[39m\u001b[33m\"\u001b[39m, \u001b[33m\"\u001b[39m\u001b[33m语音\u001b[39m\u001b[33m\"\u001b[39m, \u001b[33m\"\u001b[39m\u001b[33m语言\u001b[39m\u001b[33m\"\u001b[39m, \u001b[33m\"\u001b[39m\u001b[33m处理\u001b[39m\u001b[33m\"\u001b[39m, \u001b[33m\"\u001b[39m\u001b[33m中国\u001b[39m\u001b[33m\"\u001b[39m, \u001b[33m\"\u001b[39m\u001b[33m忠告\u001b[39m\u001b[33m\"\u001b[39m, \u001b[33m\"\u001b[39m\u001b[33m北京\u001b[39m\u001b[33m\"\u001b[39m, \u001b[33m\"\u001b[39m\u001b[33m背景\u001b[39m\u001b[33m\"\u001b[39m, \u001b[33m\"\u001b[39m\u001b[33m上海\u001b[39m\u001b[33m\"\u001b[39m, \n\u001b[32m      2\u001b[39m               \u001b[33m\"\u001b[39m\u001b[33mSpeech\u001b[39m\u001b[33m\"\u001b[39m, \u001b[33m\"\u001b[39m\u001b[33mSpeaker\u001b[39m\u001b[33m\"\u001b[39m, \u001b[33m\"\u001b[39m\u001b[33mSignal\u001b[39m\u001b[33m\"\u001b[39m, \u001b[33m\"\u001b[39m\u001b[33mSequence\u001b[39m\u001b[33m\"\u001b[39m, \u001b[33m\"\u001b[39m\u001b[33mProcessing\u001b[39m\u001b[33m\"\u001b[39m, \u001b[33m\"\u001b[39m\u001b[33mPrint\u001b[39m\u001b[33m\"\u001b[39m, \u001b[33m\"\u001b[39m\u001b[33mProject\u001b[39m\u001b[33m\"\u001b[39m, \u001b[33m\"\u001b[39m\u001b[33mFile\u001b[39m\u001b[33m\"\u001b[39m, \u001b[33m\"\u001b[39m\u001b[33mOpen\u001b[39m\u001b[33m\"\u001b[39m]\n\u001b[32m----> \u001b[39m\u001b[32m4\u001b[39m features, labels = \u001b[43mprepareData\u001b[49m\u001b[43m(\u001b[49m\u001b[33;43m'\u001b[39;49m\u001b[33;43m../Data\u001b[39;49m\u001b[33;43m'\u001b[39;49m\u001b[43m,\u001b[49m\u001b[43m \u001b[49m\u001b[43mclasses\u001b[49m\u001b[43m)\u001b[49m\n",
      "\u001b[36mCell\u001b[39m\u001b[36m \u001b[39m\u001b[32mIn[25]\u001b[39m\u001b[32m, line 74\u001b[39m, in \u001b[36mprepareData\u001b[39m\u001b[34m(base_dir, classes)\u001b[39m\n\u001b[32m     72\u001b[39m filepath = os.path.join(class_dir, filename)\n\u001b[32m     73\u001b[39m \u001b[38;5;28;01mtry\u001b[39;00m:\n\u001b[32m---> \u001b[39m\u001b[32m74\u001b[39m     feature = \u001b[43mextractFeature\u001b[49m\u001b[43m(\u001b[49m\u001b[43mfilepath\u001b[49m\u001b[43m)\u001b[49m\n\u001b[32m     75\u001b[39m     \u001b[38;5;28;01mif\u001b[39;00m feature \u001b[38;5;129;01mis\u001b[39;00m \u001b[38;5;129;01mnot\u001b[39;00m \u001b[38;5;28;01mNone\u001b[39;00m:\n\u001b[32m     76\u001b[39m         features.append(feature)\n",
      "\u001b[36mCell\u001b[39m\u001b[36m \u001b[39m\u001b[32mIn[24]\u001b[39m\u001b[32m, line 29\u001b[39m, in \u001b[36mextractFeature\u001b[39m\u001b[34m(audio_file, sr, win)\u001b[39m\n\u001b[32m     21\u001b[39m     \u001b[38;5;28;01mreturn\u001b[39;00m \u001b[38;5;28;01mNone\u001b[39;00m\n\u001b[32m     23\u001b[39m \u001b[38;5;66;03m# print(\"Start time:\", start)\u001b[39;00m\n\u001b[32m     24\u001b[39m \u001b[38;5;66;03m# print(\"End time:\", end)\u001b[39;00m\n\u001b[32m     25\u001b[39m \u001b[38;5;66;03m# print(\"Segment Num:\", len(segments))\u001b[39;00m\n\u001b[32m     26\u001b[39m \u001b[38;5;66;03m# print(\"-\" * 20)\u001b[39;00m\n\u001b[32m     27\u001b[39m \n\u001b[32m     28\u001b[39m \u001b[38;5;66;03m# 提取MFCC特征\u001b[39;00m\n\u001b[32m---> \u001b[39m\u001b[32m29\u001b[39m mfcc_feature = \u001b[43mcomputeMFCC\u001b[49m\u001b[43m(\u001b[49m\u001b[43my_speech\u001b[49m\u001b[43m,\u001b[49m\u001b[43m \u001b[49m\u001b[43msr\u001b[49m\u001b[43m,\u001b[49m\u001b[43m \u001b[49m\u001b[43mwin\u001b[49m\u001b[43m,\u001b[49m\u001b[43m \u001b[49m\u001b[43mD\u001b[49m\u001b[43m=\u001b[49m\u001b[32;43m13\u001b[39;49m\u001b[43m,\u001b[49m\u001b[43m \u001b[49m\u001b[43mM\u001b[49m\u001b[43m=\u001b[49m\u001b[32;43m26\u001b[39;49m\u001b[43m)\u001b[49m\n\u001b[32m     31\u001b[39m mfcc_mean = np.mean(mfcc_feature, axis=\u001b[32m1\u001b[39m)\n\u001b[32m     32\u001b[39m mfcc_std = np.std(mfcc_feature, axis=\u001b[32m1\u001b[39m)\n",
      "\u001b[36mFile \u001b[39m\u001b[32m~/DSP/PJ/dsp.py:119\u001b[39m, in \u001b[36mcomputeMFCC\u001b[39m\u001b[34m(y, sr, N, D, M)\u001b[39m\n\u001b[32m    116\u001b[39m y_ = preEmphasis(y)\n\u001b[32m    118\u001b[39m \u001b[38;5;66;03m# 分帧 + STFT\u001b[39;00m\n\u001b[32m--> \u001b[39m\u001b[32m119\u001b[39m spec = \u001b[43mSTFT\u001b[49m\u001b[43m(\u001b[49m\u001b[43my_\u001b[49m\u001b[43m,\u001b[49m\u001b[43m \u001b[49m\u001b[43msr\u001b[49m\u001b[43m,\u001b[49m\u001b[43m \u001b[49m\u001b[43mN\u001b[49m\u001b[43m,\u001b[49m\u001b[43m \u001b[49m\u001b[43mN\u001b[49m\u001b[43m/\u001b[49m\u001b[43m/\u001b[49m\u001b[32;43m2\u001b[39;49m\u001b[43m)\u001b[49m                \u001b[38;5;66;03m# (频率, 窗口)\u001b[39;00m\n\u001b[32m    121\u001b[39m \u001b[38;5;66;03m# 转换为功率谱\u001b[39;00m\n\u001b[32m    122\u001b[39m power_spec = np.square(spec) / N            \u001b[38;5;66;03m# (频率, 窗口)\u001b[39;00m\n",
      "\u001b[36mFile \u001b[39m\u001b[32m~/DSP/PJ/dsp.py:62\u001b[39m, in \u001b[36mSTFT\u001b[39m\u001b[34m(y, sr, win, step)\u001b[39m\n\u001b[32m     59\u001b[39m stft = []\n\u001b[32m     60\u001b[39m \u001b[38;5;28;01mfor\u001b[39;00m frame \u001b[38;5;129;01min\u001b[39;00m frames:\n\u001b[32m     61\u001b[39m     \u001b[38;5;66;03m# 计算 FFT\u001b[39;00m\n\u001b[32m---> \u001b[39m\u001b[32m62\u001b[39m     fft = \u001b[43mFFT\u001b[49m\u001b[43m(\u001b[49m\u001b[43mframe\u001b[49m\u001b[43m)\u001b[49m\n\u001b[32m     63\u001b[39m     stft.append(np.abs(fft[:win // \u001b[32m2\u001b[39m + \u001b[32m1\u001b[39m])) \u001b[38;5;66;03m# 幅值取绝对值，只关心正频率\u001b[39;00m\n\u001b[32m     65\u001b[39m \u001b[38;5;66;03m# 转置为 (频率, 时间) 形式\u001b[39;00m\n",
      "\u001b[36mFile \u001b[39m\u001b[32m~/DSP/PJ/dsp.py:31\u001b[39m, in \u001b[36mFFT\u001b[39m\u001b[34m(x)\u001b[39m\n\u001b[32m     28\u001b[39m     \u001b[38;5;28;01mreturn\u001b[39;00m x\n\u001b[32m     30\u001b[39m \u001b[38;5;66;03m# X(k) = G(k) + e^(-2πk/N) H(k)\u001b[39;00m\n\u001b[32m---> \u001b[39m\u001b[32m31\u001b[39m G = \u001b[43mFFT\u001b[49m\u001b[43m(\u001b[49m\u001b[43mx\u001b[49m\u001b[43m[\u001b[49m\u001b[32;43m0\u001b[39;49m\u001b[43m:\u001b[49m\u001b[43m:\u001b[49m\u001b[32;43m2\u001b[39;49m\u001b[43m]\u001b[49m\u001b[43m)\u001b[49m     \u001b[38;5;66;03m# g(r) = x(2r)\u001b[39;00m\n\u001b[32m     32\u001b[39m H = FFT(x[\u001b[32m1\u001b[39m::\u001b[32m2\u001b[39m])      \u001b[38;5;66;03m# h(r) = x(2r+1)\u001b[39;00m\n\u001b[32m     34\u001b[39m \u001b[38;5;66;03m# 旋转因子列表\u001b[39;00m\n\u001b[32m     35\u001b[39m \u001b[38;5;66;03m# W1, W2, ..., W(N/2-1)\u001b[39;00m\n",
      "\u001b[36mFile \u001b[39m\u001b[32m~/DSP/PJ/dsp.py:31\u001b[39m, in \u001b[36mFFT\u001b[39m\u001b[34m(x)\u001b[39m\n\u001b[32m     28\u001b[39m     \u001b[38;5;28;01mreturn\u001b[39;00m x\n\u001b[32m     30\u001b[39m \u001b[38;5;66;03m# X(k) = G(k) + e^(-2πk/N) H(k)\u001b[39;00m\n\u001b[32m---> \u001b[39m\u001b[32m31\u001b[39m G = \u001b[43mFFT\u001b[49m\u001b[43m(\u001b[49m\u001b[43mx\u001b[49m\u001b[43m[\u001b[49m\u001b[32;43m0\u001b[39;49m\u001b[43m:\u001b[49m\u001b[43m:\u001b[49m\u001b[32;43m2\u001b[39;49m\u001b[43m]\u001b[49m\u001b[43m)\u001b[49m     \u001b[38;5;66;03m# g(r) = x(2r)\u001b[39;00m\n\u001b[32m     32\u001b[39m H = FFT(x[\u001b[32m1\u001b[39m::\u001b[32m2\u001b[39m])      \u001b[38;5;66;03m# h(r) = x(2r+1)\u001b[39;00m\n\u001b[32m     34\u001b[39m \u001b[38;5;66;03m# 旋转因子列表\u001b[39;00m\n\u001b[32m     35\u001b[39m \u001b[38;5;66;03m# W1, W2, ..., W(N/2-1)\u001b[39;00m\n",
      "\u001b[36mFile \u001b[39m\u001b[32m~/DSP/PJ/dsp.py:32\u001b[39m, in \u001b[36mFFT\u001b[39m\u001b[34m(x)\u001b[39m\n\u001b[32m     30\u001b[39m \u001b[38;5;66;03m# X(k) = G(k) + e^(-2πk/N) H(k)\u001b[39;00m\n\u001b[32m     31\u001b[39m G = FFT(x[\u001b[32m0\u001b[39m::\u001b[32m2\u001b[39m])     \u001b[38;5;66;03m# g(r) = x(2r)\u001b[39;00m\n\u001b[32m---> \u001b[39m\u001b[32m32\u001b[39m H = \u001b[43mFFT\u001b[49m\u001b[43m(\u001b[49m\u001b[43mx\u001b[49m\u001b[43m[\u001b[49m\u001b[32;43m1\u001b[39;49m\u001b[43m:\u001b[49m\u001b[43m:\u001b[49m\u001b[32;43m2\u001b[39;49m\u001b[43m]\u001b[49m\u001b[43m)\u001b[49m      \u001b[38;5;66;03m# h(r) = x(2r+1)\u001b[39;00m\n\u001b[32m     34\u001b[39m \u001b[38;5;66;03m# 旋转因子列表\u001b[39;00m\n\u001b[32m     35\u001b[39m \u001b[38;5;66;03m# W1, W2, ..., W(N/2-1)\u001b[39;00m\n\u001b[32m     36\u001b[39m W = np.exp(-\u001b[32m2\u001b[39mj * np.pi * np.arange(N // \u001b[32m2\u001b[39m) / N)\n",
      "\u001b[36mFile \u001b[39m\u001b[32m~/DSP/PJ/dsp.py:31\u001b[39m, in \u001b[36mFFT\u001b[39m\u001b[34m(x)\u001b[39m\n\u001b[32m     28\u001b[39m     \u001b[38;5;28;01mreturn\u001b[39;00m x\n\u001b[32m     30\u001b[39m \u001b[38;5;66;03m# X(k) = G(k) + e^(-2πk/N) H(k)\u001b[39;00m\n\u001b[32m---> \u001b[39m\u001b[32m31\u001b[39m G = \u001b[43mFFT\u001b[49m\u001b[43m(\u001b[49m\u001b[43mx\u001b[49m\u001b[43m[\u001b[49m\u001b[32;43m0\u001b[39;49m\u001b[43m:\u001b[49m\u001b[43m:\u001b[49m\u001b[32;43m2\u001b[39;49m\u001b[43m]\u001b[49m\u001b[43m)\u001b[49m     \u001b[38;5;66;03m# g(r) = x(2r)\u001b[39;00m\n\u001b[32m     32\u001b[39m H = FFT(x[\u001b[32m1\u001b[39m::\u001b[32m2\u001b[39m])      \u001b[38;5;66;03m# h(r) = x(2r+1)\u001b[39;00m\n\u001b[32m     34\u001b[39m \u001b[38;5;66;03m# 旋转因子列表\u001b[39;00m\n\u001b[32m     35\u001b[39m \u001b[38;5;66;03m# W1, W2, ..., W(N/2-1)\u001b[39;00m\n",
      "\u001b[36mFile \u001b[39m\u001b[32m~/DSP/PJ/dsp.py:32\u001b[39m, in \u001b[36mFFT\u001b[39m\u001b[34m(x)\u001b[39m\n\u001b[32m     30\u001b[39m \u001b[38;5;66;03m# X(k) = G(k) + e^(-2πk/N) H(k)\u001b[39;00m\n\u001b[32m     31\u001b[39m G = FFT(x[\u001b[32m0\u001b[39m::\u001b[32m2\u001b[39m])     \u001b[38;5;66;03m# g(r) = x(2r)\u001b[39;00m\n\u001b[32m---> \u001b[39m\u001b[32m32\u001b[39m H = \u001b[43mFFT\u001b[49m\u001b[43m(\u001b[49m\u001b[43mx\u001b[49m\u001b[43m[\u001b[49m\u001b[32;43m1\u001b[39;49m\u001b[43m:\u001b[49m\u001b[43m:\u001b[49m\u001b[32;43m2\u001b[39;49m\u001b[43m]\u001b[49m\u001b[43m)\u001b[49m      \u001b[38;5;66;03m# h(r) = x(2r+1)\u001b[39;00m\n\u001b[32m     34\u001b[39m \u001b[38;5;66;03m# 旋转因子列表\u001b[39;00m\n\u001b[32m     35\u001b[39m \u001b[38;5;66;03m# W1, W2, ..., W(N/2-1)\u001b[39;00m\n\u001b[32m     36\u001b[39m W = np.exp(-\u001b[32m2\u001b[39mj * np.pi * np.arange(N // \u001b[32m2\u001b[39m) / N)\n",
      "\u001b[36mFile \u001b[39m\u001b[32m~/DSP/PJ/dsp.py:32\u001b[39m, in \u001b[36mFFT\u001b[39m\u001b[34m(x)\u001b[39m\n\u001b[32m     30\u001b[39m \u001b[38;5;66;03m# X(k) = G(k) + e^(-2πk/N) H(k)\u001b[39;00m\n\u001b[32m     31\u001b[39m G = FFT(x[\u001b[32m0\u001b[39m::\u001b[32m2\u001b[39m])     \u001b[38;5;66;03m# g(r) = x(2r)\u001b[39;00m\n\u001b[32m---> \u001b[39m\u001b[32m32\u001b[39m H = \u001b[43mFFT\u001b[49m\u001b[43m(\u001b[49m\u001b[43mx\u001b[49m\u001b[43m[\u001b[49m\u001b[32;43m1\u001b[39;49m\u001b[43m:\u001b[49m\u001b[43m:\u001b[49m\u001b[32;43m2\u001b[39;49m\u001b[43m]\u001b[49m\u001b[43m)\u001b[49m      \u001b[38;5;66;03m# h(r) = x(2r+1)\u001b[39;00m\n\u001b[32m     34\u001b[39m \u001b[38;5;66;03m# 旋转因子列表\u001b[39;00m\n\u001b[32m     35\u001b[39m \u001b[38;5;66;03m# W1, W2, ..., W(N/2-1)\u001b[39;00m\n\u001b[32m     36\u001b[39m W = np.exp(-\u001b[32m2\u001b[39mj * np.pi * np.arange(N // \u001b[32m2\u001b[39m) / N)\n",
      "\u001b[36mFile \u001b[39m\u001b[32m~/DSP/PJ/dsp.py:36\u001b[39m, in \u001b[36mFFT\u001b[39m\u001b[34m(x)\u001b[39m\n\u001b[32m     32\u001b[39m H = FFT(x[\u001b[32m1\u001b[39m::\u001b[32m2\u001b[39m])      \u001b[38;5;66;03m# h(r) = x(2r+1)\u001b[39;00m\n\u001b[32m     34\u001b[39m \u001b[38;5;66;03m# 旋转因子列表\u001b[39;00m\n\u001b[32m     35\u001b[39m \u001b[38;5;66;03m# W1, W2, ..., W(N/2-1)\u001b[39;00m\n\u001b[32m---> \u001b[39m\u001b[32m36\u001b[39m W = np.exp(-\u001b[32m2\u001b[39mj * np.pi * \u001b[43mnp\u001b[49m\u001b[43m.\u001b[49m\u001b[43marange\u001b[49m\u001b[43m(\u001b[49m\u001b[43mN\u001b[49m\u001b[43m \u001b[49m\u001b[43m/\u001b[49m\u001b[43m/\u001b[49m\u001b[43m \u001b[49m\u001b[32;43m2\u001b[39;49m\u001b[43m)\u001b[49m / N)\n\u001b[32m     38\u001b[39m \u001b[38;5;66;03m# \u001b[39;00m\n\u001b[32m     39\u001b[39m X = np.zeros(N, dtype=\u001b[38;5;28mcomplex\u001b[39m)\n",
      "\u001b[31mKeyboardInterrupt\u001b[39m: "
     ]
    }
   ],
   "source": [
    "classes = [\"数字\", \"语音\", \"语言\", \"处理\", \"中国\", \"忠告\", \"北京\", \"背景\", \"上海\", \n",
    "              \"Speech\", \"Speaker\", \"Signal\", \"Sequence\", \"Processing\", \"Print\", \"Project\", \"File\", \"Open\"]\n",
    "\n",
    "features, labels = prepareData('../Data', classes)\n"
   ]
  }
 ],
 "metadata": {
  "kernelspec": {
   "display_name": "base",
   "language": "python",
   "name": "python3"
  },
  "language_info": {
   "name": "python",
   "version": "3.12.9"
  }
 },
 "nbformat": 4,
 "nbformat_minor": 5
}
